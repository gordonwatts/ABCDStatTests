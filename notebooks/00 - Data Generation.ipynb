{
 "cells": [
  {
   "cell_type": "markdown",
   "metadata": {},
   "source": [
    "# Data Generation\n",
    "\n",
    "This notebook is an experiment in generating data for these experiments.\n",
    "\n",
    "Goals:\n",
    "\n",
    "- Need data for background and signal\n",
    "- Generate 5 variables\n",
    "- Each variable has some discrimination in background and signal\n",
    "- No variable is correlated with any other variable (future: make correlation explicit)\n",
    "\n",
    "Would be good to be able to generate an arbitrary number of these variables.\n",
    "\n",
    "## Setup"
   ]
  },
  {
   "cell_type": "code",
   "execution_count": 1,
   "metadata": {},
   "outputs": [],
   "source": [
    "import sys\n",
    "sys.path += ['../abcdlib']\n",
    "from write_and_run import write_and_run"
   ]
  },
  {
   "cell_type": "code",
   "execution_count": 2,
   "metadata": {},
   "outputs": [],
   "source": [
    "%%write_and_run ../abcdlib/data_gen.py\n",
    "# Setup for the script file we are writeing\n",
    "# WARNING: this is an auto generated file, do not modify, run Data Generation notebook instead!\n",
    "import numpy as np\n",
    "import pandas as pd"
   ]
  },
  {
   "cell_type": "code",
   "execution_count": 3,
   "metadata": {},
   "outputs": [],
   "source": [
    "# Setup for this notebook\n",
    "import matplotlib.pyplot as plt\n",
    "import seaborn as sns"
   ]
  },
  {
   "cell_type": "markdown",
   "metadata": {},
   "source": [
    "## Generation\n",
    "\n",
    "Generate a certian number of variables as needed, and place them in a signal and background pandas data table."
   ]
  },
  {
   "cell_type": "code",
   "execution_count": 4,
   "metadata": {},
   "outputs": [],
   "source": [
    "%%write_and_run -a ../abcdlib/data_gen.py\n",
    "def generate_gaussian(nvar: int, center: float, n_samples=1000) -> pd.DataFrame:\n",
    "    'Generate gaussian with width one centered as center'\n",
    "    data = {\n",
    "        f'var{i}': np.random.normal(loc=center, size=n_samples)\n",
    "        for i in range(nvar)\n",
    "    }\n",
    "    return pd.DataFrame(data)"
   ]
  },
  {
   "cell_type": "code",
   "execution_count": 5,
   "metadata": {},
   "outputs": [],
   "source": [
    "%%write_and_run -a ../abcdlib/data_gen.py\n",
    "def combine(signal: pd.DataFrame, background: pd.DataFrame):\n",
    "    'Combine signal and background'\n",
    "    new_s = pd.DataFrame(signal)\n",
    "    new_s['isSignal'] = 1.0\n",
    "    new_b = pd.DataFrame(background)\n",
    "    new_b['isSignal'] = 0.0\n",
    "    both = pd.concat((new_s, new_b))\n",
    "    both.reset_index(drop=True, inplace=True)\n",
    "    return both"
   ]
  },
  {
   "cell_type": "code",
   "execution_count": 6,
   "metadata": {},
   "outputs": [],
   "source": [
    "signal = generate_gaussian(2, 2.0)\n",
    "background = generate_gaussian(2, 1.0)\n",
    "both = combine(signal, background)"
   ]
  },
  {
   "cell_type": "code",
   "execution_count": 7,
   "metadata": {},
   "outputs": [
    {
     "data": {
      "text/html": [
       "<div>\n",
       "<style scoped>\n",
       "    .dataframe tbody tr th:only-of-type {\n",
       "        vertical-align: middle;\n",
       "    }\n",
       "\n",
       "    .dataframe tbody tr th {\n",
       "        vertical-align: top;\n",
       "    }\n",
       "\n",
       "    .dataframe thead th {\n",
       "        text-align: right;\n",
       "    }\n",
       "</style>\n",
       "<table border=\"1\" class=\"dataframe\">\n",
       "  <thead>\n",
       "    <tr style=\"text-align: right;\">\n",
       "      <th></th>\n",
       "      <th>var0</th>\n",
       "      <th>var1</th>\n",
       "      <th>isSignal</th>\n",
       "    </tr>\n",
       "  </thead>\n",
       "  <tbody>\n",
       "    <tr>\n",
       "      <th>0</th>\n",
       "      <td>2.659638</td>\n",
       "      <td>0.764751</td>\n",
       "      <td>1.0</td>\n",
       "    </tr>\n",
       "    <tr>\n",
       "      <th>1</th>\n",
       "      <td>1.906634</td>\n",
       "      <td>2.435627</td>\n",
       "      <td>1.0</td>\n",
       "    </tr>\n",
       "    <tr>\n",
       "      <th>2</th>\n",
       "      <td>2.002536</td>\n",
       "      <td>1.275563</td>\n",
       "      <td>1.0</td>\n",
       "    </tr>\n",
       "    <tr>\n",
       "      <th>3</th>\n",
       "      <td>3.289588</td>\n",
       "      <td>1.008617</td>\n",
       "      <td>1.0</td>\n",
       "    </tr>\n",
       "    <tr>\n",
       "      <th>4</th>\n",
       "      <td>2.306545</td>\n",
       "      <td>0.712639</td>\n",
       "      <td>1.0</td>\n",
       "    </tr>\n",
       "    <tr>\n",
       "      <th>...</th>\n",
       "      <td>...</td>\n",
       "      <td>...</td>\n",
       "      <td>...</td>\n",
       "    </tr>\n",
       "    <tr>\n",
       "      <th>1995</th>\n",
       "      <td>1.180418</td>\n",
       "      <td>1.337764</td>\n",
       "      <td>0.0</td>\n",
       "    </tr>\n",
       "    <tr>\n",
       "      <th>1996</th>\n",
       "      <td>1.195275</td>\n",
       "      <td>0.938822</td>\n",
       "      <td>0.0</td>\n",
       "    </tr>\n",
       "    <tr>\n",
       "      <th>1997</th>\n",
       "      <td>0.871226</td>\n",
       "      <td>1.246470</td>\n",
       "      <td>0.0</td>\n",
       "    </tr>\n",
       "    <tr>\n",
       "      <th>1998</th>\n",
       "      <td>2.108307</td>\n",
       "      <td>0.703958</td>\n",
       "      <td>0.0</td>\n",
       "    </tr>\n",
       "    <tr>\n",
       "      <th>1999</th>\n",
       "      <td>1.287371</td>\n",
       "      <td>0.098671</td>\n",
       "      <td>0.0</td>\n",
       "    </tr>\n",
       "  </tbody>\n",
       "</table>\n",
       "<p>2000 rows × 3 columns</p>\n",
       "</div>"
      ],
      "text/plain": [
       "          var0      var1  isSignal\n",
       "0     2.659638  0.764751       1.0\n",
       "1     1.906634  2.435627       1.0\n",
       "2     2.002536  1.275563       1.0\n",
       "3     3.289588  1.008617       1.0\n",
       "4     2.306545  0.712639       1.0\n",
       "...        ...       ...       ...\n",
       "1995  1.180418  1.337764       0.0\n",
       "1996  1.195275  0.938822       0.0\n",
       "1997  0.871226  1.246470       0.0\n",
       "1998  2.108307  0.703958       0.0\n",
       "1999  1.287371  0.098671       0.0\n",
       "\n",
       "[2000 rows x 3 columns]"
      ]
     },
     "execution_count": 7,
     "metadata": {},
     "output_type": "execute_result"
    }
   ],
   "source": [
    "both"
   ]
  },
  {
   "cell_type": "code",
   "execution_count": 8,
   "metadata": {},
   "outputs": [
    {
     "data": {
      "image/png": "[encoded data removed]",
      "text/plain": [
       "<Figure size 432x288 with 1 Axes>"
      ]
     },
     "metadata": {
      "needs_background": "light"
     },
     "output_type": "display_data"
    },
    {
     "data": {
      "image/png": "[encoded data removed]",
      "text/plain": [
       "<Figure size 432x288 with 1 Axes>"
      ]
     },
     "metadata": {
      "needs_background": "light"
     },
     "output_type": "display_data"
    }
   ],
   "source": [
    "for c in both.columns:\n",
    "    if 'isSignal' != c:\n",
    "        sns.histplot(data=both, x=c, hue='isSignal')\n",
    "        plt.show()"
   ]
  },
  {
   "cell_type": "markdown",
   "metadata": {},
   "source": [
    "## Check output file"
   ]
  },
  {
   "cell_type": "code",
   "execution_count": 9,
   "metadata": {},
   "outputs": [],
   "source": [
    "import data_gen"
   ]
  }
 ],
 "metadata": {
  "kernelspec": {
   "display_name": "Python 3",
   "language": "python",
   "name": "python3"
  },
  "language_info": {
   "codemirror_mode": {
    "name": "ipython",
    "version": 3
   },
   "file_extension": ".py",
   "mimetype": "text/x-python",
   "name": "python",
   "nbconvert_exporter": "python",
   "pygments_lexer": "ipython3",
   "version": "3.7.7"
  }
 },
 "nbformat": 4,
 "nbformat_minor": 4
}
