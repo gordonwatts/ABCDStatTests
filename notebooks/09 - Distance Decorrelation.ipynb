{
 "cells": [
  {
   "cell_type": "markdown",
   "metadata": {},
   "source": [
    "# Distance Decorrelation\n",
    "\n",
    "The page [2007.14400](https://arxiv.org/abs/2007.14400) uses a distance decorrelation to solve the problem we are having. It is non-trival to calculate, however (at least for me), so this is a notebook about calculating it.\n",
    "\n",
    "From the paper the calculation is the following:\n",
    "\n",
    "$\n",
    "dCov^2 = <|f-f'|\\times|g-g'|> - <|f-f'|>\\times<|g-g'|> - 2<|f-f'|\\times|g-g''|>\n",
    "$\n",
    "\n",
    "where:\n",
    "\n",
    "- $f,f'$ are drawn from the first variable distribution\n",
    "- $g,g',g''$ are drwan from the second variable distribution.\n",
    "\n",
    "If one things of these in terms of sums, then $f-f'$ is $f_i - f_j$ for all $i,j$. And $g-g''$ is for all $i,k$ - that expression is teh tripple.\n",
    "\n",
    "And the distance coorelation is:\n",
    "\n",
    "$\n",
    "disCo^2 = \\frac{dCor^2[f,g]}{dCor[f,f]dCor[g,g]}\n",
    "$"
   ]
  },
  {
   "cell_type": "markdown",
   "metadata": {},
   "source": [
    "## Setup"
   ]
  },
  {
   "cell_type": "code",
   "execution_count": 1,
   "metadata": {},
   "outputs": [],
   "source": [
    "import numpy as np\n",
    "import sys\n",
    "import matplotlib.pyplot as plt"
   ]
  },
  {
   "cell_type": "code",
   "execution_count": 2,
   "metadata": {},
   "outputs": [],
   "source": [
    "n_samples = 100"
   ]
  },
  {
   "cell_type": "markdown",
   "metadata": {},
   "source": [
    "## Exploring\n",
    "\n",
    "Here we figure out how to build up a function that will calculate this. First, lets get two distributions, $f$ and $g$ for this. We'll make them simple gaussians with slightly different means and widths"
   ]
  },
  {
   "cell_type": "code",
   "execution_count": 3,
   "metadata": {},
   "outputs": [],
   "source": [
    "f = np.random.normal(loc=1.0, size=n_samples)\n",
    "g = np.random.normal(loc=1.5, size=n_samples)"
   ]
  },
  {
   "cell_type": "code",
   "execution_count": 4,
   "metadata": {},
   "outputs": [
    {
     "data": {
      "text/plain": [
       "<matplotlib.collections.PathCollection at 0x7f56d3e62390>"
      ]
     },
     "execution_count": 4,
     "metadata": {},
     "output_type": "execute_result"
    },
    {
     "data": {
      "image/png": "[encoded data removed]",
      "text/plain": [
       "<Figure size 432x288 with 1 Axes>"
      ]
     },
     "metadata": {
      "needs_background": "light"
     },
     "output_type": "display_data"
    }
   ],
   "source": [
    "plt.scatter(f,g)"
   ]
  },
  {
   "cell_type": "markdown",
   "metadata": {},
   "source": [
    "### $<f-f'>$\n",
    "\n",
    "This is like the [`numpy.outter`](https://numpy.org/doc/stable/reference/generated/numpy.ufunc.outer.html#numpy.ufunc.outer) call."
   ]
  },
  {
   "cell_type": "code",
   "execution_count": 5,
   "metadata": {},
   "outputs": [],
   "source": [
    "A = [1, 2, 3]\n",
    "B = [2, 3, 4]"
   ]
  },
  {
   "cell_type": "code",
   "execution_count": 6,
   "metadata": {},
   "outputs": [
    {
     "data": {
      "text/plain": [
       "array([[-1, -2, -3],\n",
       "       [ 0, -1, -2],\n",
       "       [ 1,  0, -1]])"
      ]
     },
     "execution_count": 6,
     "metadata": {},
     "output_type": "execute_result"
    }
   ],
   "source": [
    "rows = np.subtract.outer(A, B)\n",
    "rows"
   ]
  },
  {
   "cell_type": "markdown",
   "metadata": {},
   "source": [
    "This does `A[0] - B`, then `A[1] - B`, and then `A[2] - B`. Each elemnt is a $f_i - f_j$ - so we just need the mean now, which is the expectation value:"
   ]
  },
  {
   "cell_type": "code",
   "execution_count": 7,
   "metadata": {},
   "outputs": [
    {
     "data": {
      "text/plain": [
       "-1.0"
      ]
     },
     "execution_count": 7,
     "metadata": {},
     "output_type": "execute_result"
    }
   ],
   "source": [
    "np.mean(rows)"
   ]
  },
  {
   "cell_type": "markdown",
   "metadata": {},
   "source": [
    "Putting it all together:"
   ]
  },
  {
   "cell_type": "code",
   "execution_count": 8,
   "metadata": {},
   "outputs": [
    {
     "data": {
      "text/plain": [
       "-1.0"
      ]
     },
     "execution_count": 8,
     "metadata": {},
     "output_type": "execute_result"
    }
   ],
   "source": [
    "np.mean(np.subtract.outer(A,B))"
   ]
  },
  {
   "cell_type": "markdown",
   "metadata": {},
   "source": [
    "And for the initial distributions:"
   ]
  },
  {
   "cell_type": "code",
   "execution_count": 9,
   "metadata": {},
   "outputs": [
    {
     "data": {
      "text/plain": [
       "0.8888888888888888"
      ]
     },
     "execution_count": 9,
     "metadata": {},
     "output_type": "execute_result"
    }
   ],
   "source": [
    "def single_0(a):\n",
    "    return np.mean(np.abs(np.subtract.outer(a,a)))\n",
    "\n",
    "single_0(A)"
   ]
  },
  {
   "cell_type": "markdown",
   "metadata": {},
   "source": [
    "What about for the same objects, which is $f-f'$?"
   ]
  },
  {
   "cell_type": "code",
   "execution_count": 10,
   "metadata": {},
   "outputs": [
    {
     "data": {
      "text/plain": [
       "0.0"
      ]
     },
     "execution_count": 10,
     "metadata": {},
     "output_type": "execute_result"
    }
   ],
   "source": [
    "np.mean(np.subtract.outer(A,A))"
   ]
  },
  {
   "cell_type": "code",
   "execution_count": 11,
   "metadata": {},
   "outputs": [
    {
     "data": {
      "text/plain": [
       "1.2343308663472303"
      ]
     },
     "execution_count": 11,
     "metadata": {},
     "output_type": "execute_result"
    }
   ],
   "source": [
    "single_0(f)"
   ]
  },
  {
   "cell_type": "code",
   "execution_count": 12,
   "metadata": {},
   "outputs": [
    {
     "data": {
      "text/plain": [
       "1.1843260126051394"
      ]
     },
     "execution_count": 12,
     "metadata": {},
     "output_type": "execute_result"
    }
   ],
   "source": [
    "single_0(g)"
   ]
  },
  {
   "cell_type": "markdown",
   "metadata": {},
   "source": [
    "Those really small numbers make me nervous - we will have to divide by them in the end, won't we?"
   ]
  },
  {
   "cell_type": "markdown",
   "metadata": {},
   "source": [
    "Lets try with argmesh as a check - that will explicitly do the calculation."
   ]
  },
  {
   "cell_type": "code",
   "execution_count": 13,
   "metadata": {},
   "outputs": [
    {
     "data": {
      "text/plain": [
       "(array([[0, 1, 2],\n",
       "        [0, 1, 2],\n",
       "        [0, 1, 2]]), array([[0, 0, 0],\n",
       "        [1, 1, 1],\n",
       "        [2, 2, 2]]))"
      ]
     },
     "execution_count": 13,
     "metadata": {},
     "output_type": "execute_result"
    }
   ],
   "source": [
    "A_all_combo, B_all_combo = np.meshgrid(np.arange(0,len(A)),np.arange(0,len(B)), sparse=False)\n",
    "A_all_combo, B_all_combo"
   ]
  },
  {
   "cell_type": "code",
   "execution_count": 14,
   "metadata": {},
   "outputs": [
    {
     "data": {
      "text/plain": [
       "(array([[1, 2, 3],\n",
       "        [1, 2, 3],\n",
       "        [1, 2, 3]]), array([[2, 2, 2],\n",
       "        [3, 3, 3],\n",
       "        [4, 4, 4]]))"
      ]
     },
     "execution_count": 14,
     "metadata": {},
     "output_type": "execute_result"
    }
   ],
   "source": [
    "np.take(A, A_all_combo), np.take(B, B_all_combo)"
   ]
  },
  {
   "cell_type": "code",
   "execution_count": 15,
   "metadata": {},
   "outputs": [
    {
     "data": {
      "text/plain": [
       "(0.8888888888888888, 1.2343308663472303, 1.1843260126051394)"
      ]
     },
     "execution_count": 15,
     "metadata": {},
     "output_type": "execute_result"
    }
   ],
   "source": [
    "def single_1(a):\n",
    "    all_combo_i, all_combo_j = np.meshgrid(np.arange(0,len(a)), np.arange(0,len(a)), sparse=True)\n",
    "    a_i = np.take(a, all_combo_i)\n",
    "    a_j = np.take(a, all_combo_j)\n",
    "    return np.mean(np.abs(a_i - a_j))\n",
    "\n",
    "single_1(A), single_1(f), single_1(g)"
   ]
  },
  {
   "cell_type": "markdown",
   "metadata": {},
   "source": [
    "We'll use the `outer` form as it uses a lot less memory than the `meshgrid` form."
   ]
  },
  {
   "cell_type": "code",
   "execution_count": 16,
   "metadata": {},
   "outputs": [],
   "source": [
    "single = single_0"
   ]
  },
  {
   "cell_type": "markdown",
   "metadata": {},
   "source": [
    "### $<|f-f'|\\times|g-g'|>$\n",
    "\n",
    "This is hard because we have to keep the same combination going here. So outer, as we were using above, doesn't make as much sense. However, we can take advantage of the fact that the way `outer` works the are the same."
   ]
  },
  {
   "cell_type": "code",
   "execution_count": 17,
   "metadata": {},
   "outputs": [
    {
     "data": {
      "text/plain": [
       "(array([[ 0, -1, -2],\n",
       "        [ 1,  0, -1],\n",
       "        [ 2,  1,  0]]), array([[ 0, -1, -2],\n",
       "        [ 1,  0, -1],\n",
       "        [ 2,  1,  0]]))"
      ]
     },
     "execution_count": 17,
     "metadata": {},
     "output_type": "execute_result"
    }
   ],
   "source": [
    "A_sub = np.subtract.outer(A,A)\n",
    "B_sub = np.subtract.outer(B,B)\n",
    "A_sub, B_sub"
   ]
  },
  {
   "cell_type": "code",
   "execution_count": 18,
   "metadata": {},
   "outputs": [
    {
     "data": {
      "text/plain": [
       "array([[0, 1, 4],\n",
       "       [1, 0, 1],\n",
       "       [4, 1, 0]])"
      ]
     },
     "execution_count": 18,
     "metadata": {},
     "output_type": "execute_result"
    }
   ],
   "source": [
    "A_sub*B_sub"
   ]
  },
  {
   "cell_type": "code",
   "execution_count": 19,
   "metadata": {},
   "outputs": [
    {
     "data": {
      "text/plain": [
       "1.3333333333333333"
      ]
     },
     "execution_count": 19,
     "metadata": {},
     "output_type": "execute_result"
    }
   ],
   "source": [
    "np.mean(np.abs(A_sub*B_sub))"
   ]
  },
  {
   "cell_type": "code",
   "execution_count": 20,
   "metadata": {},
   "outputs": [
    {
     "data": {
      "text/plain": [
       "1.3333333333333333"
      ]
     },
     "execution_count": 20,
     "metadata": {},
     "output_type": "execute_result"
    }
   ],
   "source": [
    "def joint_0(a, b):\n",
    "    return np.mean(np.abs(np.subtract.outer(a,a))*np.abs(np.subtract.outer(b,b)))\n",
    "\n",
    "joint_0(A, B)"
   ]
  },
  {
   "cell_type": "code",
   "execution_count": 21,
   "metadata": {},
   "outputs": [
    {
     "data": {
      "text/plain": [
       "(2.4508735262728383, 2.226604512641982)"
      ]
     },
     "execution_count": 21,
     "metadata": {},
     "output_type": "execute_result"
    }
   ],
   "source": [
    "joint_0(f,f), joint_0(g,g)"
   ]
  },
  {
   "cell_type": "code",
   "execution_count": 22,
   "metadata": {},
   "outputs": [
    {
     "data": {
      "text/plain": [
       "(1.493464338325456, 1.493464338325456)"
      ]
     },
     "execution_count": 22,
     "metadata": {},
     "output_type": "execute_result"
    }
   ],
   "source": [
    "joint_0(f,g),joint_0(g,f)"
   ]
  },
  {
   "cell_type": "markdown",
   "metadata": {},
   "source": [
    "Lets try with `meshgrid` to see if this works out the same."
   ]
  },
  {
   "cell_type": "code",
   "execution_count": 23,
   "metadata": {},
   "outputs": [
    {
     "data": {
      "text/plain": [
       "(1.3333333333333333,\n",
       " 2.4508735262728383,\n",
       " 2.226604512641982,\n",
       " 1.493464338325456,\n",
       " 1.493464338325456)"
      ]
     },
     "execution_count": 23,
     "metadata": {},
     "output_type": "execute_result"
    }
   ],
   "source": [
    "def joint_1(a, b):\n",
    "    all_combo_i, all_combo_j = np.meshgrid(np.arange(0,len(a)), np.arange(0,len(a)), sparse=True)\n",
    "    a_i = np.take(a, all_combo_i)\n",
    "    a_j = np.take(a, all_combo_j)\n",
    "    b_i = np.take(b, all_combo_i)\n",
    "    b_j = np.take(b, all_combo_j)\n",
    "    return np.mean(np.abs((a_i - a_j))*np.abs((b_i - b_j)))\n",
    "\n",
    "joint_1(A, B), joint_1(f,f), joint_1(g,g), joint_1(f,g), joint_1(g,f)"
   ]
  },
  {
   "cell_type": "markdown",
   "metadata": {},
   "source": [
    "We'll use the `outer` form for now as it uses less memory."
   ]
  },
  {
   "cell_type": "code",
   "execution_count": 24,
   "metadata": {},
   "outputs": [],
   "source": [
    "joint=joint_0"
   ]
  },
  {
   "cell_type": "markdown",
   "metadata": {},
   "source": [
    "### $<|f-f'|\\times|g-g''|>$\n",
    "\n",
    "This is the tripple, which is a bit more of a mess as we are dealing with a tripple, and $f$ and $g$ have to be drawn from the same thing.\n",
    "\n",
    "Just in case it has been forgotten, `len(f) == len(g)`.\n",
    "\n",
    "We are looking at the $\\sum |f_i - f_j|\\times|g_i - g_k|$\n",
    "\n",
    "The usual `np.subtract.outer(A,A)` will give us the square matrix of all possible combinations:"
   ]
  },
  {
   "cell_type": "code",
   "execution_count": 25,
   "metadata": {},
   "outputs": [
    {
     "data": {
      "text/plain": [
       "[1, 2, 3]"
      ]
     },
     "execution_count": 25,
     "metadata": {},
     "output_type": "execute_result"
    }
   ],
   "source": [
    "A"
   ]
  },
  {
   "cell_type": "code",
   "execution_count": 26,
   "metadata": {},
   "outputs": [
    {
     "data": {
      "text/plain": [
       "array([[ 0, -1, -2],\n",
       "       [ 1,  0, -1],\n",
       "       [ 2,  1,  0]])"
      ]
     },
     "execution_count": 26,
     "metadata": {},
     "output_type": "execute_result"
    }
   ],
   "source": [
    "np.subtract.outer(A,A)"
   ]
  },
  {
   "cell_type": "code",
   "execution_count": 27,
   "metadata": {},
   "outputs": [
    {
     "data": {
      "text/plain": [
       "array([[ 0, -1, -2],\n",
       "       [ 1,  0, -1],\n",
       "       [ 2,  1,  0]])"
      ]
     },
     "execution_count": 27,
     "metadata": {},
     "output_type": "execute_result"
    }
   ],
   "source": [
    "np.subtract.outer(B,B)"
   ]
  },
  {
   "cell_type": "markdown",
   "metadata": {},
   "source": [
    "If that first row for `A` is $i,j = \\{11, 12, 13\\}$, then it is for $i$ equal to one. So that each element of the first row needs to be multiplied by all the first row in the `B` outer. From `A` we have `[0, -1, -2]` and from `B` we have `[0, -1, -2]` so we should now get `[[0*0, -1*0, -2*0], [0*-1, -1*-1, -2*-1], [0*-2, -1*-2, -2*-2]]`. So this is like another outter. We are expecting 9 rows of three now rather than 3 rows of 3."
   ]
  },
  {
   "cell_type": "code",
   "execution_count": 28,
   "metadata": {},
   "outputs": [
    {
     "data": {
      "text/plain": [
       "array([[0, 0, 0],\n",
       "       [0, 1, 2],\n",
       "       [0, 2, 4]])"
      ]
     },
     "execution_count": 28,
     "metadata": {},
     "output_type": "execute_result"
    }
   ],
   "source": [
    "A_outer = np.subtract.outer(A,A)\n",
    "B_outer = np.subtract.outer(B,B)\n",
    "np.multiply.outer(A_outer[0], B_outer[0])"
   ]
  },
  {
   "cell_type": "code",
   "execution_count": 29,
   "metadata": {},
   "outputs": [
    {
     "data": {
      "text/plain": [
       "(0.8148148148148148,\n",
       " 1.7479525679973023,\n",
       " 1.5950853063719064,\n",
       " 1.4703689724070452,\n",
       " 1.4703689724070441)"
      ]
     },
     "execution_count": 29,
     "metadata": {},
     "output_type": "execute_result"
    }
   ],
   "source": [
    "def tripple_0(a, b):\n",
    "    s = 0.0\n",
    "    count = 0\n",
    "    for i in range(len(a)):\n",
    "        for j in range(len(a)):\n",
    "            ad = a[i] - a[j]\n",
    "            for k in range(len(a)):\n",
    "                bd = b[i] - b[k]\n",
    "                s += abs(ad)*abs(bd)\n",
    "                count += 1\n",
    "\n",
    "    return s/count\n",
    "\n",
    "tripple_0(A, B), tripple_0(f,f), tripple_0(g,g), tripple_0(f,g), tripple_0(g,f)"
   ]
  },
  {
   "cell_type": "markdown",
   "metadata": {},
   "source": [
    "Lets try it with mesh grid and an explicit tripple now."
   ]
  },
  {
   "cell_type": "code",
   "execution_count": 30,
   "metadata": {},
   "outputs": [
    {
     "data": {
      "text/plain": [
       "[array([[[0, 0, 0],\n",
       "         [1, 1, 1],\n",
       "         [2, 2, 2]],\n",
       " \n",
       "        [[0, 0, 0],\n",
       "         [1, 1, 1],\n",
       "         [2, 2, 2]],\n",
       " \n",
       "        [[0, 0, 0],\n",
       "         [1, 1, 1],\n",
       "         [2, 2, 2]]]), array([[[0, 0, 0],\n",
       "         [0, 0, 0],\n",
       "         [0, 0, 0]],\n",
       " \n",
       "        [[1, 1, 1],\n",
       "         [1, 1, 1],\n",
       "         [1, 1, 1]],\n",
       " \n",
       "        [[2, 2, 2],\n",
       "         [2, 2, 2],\n",
       "         [2, 2, 2]]]), array([[[0, 1, 2],\n",
       "         [0, 1, 2],\n",
       "         [0, 1, 2]],\n",
       " \n",
       "        [[0, 1, 2],\n",
       "         [0, 1, 2],\n",
       "         [0, 1, 2]],\n",
       " \n",
       "        [[0, 1, 2],\n",
       "         [0, 1, 2],\n",
       "         [0, 1, 2]]])]"
      ]
     },
     "execution_count": 30,
     "metadata": {},
     "output_type": "execute_result"
    }
   ],
   "source": [
    "np.meshgrid(np.arange(0,len(A)),np.arange(0,len(A)),np.arange(0,len(A)))"
   ]
  },
  {
   "cell_type": "code",
   "execution_count": 31,
   "metadata": {},
   "outputs": [
    {
     "data": {
      "text/plain": [
       "(0.8148148148148148,\n",
       " 1.747952567997188,\n",
       " 1.5950853063719717,\n",
       " 1.470368972407017,\n",
       " 1.4703689724070168)"
      ]
     },
     "execution_count": 31,
     "metadata": {},
     "output_type": "execute_result"
    }
   ],
   "source": [
    "def tripple_1(a, b):\n",
    "    all_combo_i, all_combo_j, all_combo_k = np.meshgrid(np.arange(0,len(a)), np.arange(0,len(a)), np.arange(0,len(a)), sparse=True)\n",
    "    a_i = np.take(a, all_combo_i)\n",
    "    a_j = np.take(a, all_combo_j)\n",
    "    b_i = np.take(b, all_combo_i)\n",
    "    b_k = np.take(b, all_combo_k)\n",
    "    return np.mean(np.abs((a_i - a_j))*np.abs((b_i - b_k)))\n",
    "\n",
    "tripple_1(A, B), tripple_1(f,f), tripple_1(g,g), tripple_1(f,g), tripple_1(g,f)"
   ]
  },
  {
   "cell_type": "markdown",
   "metadata": {},
   "source": [
    "We'll need something better - `tripple_1` works, but it also costs too much memory.\n",
    "\n",
    "1. We can calculate $a-a'$ and $b-b'$ no problem. The times is wierd, We want to multiply all the rows in $a-a'$ by each row in $b-b'$ - so we expect that many more rows we have to sum up."
   ]
  },
  {
   "cell_type": "code",
   "execution_count": 32,
   "metadata": {},
   "outputs": [],
   "source": [
    "A_outer = np.subtract.outer(A,A)\n",
    "B_outer = np.subtract.outer(B,B)"
   ]
  },
  {
   "cell_type": "code",
   "execution_count": 33,
   "metadata": {},
   "outputs": [
    {
     "data": {
      "text/plain": [
       "array([[0, 0, 0],\n",
       "       [0, 1, 2],\n",
       "       [0, 2, 4]])"
      ]
     },
     "execution_count": 33,
     "metadata": {},
     "output_type": "execute_result"
    }
   ],
   "source": [
    "np.multiply.outer(A_outer[0], B_outer[0])"
   ]
  },
  {
   "cell_type": "code",
   "execution_count": 34,
   "metadata": {},
   "outputs": [
    {
     "data": {
      "text/plain": [
       "(0.8148148148148148,\n",
       " 1.747952567997188,\n",
       " 1.5950853063719717,\n",
       " 1.470368972407017,\n",
       " 1.4703689724070168)"
      ]
     },
     "execution_count": 34,
     "metadata": {},
     "output_type": "execute_result"
    }
   ],
   "source": [
    "def tripple_2(a,b):\n",
    "    a_outer = np.abs(np.subtract.outer(a,a))\n",
    "    b_outer = np.abs(np.subtract.outer(b,b))\n",
    "    s = 0.0\n",
    "    for i in range(len(a)):\n",
    "        m = np.multiply.outer(a_outer[i], b_outer[i])\n",
    "        s += np.sum(m)\n",
    "    return s / (len(a)*len(a)*len(a))\n",
    "\n",
    "tripple_1(A, B), tripple_1(f,f), tripple_1(g,g), tripple_1(f,g), tripple_1(g,f)"
   ]
  },
  {
   "cell_type": "markdown",
   "metadata": {},
   "source": [
    "Got some help from iris-hep/slack. Lets try a few more things here. First, here is a method from Nick Smith that works, basically, by use the loops above. Unfortunately, it ends up with 3D temporary variables (inside the mean) - so this is likely not going to work much like meshgrid."
   ]
  },
  {
   "cell_type": "code",
   "execution_count": 35,
   "metadata": {},
   "outputs": [
    {
     "data": {
      "text/plain": [
       "(0.8148148148148148,\n",
       " 1.7479525679971872,\n",
       " 1.5950853063719719,\n",
       " 1.4703689724070181,\n",
       " 1.4703689724070166)"
      ]
     },
     "execution_count": 35,
     "metadata": {},
     "output_type": "execute_result"
    }
   ],
   "source": [
    "np_a = np.array(A)\n",
    "np_b = np.array(B)\n",
    "def tripple_3(a,b):\n",
    "    return np.mean(abs(a[:, None] - a[None,:])[:, :, None] * abs(b[:, None] - b[None,:])[:, None, :])\n",
    "\n",
    "tripple_3(np_a, np_b), tripple_3(f,f), tripple_3(g,g), tripple_3(f,g), tripple_3(g,f)"
   ]
  },
  {
   "cell_type": "markdown",
   "metadata": {},
   "source": [
    "Next - lets look at the einstein sum. This is from Giordon and then Nick."
   ]
  },
  {
   "cell_type": "code",
   "execution_count": 36,
   "metadata": {},
   "outputs": [
    {
     "data": {
      "text/plain": [
       "(0.8148148148148148,\n",
       " 1.7479525679971801,\n",
       " 1.59508530637197,\n",
       " 1.470368972407011,\n",
       " 1.4703689724070088)"
      ]
     },
     "execution_count": 36,
     "metadata": {},
     "output_type": "execute_result"
    }
   ],
   "source": [
    "def tripple_4(a,b):\n",
    "    s = np.einsum(\"ij,ik->\", abs(a[:, None] - a[None, :]), abs(b[:, None] - b[None, :]))\n",
    "    return s / len(a)**3\n",
    "\n",
    "tripple_4(np_a, np_b), tripple_4(f,f), tripple_4(g,g), tripple_4(f,g), tripple_4(g,f)"
   ]
  },
  {
   "cell_type": "code",
   "execution_count": 69,
   "metadata": {},
   "outputs": [
    {
     "data": {
      "text/plain": [
       "(0.8148148148148148,\n",
       " 1.7479525679971877,\n",
       " 1.5950853063719719,\n",
       " 1.4703689724070175,\n",
       " 1.4703689724070175)"
      ]
     },
     "execution_count": 69,
     "metadata": {},
     "output_type": "execute_result"
    }
   ],
   "source": [
    "def tripple_5(a, b):\n",
    "    l = len(a)\n",
    "    a_m = np.array([a]*l)\n",
    "    b_m = np.array([b]*l)\n",
    "    a_mt = a_m.transpose()\n",
    "    b_mt = b_m.transpose()\n",
    "    ad = abs(a_m - a_mt)\n",
    "    bd = abs(b_m - b_mt)\n",
    "    return np.sum(np.matmul(ad,bd))/(l*l*l)\n",
    "\n",
    "tripple_5(np_a, np_b), tripple_5(f,f), tripple_5(g,g), tripple_5(f,g), tripple_5(g,f)"
   ]
  },
  {
   "cell_type": "code",
   "execution_count": 70,
   "metadata": {},
   "outputs": [
    {
     "data": {
      "text/plain": [
       "(0.8148148148148148,\n",
       " 1.7479525679971877,\n",
       " 1.5950853063719719,\n",
       " 1.4703689724070175,\n",
       " 1.4703689724070175)"
      ]
     },
     "execution_count": 70,
     "metadata": {},
     "output_type": "execute_result"
    }
   ],
   "source": [
    "def tripple_6(a,b):\n",
    "    # Matrix multiply but with Nick's notation triggering the transpose.\n",
    "    a_outer = abs(a[:, None] - a[None, :])\n",
    "    b_outer = abs(b[:, None] - b[None, :])\n",
    "    \n",
    "    return np.sum(np.matmul(a_outer,b_outer))/(len(a)**3)\n",
    "\n",
    "tripple_6(np_a, np_b), tripple_6(f,f), tripple_6(g,g), tripple_6(f,g), tripple_6(g,f)"
   ]
  },
  {
   "cell_type": "markdown",
   "metadata": {},
   "source": [
    "Lets time these to see who works the best. Recall:\n",
    "\n",
    "- tripple_0 - Python loops only\n",
    "- tripple_1 - Meshgrid ($n^3$ arrays, so not possible in production)\n",
    "- tripple_2 - Outter sum, with python loop to sum each row\n",
    "- tripple_3 - Nick Smith's outter sum with numpy each row, but has $n^3$ temproraries, so not possible in production\n",
    "- tripple_4 - Giordon & Nick's Einstien summation using `numpy`'s support of the notation (how cool is that!?)\n",
    "- tripple_5 - David Lange's matrix multiplcation example\n",
    "- tripple_6 - Use Nick's outter multiplication, combined with David's matrix multiply."
   ]
  },
  {
   "cell_type": "code",
   "execution_count": 72,
   "metadata": {},
   "outputs": [
    {
     "name": "stdout",
     "output_type": "stream",
     "text": [
      "685 ms ± 7.4 ms per loop (mean ± std. dev. of 7 runs, 1 loop each)\n"
     ]
    }
   ],
   "source": [
    "%timeit tripple_0(f,g)"
   ]
  },
  {
   "cell_type": "code",
   "execution_count": 73,
   "metadata": {},
   "outputs": [
    {
     "name": "stdout",
     "output_type": "stream",
     "text": [
      "2.11 ms ± 54.1 µs per loop (mean ± std. dev. of 7 runs, 100 loops each)\n"
     ]
    }
   ],
   "source": [
    "%timeit tripple_1(f,g)"
   ]
  },
  {
   "cell_type": "code",
   "execution_count": 74,
   "metadata": {},
   "outputs": [
    {
     "name": "stdout",
     "output_type": "stream",
     "text": [
      "2.42 ms ± 25.9 µs per loop (mean ± std. dev. of 7 runs, 100 loops each)\n"
     ]
    }
   ],
   "source": [
    "%timeit tripple_2(f,g)"
   ]
  },
  {
   "cell_type": "code",
   "execution_count": 75,
   "metadata": {},
   "outputs": [
    {
     "name": "stdout",
     "output_type": "stream",
     "text": [
      "1.92 ms ± 60.5 µs per loop (mean ± std. dev. of 7 runs, 100 loops each)\n"
     ]
    }
   ],
   "source": [
    "%timeit tripple_3(f,g)"
   ]
  },
  {
   "cell_type": "code",
   "execution_count": 76,
   "metadata": {},
   "outputs": [
    {
     "name": "stdout",
     "output_type": "stream",
     "text": [
      "657 µs ± 5.04 µs per loop (mean ± std. dev. of 7 runs, 1000 loops each)\n"
     ]
    }
   ],
   "source": [
    "%timeit tripple_4(f,g)"
   ]
  },
  {
   "cell_type": "code",
   "execution_count": 77,
   "metadata": {},
   "outputs": [
    {
     "name": "stdout",
     "output_type": "stream",
     "text": [
      "167 µs ± 2.55 µs per loop (mean ± std. dev. of 7 runs, 10000 loops each)\n"
     ]
    }
   ],
   "source": [
    "%timeit tripple_5(f,g)"
   ]
  },
  {
   "cell_type": "code",
   "execution_count": 78,
   "metadata": {},
   "outputs": [
    {
     "name": "stdout",
     "output_type": "stream",
     "text": [
      "101 µs ± 1.8 µs per loop (mean ± std. dev. of 7 runs, 10000 loops each)\n"
     ]
    }
   ],
   "source": [
    "%timeit tripple_6(f,g)"
   ]
  },
  {
   "cell_type": "markdown",
   "metadata": {},
   "source": [
    "Use `tripple_5` from the results above"
   ]
  },
  {
   "cell_type": "code",
   "execution_count": 44,
   "metadata": {},
   "outputs": [],
   "source": [
    "tripple = tripple_5"
   ]
  },
  {
   "cell_type": "markdown",
   "metadata": {},
   "source": [
    "### Distance Covarience\n",
    "\n",
    "Now we can do the covar 2"
   ]
  },
  {
   "cell_type": "code",
   "execution_count": 45,
   "metadata": {},
   "outputs": [
    {
     "data": {
      "text/plain": [
       "0.4938271604938269"
      ]
     },
     "execution_count": 45,
     "metadata": {},
     "output_type": "execute_result"
    }
   ],
   "source": [
    "def dcov2(a,b):\n",
    "    return joint(a,b) + single(a)*single(b) - 2*tripple(a,b)\n",
    "\n",
    "dcov2(np_a, np_b)"
   ]
  },
  {
   "cell_type": "code",
   "execution_count": 46,
   "metadata": {},
   "outputs": [
    {
     "data": {
      "text/plain": [
       "0.014576546687883774"
      ]
     },
     "execution_count": 46,
     "metadata": {},
     "output_type": "execute_result"
    }
   ],
   "source": [
    "dcov2(f,g)"
   ]
  },
  {
   "cell_type": "markdown",
   "metadata": {},
   "source": [
    "## Distance Coherrence"
   ]
  },
  {
   "cell_type": "code",
   "execution_count": 47,
   "metadata": {},
   "outputs": [
    {
     "data": {
      "text/plain": [
       "1.0"
      ]
     },
     "execution_count": 47,
     "metadata": {},
     "output_type": "execute_result"
    }
   ],
   "source": [
    "def dis_co2(a,b):\n",
    "    return dcov2(a,b)/np.sqrt(dcov2(a,a)*dcov2(b,b))\n",
    "\n",
    "dis_co2(np_a, np_b)"
   ]
  },
  {
   "cell_type": "code",
   "execution_count": 48,
   "metadata": {},
   "outputs": [
    {
     "data": {
      "text/plain": [
       "0.03180036527749577"
      ]
     },
     "execution_count": 48,
     "metadata": {},
     "output_type": "execute_result"
    }
   ],
   "source": [
    "dis_co2(f,g)"
   ]
  },
  {
   "cell_type": "markdown",
   "metadata": {},
   "source": [
    "Lets see how it behaves when we have a correlated distribution"
   ]
  },
  {
   "cell_type": "code",
   "execution_count": 49,
   "metadata": {},
   "outputs": [],
   "source": [
    "ar = np.random.multivariate_normal((1.0, 1.0), ((1.0, 0.5), (0.5, 1.0)), 1000)\n",
    "ar_a = ar[:,0]\n",
    "ar_b = ar[:,1]"
   ]
  },
  {
   "cell_type": "code",
   "execution_count": 50,
   "metadata": {},
   "outputs": [
    {
     "data": {
      "text/plain": [
       "<matplotlib.collections.PathCollection at 0x7f56d2132090>"
      ]
     },
     "execution_count": 50,
     "metadata": {},
     "output_type": "execute_result"
    },
    {
     "data": {
      "image/png": "[encoded data removed]",
      "text/plain": [
       "<Figure size 432x288 with 1 Axes>"
      ]
     },
     "metadata": {
      "needs_background": "light"
     },
     "output_type": "display_data"
    }
   ],
   "source": [
    "plt.scatter(ar_a, ar_b)"
   ]
  },
  {
   "cell_type": "code",
   "execution_count": 51,
   "metadata": {},
   "outputs": [],
   "source": [
    "def dist_co_for_correlation(c):\n",
    "    ar = np.random.multivariate_normal((1.0, 1.0), ((1.0, c), (c, 1.0)), 1000)\n",
    "    ar_a = ar[:,0]\n",
    "    ar_b = ar[:,1]\n",
    "    return dis_co2(ar_a, ar_b)"
   ]
  },
  {
   "cell_type": "code",
   "execution_count": 52,
   "metadata": {},
   "outputs": [
    {
     "data": {
      "text/plain": [
       "0.003925562975353841"
      ]
     },
     "execution_count": 52,
     "metadata": {},
     "output_type": "execute_result"
    }
   ],
   "source": [
    "dist_co_for_correlation(0.0)"
   ]
  },
  {
   "cell_type": "code",
   "execution_count": 53,
   "metadata": {},
   "outputs": [
    {
     "data": {
      "text/plain": [
       "0.1977827315319322"
      ]
     },
     "execution_count": 53,
     "metadata": {},
     "output_type": "execute_result"
    }
   ],
   "source": [
    "dist_co_for_correlation(0.5)"
   ]
  },
  {
   "cell_type": "code",
   "execution_count": 54,
   "metadata": {},
   "outputs": [
    {
     "data": {
      "text/plain": [
       "0.17476316766542327"
      ]
     },
     "execution_count": 54,
     "metadata": {},
     "output_type": "execute_result"
    }
   ],
   "source": [
    "dist_co_for_correlation(-0.5)"
   ]
  },
  {
   "cell_type": "code",
   "execution_count": 55,
   "metadata": {},
   "outputs": [],
   "source": [
    "cor_values = np.linspace(-1.0, 1.0, 20)"
   ]
  },
  {
   "cell_type": "code",
   "execution_count": 56,
   "metadata": {},
   "outputs": [
    {
     "data": {
      "text/plain": [
       "array([-1.        , -0.89473684, -0.78947368, -0.68421053, -0.57894737,\n",
       "       -0.47368421, -0.36842105, -0.26315789, -0.15789474, -0.05263158,\n",
       "        0.05263158,  0.15789474,  0.26315789,  0.36842105,  0.47368421,\n",
       "        0.57894737,  0.68421053,  0.78947368,  0.89473684,  1.        ])"
      ]
     },
     "execution_count": 56,
     "metadata": {},
     "output_type": "execute_result"
    }
   ],
   "source": [
    "cor_values"
   ]
  },
  {
   "cell_type": "code",
   "execution_count": 57,
   "metadata": {},
   "outputs": [],
   "source": [
    "disco2_values = np.vectorize(dist_co_for_correlation)(cor_values)"
   ]
  },
  {
   "cell_type": "code",
   "execution_count": 58,
   "metadata": {},
   "outputs": [
    {
     "data": {
      "text/plain": [
       "array([1.        , 0.72804182, 0.57549983, 0.38934593, 0.26015426,\n",
       "       0.17708459, 0.08651345, 0.07062348, 0.01431189, 0.00498212,\n",
       "       0.00360581, 0.01504634, 0.04149523, 0.13172029, 0.17874038,\n",
       "       0.26172041, 0.44343322, 0.56769429, 0.76497245, 1.        ])"
      ]
     },
     "execution_count": 58,
     "metadata": {},
     "output_type": "execute_result"
    }
   ],
   "source": [
    "disco2_values"
   ]
  },
  {
   "cell_type": "code",
   "execution_count": 59,
   "metadata": {},
   "outputs": [
    {
     "data": {
      "text/plain": [
       "<matplotlib.collections.PathCollection at 0x7f56c9cc1690>"
      ]
     },
     "execution_count": 59,
     "metadata": {},
     "output_type": "execute_result"
    },
    {
     "data": {
      "image/png": "[encoded data removed]",
      "text/plain": [
       "<Figure size 432x288 with 1 Axes>"
      ]
     },
     "metadata": {
      "needs_background": "light"
     },
     "output_type": "display_data"
    }
   ],
   "source": [
    "plt.scatter(cor_values, disco2_values)"
   ]
  },
  {
   "cell_type": "markdown",
   "metadata": {},
   "source": [
    "While this appears to work - one problem is that it takes a very very long time. There is something inefficient about how this calculation is being done in the numpy world. Given the next step is to convert to pytorch I'm not sure how worth it is to understanding this carefully."
   ]
  },
  {
   "cell_type": "markdown",
   "metadata": {},
   "source": [
    "## Test previous results\n",
    "\n",
    "Notbook 05 produced some data. Lets see how this works on that."
   ]
  },
  {
   "cell_type": "code",
   "execution_count": 60,
   "metadata": {},
   "outputs": [],
   "source": [
    "d_05 = np.load('../data/05-uncorrelated.npy')"
   ]
  },
  {
   "cell_type": "code",
   "execution_count": 61,
   "metadata": {},
   "outputs": [
    {
     "data": {
      "text/plain": [
       "array([[-0.06109393,  0.38407397],\n",
       "       [ 0.7047014 , -0.05185229],\n",
       "       [ 0.09847283,  0.33896816],\n",
       "       ...,\n",
       "       [ 0.4046232 ,  0.09910244],\n",
       "       [ 0.12403584,  0.18464816],\n",
       "       [-0.06221867,  0.3196321 ]], dtype=float32)"
      ]
     },
     "execution_count": 61,
     "metadata": {},
     "output_type": "execute_result"
    }
   ],
   "source": [
    "d_05"
   ]
  },
  {
   "cell_type": "code",
   "execution_count": 62,
   "metadata": {},
   "outputs": [
    {
     "data": {
      "text/plain": [
       "<matplotlib.collections.PathCollection at 0x7f56c9c40d50>"
      ]
     },
     "execution_count": 62,
     "metadata": {},
     "output_type": "execute_result"
    },
    {
     "data": {
      "image/png": "[encoded data removed]",
      "text/plain": [
       "<Figure size 432x288 with 1 Axes>"
      ]
     },
     "metadata": {
      "needs_background": "light"
     },
     "output_type": "display_data"
    }
   ],
   "source": [
    "plt.scatter(d_05[:,0], d_05[:,1])"
   ]
  },
  {
   "cell_type": "markdown",
   "metadata": {},
   "source": [
    "Calculate the pearson correlation coeff"
   ]
  },
  {
   "cell_type": "code",
   "execution_count": 63,
   "metadata": {},
   "outputs": [
    {
     "data": {
      "text/plain": [
       "-0.030241012191696153"
      ]
     },
     "execution_count": 63,
     "metadata": {},
     "output_type": "execute_result"
    }
   ],
   "source": [
    "def calc_r(prediction):\n",
    "    mean = np.mean(prediction, axis=0)\n",
    "    std_dev = np.std(prediction, axis=0)\n",
    "    parts = (prediction - mean)\n",
    "    sum = np.sum(parts[:,0]*parts[:,1])\n",
    "    return sum / std_dev[0] / std_dev[1] / (prediction.shape[0]-1)\n",
    "\n",
    "calc_r(d_05)"
   ]
  },
  {
   "cell_type": "code",
   "execution_count": 64,
   "metadata": {},
   "outputs": [
    {
     "name": "stdout",
     "output_type": "stream",
     "text": [
      "CPU times: user 18.7 s, sys: 8.66 s, total: 27.4 s\n",
      "Wall time: 12.5 s\n"
     ]
    },
    {
     "data": {
      "text/plain": [
       "0.2797824856448131"
      ]
     },
     "execution_count": 64,
     "metadata": {},
     "output_type": "execute_result"
    }
   ],
   "source": [
    "%%time\n",
    "dis_co2(d_05[:,0], d_05[:,1])"
   ]
  },
  {
   "cell_type": "code",
   "execution_count": 65,
   "metadata": {},
   "outputs": [
    {
     "name": "stdout",
     "output_type": "stream",
     "text": [
      "5000\n"
     ]
    }
   ],
   "source": [
    "print(len(d_05))"
   ]
  },
  {
   "cell_type": "code",
   "execution_count": null,
   "metadata": {},
   "outputs": [],
   "source": []
  }
 ],
 "metadata": {
  "kernelspec": {
   "display_name": "Python 3",
   "language": "python",
   "name": "python3"
  },
  "language_info": {
   "codemirror_mode": {
    "name": "ipython",
    "version": 3
   },
   "file_extension": ".py",
   "mimetype": "text/x-python",
   "name": "python",
   "nbconvert_exporter": "python",
   "pygments_lexer": "ipython3",
   "version": "3.7.4"
  }
 },
 "nbformat": 4,
 "nbformat_minor": 4
}
