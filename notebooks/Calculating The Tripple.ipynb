{
 "cells": [
  {
   "cell_type": "markdown",
   "metadata": {},
   "source": [
    "# Calculating A Tripple\n",
    "\n",
    "While attempting to code up the distance correlation metric, I ran into a complex sum-expression that had to be calculated. Implementing it in a way that `numpy` and PyTorch understood wasn't straight forward. So this is a bit of a story behind that... and a riff on why mostly I like array programming, but sometimes I really do not.\n",
    "\n",
    "First the expression. Lets assum we have two lists of numbers, of the same length, `X` and `Y`. We want to calculate the following:\n",
    "\n",
    "$ \\frac{1}{N^3} \\sum \\limits_{i,j,k}^{N,N,N} |(x_i - x_j)||(y_i - y_k)|$\n",
    "\n",
    "where $x_i$ and $y_i$ are elements of the distribution $X$ and $Y$, respectively. Note this is a tripple sum - which is why I call it a tripple."
   ]
  },
  {
   "cell_type": "markdown",
   "metadata": {},
   "source": [
    "## Discussion\n",
    "\n",
    "Looking through these, I'd order the ability to understand what is being done (to my eye) in the following order:\n",
    "\n",
    "1. The math expression above\n",
    "1. The python version\n",
    "1. The numba version (which is basically tied with the python version, with a bit more boiler plate)\n",
    "1. The meshgrid implementation\n",
    "1. All the rest. I put them all in the same bucket becasue they would all take me significant time to unfold what is happening.\n",
    "\n",
    "While I'm _ok_ at working with array programming - sums like this are not normal for me. Which might explain why I have trouble with this - but the notation is horrible. The loops are straight forward.\n",
    "\n",
    "There are of course, other considerations:\n",
    "\n",
    "1. You can't really differentiate through the loop forms. I tried it with `jax` and... it never finishes for these short distributions of 200. This is may end up being a requirement for all analyses, and it will force everyone to move to this array programing when dealing with distributions like this.\n",
    "1. The fastest is still the matrix multiplication - by a long shot - even compared to the `numba` compiled code. I'm guessing this is because some short cuts can be taken for the multiplication. Faster, btw, by x10. Which is a lot. I've not looked into that - but there is no reason one couldn't replicate it in `numba`. Of course, that also makes the code harder to read.\n",
    "\n",
    "In short... array programming reminds me of working with `perl` (often refered to as a write-once language). The `teco` editor as well. I do not know how to make this better given the requirements going forward. But it should sure be nice to find a way."
   ]
  },
  {
   "cell_type": "markdown",
   "metadata": {},
   "source": [
    "## Setup"
   ]
  },
  {
   "cell_type": "markdown",
   "metadata": {},
   "source": [
    "Lets create $X$ and $Y$ as two gaussian distributions."
   ]
  },
  {
   "cell_type": "code",
   "execution_count": 1,
   "metadata": {},
   "outputs": [
    {
     "data": {
      "text/plain": [
       "<matplotlib.collections.PathCollection at 0x7fa03125a3d0>"
      ]
     },
     "execution_count": 1,
     "metadata": {},
     "output_type": "execute_result"
    },
    {
     "data": {
      "image/png": "[encoded data removed]",
      "text/plain": [
       "<Figure size 432x288 with 1 Axes>"
      ]
     },
     "metadata": {
      "needs_background": "light"
     },
     "output_type": "display_data"
    }
   ],
   "source": [
    "import numpy as np\n",
    "import matplotlib.pyplot as plt\n",
    "\n",
    "X = np.random.normal(0.0, 1.0, 200)\n",
    "Y = np.random.normal(1.0, 1.0, 200)\n",
    "\n",
    "plt.scatter(X, Y)"
   ]
  },
  {
   "cell_type": "markdown",
   "metadata": {},
   "source": [
    "## Straight Python\n",
    "\n",
    "This is the most straight forward"
   ]
  },
  {
   "cell_type": "code",
   "execution_count": 2,
   "metadata": {},
   "outputs": [],
   "source": [
    "def tripple_python(a, b):\n",
    "    N = len(a)\n",
    "    s = 0\n",
    "    for i in range(N):\n",
    "        for j in range(N):\n",
    "            t = abs(a[i]-a[j])\n",
    "            for k in range(N):\n",
    "                s += t*abs(b[i]-b[k])\n",
    "    return s/N**3"
   ]
  },
  {
   "cell_type": "code",
   "execution_count": 3,
   "metadata": {},
   "outputs": [
    {
     "name": "stdout",
     "output_type": "stream",
     "text": [
      "4.42 s ± 125 ms per loop (mean ± std. dev. of 7 runs, 1 loop each)\n"
     ]
    }
   ],
   "source": [
    "%timeit tripple_python(X, Y)"
   ]
  },
  {
   "cell_type": "markdown",
   "metadata": {},
   "source": [
    "Obviously, this is not playing ot python's strengths."
   ]
  },
  {
   "cell_type": "markdown",
   "metadata": {},
   "source": [
    "## Using Meshgrid\n",
    "\n",
    "This is the most direct mapping to `numpy` I could think of - create a list of all possible index combinations and then use the `np.take` to pull things appropriately. We also use the `np.mean` to calculate the actual mean.\n",
    "\n",
    "This has a killer disadvantage which means it can't be used in production: the size of the arrays are $N^3$, which will overwhelm memory if the distirbution is of a decent length. So this is an interesting exercise. But..."
   ]
  },
  {
   "cell_type": "code",
   "execution_count": 4,
   "metadata": {},
   "outputs": [],
   "source": [
    "def tripple_mesh(a, b):\n",
    "    all_combo_i, all_combo_j, all_combo_k = np.meshgrid(np.arange(0,len(a)), np.arange(0,len(a)), np.arange(0,len(a)))\n",
    "    a_i = np.take(a, all_combo_i)\n",
    "    a_j = np.take(a, all_combo_j)\n",
    "    b_i = np.take(b, all_combo_i)\n",
    "    b_k = np.take(b, all_combo_k)\n",
    "    return np.mean(np.abs((a_i - a_j))*np.abs((b_i - b_k)))"
   ]
  },
  {
   "cell_type": "code",
   "execution_count": 5,
   "metadata": {},
   "outputs": [
    {
     "name": "stdout",
     "output_type": "stream",
     "text": [
      "339 ms ± 16.2 ms per loop (mean ± std. dev. of 7 runs, 1 loop each)\n"
     ]
    }
   ],
   "source": [
    "%timeit tripple_mesh(X, Y)"
   ]
  },
  {
   "cell_type": "markdown",
   "metadata": {},
   "source": [
    "Obviously, much better. If the size gets larger, btw, then some real time gets eaten up in memory allocations - even worse if you force your machine to swap."
   ]
  },
  {
   "cell_type": "markdown",
   "metadata": {},
   "source": [
    "## Outer Multiplication plus python\n",
    "\n",
    "If you stare long enough at the expression, you'll realize that $x_i - x_j$ is actually just the outer join or multiplication. And the $(x_i-x_j)(y_i-y_j)$ is the outter multiplication, row-by-row! So, lets power that by a python loop."
   ]
  },
  {
   "cell_type": "code",
   "execution_count": 6,
   "metadata": {},
   "outputs": [],
   "source": [
    "def tripple_outer_python(a,b):\n",
    "    a_outer = np.abs(np.subtract.outer(a,a))\n",
    "    b_outer = np.abs(np.subtract.outer(b,b))\n",
    "    s = 0.0\n",
    "    for i in range(len(a)):\n",
    "        m = np.multiply.outer(a_outer[i], b_outer[i])\n",
    "        s += np.sum(m)\n",
    "    return s / (len(a)*len(a)*len(a))"
   ]
  },
  {
   "cell_type": "code",
   "execution_count": 7,
   "metadata": {},
   "outputs": [
    {
     "name": "stdout",
     "output_type": "stream",
     "text": [
      "14.4 ms ± 471 µs per loop (mean ± std. dev. of 7 runs, 10 loops each)\n"
     ]
    }
   ],
   "source": [
    "%timeit tripple_outer_python(X,Y)"
   ]
  },
  {
   "cell_type": "markdown",
   "metadata": {},
   "source": [
    "There is a variation on this - using the implicit slicing syntax to do the outer multiplication (sometihng I learned from this exercise):"
   ]
  },
  {
   "cell_type": "code",
   "execution_count": 8,
   "metadata": {},
   "outputs": [],
   "source": [
    "def tripple_slice_python(a,b):\n",
    "    a_outer = abs(a[:, None] - a[None, :])\n",
    "    b_outer = abs(b[:, None] - b[None, :])\n",
    "    s = 0.0\n",
    "    for i in range(len(a)):\n",
    "        m = np.multiply.outer(a_outer[i], b_outer[i])\n",
    "        s += np.sum(m)\n",
    "    return s / (len(a)*len(a)*len(a))"
   ]
  },
  {
   "cell_type": "code",
   "execution_count": 9,
   "metadata": {},
   "outputs": [
    {
     "name": "stdout",
     "output_type": "stream",
     "text": [
      "13.1 ms ± 184 µs per loop (mean ± std. dev. of 7 runs, 100 loops each)\n"
     ]
    }
   ],
   "source": [
    "%timeit tripple_slice_python(X,Y)"
   ]
  },
  {
   "cell_type": "markdown",
   "metadata": {},
   "source": [
    "It makes very little difference in the speed."
   ]
  },
  {
   "cell_type": "markdown",
   "metadata": {},
   "source": [
    "## Outer Multiplicate Twice with Sum\n",
    "\n",
    "Note that we do the outer multiplicate twice above - so why not do it inline? This idea came from Nick Smith.\n",
    "\n",
    "It does. however, have a similar problem with the `metshgrid` solution - the temporaries are of size $N^3$, so this can't really be used in production."
   ]
  },
  {
   "cell_type": "code",
   "execution_count": 10,
   "metadata": {},
   "outputs": [],
   "source": [
    "def tripple_slice_square_mean(a,b):\n",
    "    return np.mean(abs(a[:, None] - a[None,:])[:, :, None] * abs(b[:, None] - b[None,:])[:, None, :])"
   ]
  },
  {
   "cell_type": "code",
   "execution_count": 11,
   "metadata": {},
   "outputs": [
    {
     "name": "stdout",
     "output_type": "stream",
     "text": [
      "16.9 ms ± 144 µs per loop (mean ± std. dev. of 7 runs, 100 loops each)\n"
     ]
    }
   ],
   "source": [
    "%timeit tripple_slice_square_mean(X, Y)"
   ]
  },
  {
   "cell_type": "markdown",
   "metadata": {},
   "source": [
    "## Einstein Sum\n",
    "\n",
    "Yet another possibilitiy is to use the `einsum` method - which basically uses an Einstein summ. This game from Giordon Stark with some help from Nick Smith."
   ]
  },
  {
   "cell_type": "code",
   "execution_count": 12,
   "metadata": {},
   "outputs": [],
   "source": [
    "def tripple_einstein(a,b):\n",
    "    s = np.einsum(\"ij,ik->\", abs(a[:, None] - a[None, :]), abs(b[:, None] - b[None, :]))\n",
    "    return s / len(a)**3"
   ]
  },
  {
   "cell_type": "code",
   "execution_count": 13,
   "metadata": {},
   "outputs": [
    {
     "name": "stdout",
     "output_type": "stream",
     "text": [
      "6.28 ms ± 33.5 µs per loop (mean ± std. dev. of 7 runs, 100 loops each)\n"
     ]
    }
   ],
   "source": [
    "%timeit tripple_einstein(X,Y)"
   ]
  },
  {
   "cell_type": "markdown",
   "metadata": {},
   "source": [
    "This was what I neded up using when I moved over to `pytorch`."
   ]
  },
  {
   "cell_type": "markdown",
   "metadata": {},
   "source": [
    "## Matrix Multiply\n",
    "\n",
    "That outer sum, with some tricks, can be turned into a matrix multiply. This is from David Lange."
   ]
  },
  {
   "cell_type": "code",
   "execution_count": 14,
   "metadata": {},
   "outputs": [],
   "source": [
    "def tripple_matmul(a,b):\n",
    "    # Matrix multiply but with Nick's notation triggering the transpose.\n",
    "    a_outer = abs(a[:, None] - a[None, :])\n",
    "    b_outer = abs(b[:, None] - b[None, :])\n",
    "    \n",
    "    return np.sum(np.matmul(a_outer,b_outer))/(len(a)**3)"
   ]
  },
  {
   "cell_type": "code",
   "execution_count": 15,
   "metadata": {},
   "outputs": [
    {
     "name": "stdout",
     "output_type": "stream",
     "text": [
      "519 µs ± 14.3 µs per loop (mean ± std. dev. of 7 runs, 1000 loops each)\n"
     ]
    }
   ],
   "source": [
    "%timeit tripple_matmul(X,Y)"
   ]
  },
  {
   "cell_type": "markdown",
   "metadata": {},
   "source": [
    "I had wanted to use this in pytorch, as it is the winner, however, it was actually x5 slower there than the `einsum`."
   ]
  },
  {
   "cell_type": "markdown",
   "metadata": {},
   "source": [
    "## Numba\n",
    "\n",
    "Numba will combine and run this. So we should be able to sort-of write python, and get compiled speed."
   ]
  },
  {
   "cell_type": "code",
   "execution_count": 16,
   "metadata": {},
   "outputs": [],
   "source": [
    "import numba\n",
    "\n",
    "@numba.jit(nopython=True)\n",
    "def tripple_numba(a, b):\n",
    "    N = len(a)\n",
    "    s = 0\n",
    "    for i in range(N):\n",
    "        for j in range(N):\n",
    "            t = abs(a[i]-a[j])\n",
    "            for k in range(N):\n",
    "                s += t*abs(b[i]-b[k])\n",
    "    return s/N**3"
   ]
  },
  {
   "cell_type": "code",
   "execution_count": 17,
   "metadata": {},
   "outputs": [
    {
     "name": "stdout",
     "output_type": "stream",
     "text": [
      "6.95 ms ± 352 µs per loop (mean ± std. dev. of 7 runs, 1 loop each)\n"
     ]
    }
   ],
   "source": [
    "%timeit tripple_numba(X,Y)"
   ]
  },
  {
   "cell_type": "markdown",
   "metadata": {},
   "source": [
    "As fast as the second fasted numpy version - still doesn't get as fast as the matrix multiply. I tried to force early compilation, by adding the signature `float64(float64[:], float64[:])`, however, that didn't change the timing on this."
   ]
  },
  {
   "cell_type": "markdown",
   "metadata": {},
   "source": [
    "## JAX\n",
    "\n",
    "JAX is another `jit` capable add-on. And, you can differentiate through it, which is very cool. Lets see how well this works."
   ]
  },
  {
   "cell_type": "code",
   "execution_count": 18,
   "metadata": {},
   "outputs": [],
   "source": [
    "import jax\n",
    "import jax.numpy as jnp\n",
    "\n",
    "@jax.jit\n",
    "def tripple_jax(a, b):\n",
    "    a_outer = jnp.abs(a[:, None] - a[None, :])\n",
    "    b_outer = jnp.abs(b[:, None] - b[None, :])\n",
    "    \n",
    "    return jnp.sum(jnp.matmul(a_outer,b_outer))/(len(a)**3)"
   ]
  },
  {
   "cell_type": "code",
   "execution_count": 19,
   "metadata": {},
   "outputs": [
    {
     "name": "stderr",
     "output_type": "stream",
     "text": [
      "WARNING:absl:No GPU/TPU found, falling back to CPU. (Set TF_CPP_MIN_LOG_LEVEL=0 and rerun for more info.)\n"
     ]
    },
    {
     "name": "stdout",
     "output_type": "stream",
     "text": [
      "465 µs ± 3.92 µs per loop (mean ± std. dev. of 7 runs, 1000 loops each)\n"
     ]
    }
   ],
   "source": [
    "j_X = jax.numpy.asarray(X)\n",
    "j_Y = jax.numpy.asarray(Y)\n",
    "%timeit tripple_jax(j_X, j_Y).block_until_ready()"
   ]
  },
  {
   "cell_type": "markdown",
   "metadata": {},
   "source": [
    "About the same amount of time as running it in raw `numpy` - which makes some sense as we aren't really doing very much work in python here - so there isn't much to optimize.\n",
    "\n",
    "It is too bad we can't use the full loop form."
   ]
  }
 ],
 "metadata": {
  "kernelspec": {
   "display_name": "Python 3",
   "language": "python",
   "name": "python3"
  },
  "language_info": {
   "codemirror_mode": {
    "name": "ipython",
    "version": 3
   },
   "file_extension": ".py",
   "mimetype": "text/x-python",
   "name": "python",
   "nbconvert_exporter": "python",
   "pygments_lexer": "ipython3",
   "version": "3.7.4"
  }
 },
 "nbformat": 4,
 "nbformat_minor": 4
}
