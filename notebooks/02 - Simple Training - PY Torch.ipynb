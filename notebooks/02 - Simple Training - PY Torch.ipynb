{
 "cells": [
  {
   "cell_type": "markdown",
   "metadata": {},
   "source": [
    "# Simple Training\n",
    "\n",
    "Train a single variable to discriminate between input and outputs using the scikit-learn simple NN's\n",
    "\n",
    "## Settings"
   ]
  },
  {
   "cell_type": "code",
   "execution_count": null,
   "metadata": {},
   "outputs": [],
   "source": [
    "n_variables = 4 # Number of data and background varialbes to generate\n",
    "n_samples = 10000 # Number of samples to generate\n",
    "\n",
    "center_signal = 2.0 # Where the gaussian for signal should be\n",
    "center_background = 1.0 # Where the gaussian for background should be"
   ]
  },
  {
   "cell_type": "code",
   "execution_count": 2,
   "metadata": {},
   "outputs": [],
   "source": [
    "import sys\n",
    "sys.path += ['../abcdlib']\n",
    "import data_gen\n",
    "\n",
    "import seaborn as sns\n",
    "import pandas as pd\n",
    "from torch import nn\n",
    "from torch import optim\n",
    "import torch\n",
    "import torch.nn.functional as nnf"
   ]
  },
  {
   "cell_type": "markdown",
   "metadata": {},
   "source": [
    "## Generate the data"
   ]
  },
  {
   "cell_type": "code",
   "execution_count": 3,
   "metadata": {},
   "outputs": [],
   "source": [
    "sig = data_gen.generate_gaussian(n_variables, center_signal, n_samples)\n",
    "back = data_gen.generate_gaussian(n_variables, center_background, n_samples)\n",
    "\n",
    "half = int(n_samples/2)\n",
    "\n",
    "training = data_gen.combine(sig[:half], back[:half])\n",
    "testing = data_gen.combine(sig[half:], back[half:])"
   ]
  },
  {
   "cell_type": "markdown",
   "metadata": {},
   "source": [
    "## Train with one output\n",
    "\n",
    "First, prepare the data for fitting. PyTorch works funny - though this is probably the way things really work under the covers - I'm just not used to it. Basically, the output of the network needs to be 1 _column_ per class. We have 2 classes here: signal and background. When we build the model below, you'll see 2 outputs, and then a SoftMax in order to normalize them (and make sure they don't total more than 1). However, the `NLLLoss` function takes a single vector with the class number as the labels. Hence, the `y_train` is a single column with a 0 (background) or a 1 (signal) in it."
   ]
  },
  {
   "cell_type": "code",
   "execution_count": 4,
   "metadata": {},
   "outputs": [],
   "source": [
    "x_train = torch.Tensor(training[training.columns[:-1]].values)\n",
    "y_train = torch.Tensor(training[training.columns[-1]].values).type(torch.LongTensor)"
   ]
  },
  {
   "cell_type": "markdown",
   "metadata": {},
   "source": [
    "Next create a simple classifier - 2 layers, with the same number of nodes as inputs"
   ]
  },
  {
   "cell_type": "code",
   "execution_count": 10,
   "metadata": {},
   "outputs": [],
   "source": [
    "model = nn.Sequential(nn.Linear(n_variables, n_variables),\n",
    "                      nn.ReLU(),\n",
    "                      nn.Linear(n_variables, n_variables),\n",
    "                      nn.ReLU(),\n",
    "                      nn.Linear(n_variables, 2),\n",
    "                      nn.LogSoftmax(dim=1))\n",
    "criterion = nn.NLLLoss()\n",
    "optimizer = optim.SGD(model.parameters(), lr=0.03)"
   ]
  },
  {
   "cell_type": "markdown",
   "metadata": {},
   "source": [
    "Now lets do the training"
   ]
  },
  {
   "cell_type": "code",
   "execution_count": 11,
   "metadata": {},
   "outputs": [
    {
     "name": "stdout",
     "output_type": "stream",
     "text": [
      "Training loss: 3.7572997808456423e-05\n"
     ]
    }
   ],
   "source": [
    "epochs = 1000\n",
    "for e in range(epochs):\n",
    "    running_loss = 0\n",
    "    optimizer.zero_grad()\n",
    "    output = model(x_train)\n",
    "    loss = criterion(output, y_train)\n",
    "    loss.backward()\n",
    "    optimizer.step()\n",
    "    running_loss += loss.item()\n",
    "else:\n",
    "    print(f'Training loss: {running_loss/len(x_train)}')"
   ]
  },
  {
   "cell_type": "markdown",
   "metadata": {},
   "source": [
    "## Prediction\n",
    "\n",
    "Get the predicted probabilities out and see where they line up and how well this guy did!"
   ]
  },
  {
   "cell_type": "code",
   "execution_count": 12,
   "metadata": {},
   "outputs": [],
   "source": [
    "x_test = torch.Tensor(testing[testing.columns[:-1]].values)\n",
    "y_test = model(x_test)"
   ]
  },
  {
   "cell_type": "code",
   "execution_count": 13,
   "metadata": {},
   "outputs": [],
   "source": [
    "r = nnf.softmax(y_test, dim=1).detach().numpy()\n",
    "x_results = testing.copy()\n",
    "x_results['Prediction'] = r[:,1]"
   ]
  },
  {
   "cell_type": "code",
   "execution_count": 14,
   "metadata": {},
   "outputs": [
    {
     "data": {
      "text/plain": [
       "<AxesSubplot:xlabel='Prediction', ylabel='Count'>"
      ]
     },
     "execution_count": 14,
     "metadata": {},
     "output_type": "execute_result"
    },
    {
     "data": {
      "image/png": "[encoded data removed]",
      "text/plain": [
       "<Figure size 432x288 with 1 Axes>"
      ]
     },
     "metadata": {
      "needs_background": "light"
     },
     "output_type": "display_data"
    }
   ],
   "source": [
    "sns.histplot(x_results, x='Prediction', hue='isSignal')"
   ]
  },
  {
   "cell_type": "code",
   "execution_count": null,
   "metadata": {},
   "outputs": [],
   "source": []
  }
 ],
 "metadata": {
  "kernelspec": {
   "display_name": "Python 3",
   "language": "python",
   "name": "python3"
  },
  "language_info": {
   "codemirror_mode": {
    "name": "ipython",
    "version": 3
   },
   "file_extension": ".py",
   "mimetype": "text/x-python",
   "name": "python",
   "nbconvert_exporter": "python",
   "pygments_lexer": "ipython3",
   "version": "3.7.7"
  }
 },
 "nbformat": 4,
 "nbformat_minor": 4
}
