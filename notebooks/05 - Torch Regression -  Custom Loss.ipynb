{
 "cells": [
  {
   "cell_type": "markdown",
   "metadata": {},
   "source": [
    "# Training a regression with two outputs and Custom Loss Function\n",
    "\n",
    "Use pytorch to take into account the correlation during the training\n",
    "\n",
    "## Settings"
   ]
  },
  {
   "cell_type": "code",
   "execution_count": 1,
   "metadata": {},
   "outputs": [],
   "source": [
    "n_variables = 4 # Number of data and background varialbes to generate\n",
    "n_samples = 10000 # Number of samples to generate\n",
    "\n",
    "center_signal = 2.0 # Where the gaussian for signal should be\n",
    "center_background = 1.0 # Where the gaussian for background should be"
   ]
  },
  {
   "cell_type": "code",
   "execution_count": 2,
   "metadata": {},
   "outputs": [],
   "source": [
    "import sys\n",
    "sys.path += ['../abcdlib']\n",
    "import data_gen\n",
    "\n",
    "import seaborn as sns\n",
    "import pandas as pd\n",
    "from torch import nn\n",
    "from torch import optim\n",
    "import torch\n",
    "import numpy as np"
   ]
  },
  {
   "cell_type": "markdown",
   "metadata": {},
   "source": [
    "## Generate the data"
   ]
  },
  {
   "cell_type": "code",
   "execution_count": 3,
   "metadata": {},
   "outputs": [],
   "source": [
    "sig = data_gen.generate_gaussian(n_variables, center_signal, n_samples)\n",
    "back = data_gen.generate_gaussian(n_variables, center_background, n_samples)\n",
    "\n",
    "half = int(n_samples/2)\n",
    "\n",
    "training = data_gen.combine(sig[:half], back[:half])\n",
    "testing = data_gen.combine(sig[half:], back[half:])"
   ]
  },
  {
   "cell_type": "markdown",
   "metadata": {},
   "source": [
    "## Train with two outputs and a custom loss function\n",
    "\n",
    "For a regression, we need just a single output column with the 1 or 0 as the target value. Of course, this time we need 2 columns, duplicated."
   ]
  },
  {
   "cell_type": "code",
   "execution_count": 4,
   "metadata": {},
   "outputs": [],
   "source": [
    "label = training[training.columns[-1]].values\n",
    "labels = np.stack((label, label), axis=1)"
   ]
  },
  {
   "cell_type": "code",
   "execution_count": 5,
   "metadata": {},
   "outputs": [],
   "source": [
    "x_train = torch.Tensor(training[training.columns[:-1]].values)\n",
    "y_train = torch.Tensor(labels)"
   ]
  },
  {
   "cell_type": "markdown",
   "metadata": {},
   "source": [
    "The loss function should be a combination of the normal accuracy loss function and also the correlation on background (only):\n",
    "\n",
    "- Use the accuracy on all the training data\n",
    "- Calculate the correlation only on items marked as being background"
   ]
  },
  {
   "cell_type": "code",
   "execution_count": 6,
   "metadata": {},
   "outputs": [],
   "source": [
    "def calc_r(prediction):\n",
    "    mean = torch.mean(prediction, dim=0)\n",
    "    std_dev = torch.std(prediction, dim=0)\n",
    "    parts = (prediction - mean)\n",
    "    sum = torch.sum(parts[:,0]*parts[:,1])\n",
    "    return sum / std_dev[0] / std_dev[1] / (prediction.shape[0]-1)\n",
    "\n",
    "class decorrelate_loss:\n",
    "    '''Calculate the loss function using MSELoss and decorrelation loss\n",
    "    '''\n",
    "    def __init__(self):\n",
    "        self._mse = nn.MSELoss(reduction='mean')\n",
    "        \n",
    "    def __call__(self, prediction, labels):\n",
    "        'Calc the loss given both the correlation and mse'\n",
    "        mse_loss = self._mse(prediction, labels)\n",
    "        \n",
    "        background_mask = labels[:,1] == 0\n",
    "        r = calc_r(prediction[background_mask])\n",
    "\n",
    "        total = mse_loss + torch.square(r)*0.1\n",
    "        return total"
   ]
  },
  {
   "cell_type": "markdown",
   "metadata": {},
   "source": [
    "Next create a simple classifier - 2 layers, with the same number of nodes as inputs. It looks like doubling the size of the inputs and outputs makes a big difference, but in general getting this to train better hasn't been successful so far. No idea why."
   ]
  },
  {
   "cell_type": "code",
   "execution_count": 7,
   "metadata": {},
   "outputs": [],
   "source": [
    "model = nn.Sequential(nn.Linear(n_variables, n_variables*2),\n",
    "                      nn.ReLU(),\n",
    "                      nn.Linear(n_variables*2, n_variables*2),\n",
    "                      nn.ReLU(),\n",
    "                      nn.Linear(n_variables*2, n_variables*2),\n",
    "                      nn.ReLU(),\n",
    "                      nn.Linear(n_variables*2, n_variables),\n",
    "                      nn.ReLU(),\n",
    "                      nn.Linear(n_variables, 2))\n",
    "criterion = decorrelate_loss()\n",
    "optimizer = optim.Adam(model.parameters(), lr=0.001)"
   ]
  },
  {
   "cell_type": "markdown",
   "metadata": {},
   "source": [
    "Now lets do the training"
   ]
  },
  {
   "cell_type": "code",
   "execution_count": 8,
   "metadata": {},
   "outputs": [
    {
     "name": "stdout",
     "output_type": "stream",
     "text": [
      "Training loss (0): 8.386442065238953e-05\n",
      "Training loss (300): 1.4649821817874908e-05\n",
      "Training loss (600): 1.3965481519699096e-05\n",
      "Training loss (900): 1.3863283395767212e-05\n",
      "Training loss (1200): 1.3778203725814819e-05\n",
      "Training loss (1500): 1.3570895791053772e-05\n",
      "Training loss (1800): 1.34295254945755e-05\n",
      "Training loss (2100): 1.3336053490638733e-05\n",
      "Training loss (2400): 1.3288962841033935e-05\n",
      "Training loss (2700): 1.3262178003787994e-05\n",
      "Training loss (3000): 1.3244321942329407e-05\n",
      "Training loss (3300): 1.3232375681400298e-05\n",
      "Training loss (3600): 1.3221727311611176e-05\n",
      "Training loss (3900): 1.3214415311813354e-05\n",
      "Training loss (4200): 1.320483237504959e-05\n",
      "Training loss (4500): 1.3198363780975342e-05\n",
      "Training loss (4800): 1.3194265961647033e-05\n",
      "Training loss: 1.319241225719452e-05\n",
      "Wall time: 33.2 s\n"
     ]
    }
   ],
   "source": [
    "%%time\n",
    "epochs = 5000\n",
    "for e in range(epochs):\n",
    "    running_loss = 0\n",
    "    optimizer.zero_grad()\n",
    "    output = model(x_train)\n",
    "    loss = criterion(output, y_train)\n",
    "    loss.backward()\n",
    "    optimizer.step()\n",
    "    running_loss += loss.item()\n",
    "    if e % 300 == 0:\n",
    "        print(f'Training loss ({e}): {running_loss/len(x_train)}')\n",
    "else:\n",
    "    print(f'Training loss: {running_loss/len(x_train)}')"
   ]
  },
  {
   "cell_type": "markdown",
   "metadata": {},
   "source": [
    "## Prediction\n",
    "\n",
    "Get the predicted probabilities out and see where they line up and how well this guy did!"
   ]
  },
  {
   "cell_type": "code",
   "execution_count": 18,
   "metadata": {},
   "outputs": [],
   "source": [
    "x_test = torch.Tensor(testing[testing.columns[:-1]].values)\n",
    "y_test = model(x_test)"
   ]
  },
  {
   "cell_type": "code",
   "execution_count": 19,
   "metadata": {},
   "outputs": [],
   "source": [
    "x_results = testing.copy()\n",
    "x_results['Prediction_1'] = y_test.detach().numpy()[:,0]\n",
    "x_results['Prediction_2'] = y_test.detach().numpy()[:,1]"
   ]
  },
  {
   "cell_type": "code",
   "execution_count": 20,
   "metadata": {},
   "outputs": [
    {
     "data": {
      "text/plain": [
       "<AxesSubplot:xlabel='Prediction_1', ylabel='Count'>"
      ]
     },
     "execution_count": 20,
     "metadata": {},
     "output_type": "execute_result"
    },
    {
     "data": {
      "image/png": "[encoded data removed]",
      "text/plain": [
       "<Figure size 432x288 with 1 Axes>"
      ]
     },
     "metadata": {
      "needs_background": "light"
     },
     "output_type": "display_data"
    }
   ],
   "source": [
    "sns.histplot(x_results, x='Prediction_1', hue='isSignal')"
   ]
  },
  {
   "cell_type": "code",
   "execution_count": 21,
   "metadata": {},
   "outputs": [
    {
     "data": {
      "text/plain": [
       "<AxesSubplot:xlabel='Prediction_2', ylabel='Count'>"
      ]
     },
     "execution_count": 21,
     "metadata": {},
     "output_type": "execute_result"
    },
    {
     "data": {
      "image/png": "[encoded data removed]",
      "text/plain": [
       "<Figure size 432x288 with 1 Axes>"
      ]
     },
     "metadata": {
      "needs_background": "light"
     },
     "output_type": "display_data"
    }
   ],
   "source": [
    "sns.histplot(x_results, x='Prediction_2', hue='isSignal')"
   ]
  },
  {
   "cell_type": "markdown",
   "metadata": {},
   "source": [
    "Lets look at the correlation between these on background and signal data"
   ]
  },
  {
   "cell_type": "code",
   "execution_count": 22,
   "metadata": {},
   "outputs": [
    {
     "data": {
      "text/plain": [
       "<AxesSubplot:xlabel='Prediction_1', ylabel='Prediction_2'>"
      ]
     },
     "execution_count": 22,
     "metadata": {},
     "output_type": "execute_result"
    },
    {
     "data": {
      "image/png": "[encoded data removed]",
      "text/plain": [
       "<Figure size 432x288 with 1 Axes>"
      ]
     },
     "metadata": {
      "needs_background": "light"
     },
     "output_type": "display_data"
    }
   ],
   "source": [
    "sns.scatterplot(data=x_results, x='Prediction_1', y='Prediction_2', hue='isSignal')"
   ]
  },
  {
   "cell_type": "markdown",
   "metadata": {},
   "source": [
    "Other than something odd going on down near zero, this looks very correlated for background (and signal). We need the background to be uncorrelated..."
   ]
  },
  {
   "cell_type": "markdown",
   "metadata": {},
   "source": [
    "## Correlation for the background\n",
    "\n",
    "Lets see what the final number of the correlation is of the background"
   ]
  },
  {
   "cell_type": "code",
   "execution_count": 14,
   "metadata": {},
   "outputs": [
    {
     "data": {
      "text/plain": [
       "tensor(0.0349, grad_fn=<DivBackward0>)"
      ]
     },
     "execution_count": 14,
     "metadata": {},
     "output_type": "execute_result"
    }
   ],
   "source": [
    "label = torch.Tensor(testing[testing.columns[-1]].values)\n",
    "mask = label == 0.0\n",
    "calc_r(y_test[mask])"
   ]
  },
  {
   "cell_type": "code",
   "execution_count": 15,
   "metadata": {},
   "outputs": [
    {
     "data": {
      "image/png": "[encoded data removed]",
      "text/plain": [
       "<Figure size 432x288 with 1 Axes>"
      ]
     },
     "metadata": {
      "needs_background": "light"
     },
     "output_type": "display_data"
    },
    {
     "data": {
      "image/png": "[encoded data removed]",
      "text/plain": [
       "<Figure size 432x288 with 1 Axes>"
      ]
     },
     "metadata": {
      "needs_background": "light"
     },
     "output_type": "display_data"
    }
   ],
   "source": [
    "import matplotlib.pyplot as plt\n",
    "plt.hist(y_test[:,0].detach().numpy(), bins=50)\n",
    "plt.show()\n",
    "_ = plt.hist(y_test[:,1].detach().numpy(), bins=50)"
   ]
  },
  {
   "cell_type": "markdown",
   "metadata": {},
   "source": [
    "Test the JB test on a known normal distribution"
   ]
  },
  {
   "cell_type": "code",
   "execution_count": 16,
   "metadata": {},
   "outputs": [],
   "source": [
    "normal = torch.normal(1.0, 1.0, (10000,))"
   ]
  },
  {
   "cell_type": "code",
   "execution_count": 17,
   "metadata": {},
   "outputs": [
    {
     "ename": "NameError",
     "evalue": "name 'calc_kurtosis' is not defined",
     "output_type": "error",
     "traceback": [
      "\u001b[1;31m---------------------------------------------------------------------------\u001b[0m",
      "\u001b[1;31mNameError\u001b[0m                                 Traceback (most recent call last)",
      "\u001b[1;32m<ipython-input-17-a95ccdd98d29>\u001b[0m in \u001b[0;36m<module>\u001b[1;34m\u001b[0m\n\u001b[1;32m----> 1\u001b[1;33m \u001b[0mcalc_kurtosis\u001b[0m\u001b[1;33m(\u001b[0m\u001b[0mnormal\u001b[0m\u001b[1;33m)\u001b[0m\u001b[1;33m-\u001b[0m\u001b[1;36m3\u001b[0m\u001b[1;33m\u001b[0m\u001b[1;33m\u001b[0m\u001b[0m\n\u001b[0m",
      "\u001b[1;31mNameError\u001b[0m: name 'calc_kurtosis' is not defined"
     ]
    }
   ],
   "source": [
    "calc_kurtosis(normal)-3"
   ]
  },
  {
   "cell_type": "code",
   "execution_count": null,
   "metadata": {},
   "outputs": [],
   "source": [
    "calc_skew(normal)"
   ]
  },
  {
   "cell_type": "code",
   "execution_count": null,
   "metadata": {},
   "outputs": [],
   "source": [
    "calc_jarque_bera(normal)"
   ]
  },
  {
   "cell_type": "code",
   "execution_count": null,
   "metadata": {},
   "outputs": [],
   "source": []
  }
 ],
 "metadata": {
  "kernelspec": {
   "display_name": "Python 3",
   "language": "python",
   "name": "python3"
  },
  "language_info": {
   "codemirror_mode": {
    "name": "ipython",
    "version": 3
   },
   "file_extension": ".py",
   "mimetype": "text/x-python",
   "name": "python",
   "nbconvert_exporter": "python",
   "pygments_lexer": "ipython3",
   "version": "3.7.7"
  }
 },
 "nbformat": 4,
 "nbformat_minor": 4
}
