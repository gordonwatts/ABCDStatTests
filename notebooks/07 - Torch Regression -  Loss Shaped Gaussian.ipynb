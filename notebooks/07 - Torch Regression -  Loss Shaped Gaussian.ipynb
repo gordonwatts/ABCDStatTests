{
 "cells": [
  {
   "cell_type": "markdown",
   "metadata": {},
   "source": [
    "# Training a regression with outputs shaped by Guassian\n",
    "\n",
    "Use pytorch to take into account the correlation during the training, and force the output distributions to be shaped by a Gaussian.\n",
    "\n",
    "## Settings"
   ]
  },
  {
   "cell_type": "code",
   "execution_count": 1,
   "metadata": {},
   "outputs": [],
   "source": [
    "n_variables = 4 # Number of data and background varialbes to generate\n",
    "n_samples = 10000 # Number of samples to generate\n",
    "\n",
    "center_signal = 2.0 # Where the gaussian for signal should be\n",
    "center_background = 1.0 # Where the gaussian for background should be"
   ]
  },
  {
   "cell_type": "code",
   "execution_count": 2,
   "metadata": {},
   "outputs": [],
   "source": [
    "import sys\n",
    "sys.path += ['../abcdlib']\n",
    "import data_gen\n",
    "\n",
    "import seaborn as sns\n",
    "import pandas as pd\n",
    "from torch import nn\n",
    "from torch import optim\n",
    "import torch\n",
    "import numpy as np\n",
    "import matplotlib.pyplot as plt"
   ]
  },
  {
   "cell_type": "markdown",
   "metadata": {},
   "source": [
    "## Generate the data"
   ]
  },
  {
   "cell_type": "code",
   "execution_count": 3,
   "metadata": {},
   "outputs": [],
   "source": [
    "sig = data_gen.generate_gaussian(n_variables, center_signal, n_samples)\n",
    "back = data_gen.generate_gaussian(n_variables, center_background, n_samples)\n",
    "\n",
    "n_training_samples = int(n_samples/2)\n",
    "\n",
    "training = data_gen.combine(sig[:n_training_samples], back[:n_training_samples])\n",
    "testing = data_gen.combine(sig[n_training_samples:], back[n_training_samples:])"
   ]
  },
  {
   "cell_type": "markdown",
   "metadata": {},
   "source": [
    "## Train with two outputs and a custom loss function\n",
    "\n",
    "For a regression, we need just a single output column with the 1 or 0 as the target value. Of course, this time we need 2 columns, duplicated."
   ]
  },
  {
   "cell_type": "code",
   "execution_count": 4,
   "metadata": {},
   "outputs": [],
   "source": [
    "label = training[training.columns[-1]].values\n",
    "labels = np.stack((label, label), axis=1)"
   ]
  },
  {
   "cell_type": "code",
   "execution_count": 5,
   "metadata": {},
   "outputs": [],
   "source": [
    "x_train = torch.Tensor(training[training.columns[:-1]].values)\n",
    "y_train = torch.Tensor(labels)"
   ]
  },
  {
   "cell_type": "markdown",
   "metadata": {},
   "source": [
    "The loss function should be a combination of the normal accuracy loss function and also the correlation on background (only), and shape the background to look like a Guassian (also only on the background).\n",
    "\n",
    "- Use the accuracy on all the training data\n",
    "- Calculate the correlation only on items marked as being background\n",
    "- Turn the background variable distirbution into a z-scoare, and then match it to a guassian curve we have pre-generated."
   ]
  },
  {
   "cell_type": "code",
   "execution_count": 6,
   "metadata": {},
   "outputs": [],
   "source": [
    "def calc_r(prediction):\n",
    "    mean = torch.mean(prediction, dim=0)\n",
    "    std_dev = torch.std(prediction, dim=0)\n",
    "    parts = (prediction - mean)\n",
    "    sum = torch.sum(parts[:,0]*parts[:,1])\n",
    "    return sum / std_dev[0] / std_dev[1] / (prediction.shape[0]-1)\n",
    "\n",
    "class decorrelate_loss:\n",
    "    '''Calculate the loss function using MSELoss and decorrelation loss\n",
    "    '''\n",
    "    def __init__(self):\n",
    "        self._mse = nn.MSELoss(reduction='mean')\n",
    "        self._unit_gaussian, _ = torch.sort(torch.randn((n_training_samples, 2)), dim=0)\n",
    "        self._loss_record = []\n",
    "        \n",
    "    def calc_gausian_shape_difference(self, background):\n",
    "        # Turn background into z score\n",
    "        mean = torch.mean(background, dim=0)\n",
    "        std_dev = torch.std(background, dim=0)\n",
    "        z_score, _ = torch.sort((background - mean)/std_dev, dim=0)\n",
    "        \n",
    "        return self._mse(z_score, self._unit_gaussian)\n",
    "\n",
    "    def __call__(self, prediction, labels):\n",
    "        'Calc the loss given both the correlation and mse'\n",
    "        mse_loss = self._mse(prediction, labels)\n",
    "        \n",
    "        background_mask = labels[:,1] == 0\n",
    "        r = calc_r(prediction[background_mask])\n",
    "        \n",
    "        g_background = self.calc_gausian_shape_difference(prediction[background_mask])\n",
    "        \n",
    "        total = mse_loss + torch.square(r)*2.0 + g_background\n",
    "        self._loss_record.append((float(mse_loss.item()),\n",
    "                                  float((torch.square(r)*2.0).item()),\n",
    "                                  float(g_background.item())))\n",
    "        # print (mse_loss, torch.square(r), g_background)\n",
    "        # print(total)\n",
    "        return total"
   ]
  },
  {
   "cell_type": "markdown",
   "metadata": {},
   "source": [
    "Next create a simple classifier - 2 layers, with the same number of nodes as inputs. It looks like doubling the size of the inputs and outputs makes a big difference, but in general getting this to train better hasn't been successful so far. No idea why."
   ]
  },
  {
   "cell_type": "code",
   "execution_count": 7,
   "metadata": {},
   "outputs": [],
   "source": [
    "model = nn.Sequential(nn.Linear(n_variables, n_variables*2),\n",
    "                      nn.ReLU(),\n",
    "                      nn.Linear(n_variables*2, n_variables*2),\n",
    "                      nn.ReLU(),\n",
    "                      nn.Linear(n_variables*2, n_variables*2),\n",
    "                      nn.ReLU(),\n",
    "                      nn.Linear(n_variables*2, n_variables*2),\n",
    "                      nn.ReLU(),\n",
    "                      nn.Linear(n_variables*2, n_variables*2),\n",
    "                      nn.ReLU(),\n",
    "                      nn.Linear(n_variables*2, n_variables),\n",
    "                      nn.ReLU(),\n",
    "                      nn.Linear(n_variables, 2))\n",
    "criterion = decorrelate_loss()\n",
    "optimizer = optim.Adam(model.parameters(), lr=0.001)"
   ]
  },
  {
   "cell_type": "markdown",
   "metadata": {},
   "source": [
    "Now lets do the training"
   ]
  },
  {
   "cell_type": "code",
   "execution_count": null,
   "metadata": {},
   "outputs": [
    {
     "name": "stdout",
     "output_type": "stream",
     "text": [
      "Training loss (0): 0.00024330005645751952\n",
      "Training loss (300): 2.5428345799446106e-05\n",
      "Training loss (600): 2.511032819747925e-05\n",
      "Training loss (900): 2.5059401988983156e-05\n",
      "Training loss (1200): 2.5029560923576356e-05\n",
      "Training loss (1500): 2.5006169080734254e-05\n",
      "Training loss (1800): 2.4989017844200134e-05\n",
      "Training loss (2100): 2.4958032369613646e-05\n",
      "Training loss (2400): 2.4938005208969118e-05\n",
      "Training loss (2700): 2.4912528693675995e-05\n",
      "Training loss (3000): 2.4876262247562408e-05\n",
      "Training loss (3300): 2.481551915407181e-05\n",
      "Training loss (3600): 2.4719007313251494e-05\n",
      "Training loss (3900): 2.4527041614055633e-05\n",
      "Training loss (4200): 2.408613860607147e-05\n",
      "Training loss (4500): 2.2371934354305267e-05\n",
      "Training loss (4800): 2.0568951964378356e-05\n",
      "Training loss (5100): 1.8836931884288787e-05\n",
      "Training loss (5400): 1.776551008224487e-05\n",
      "Training loss (5700): 1.5591739118099214e-05\n",
      "Training loss (6000): 1.4497809112071991e-05\n",
      "Training loss (6300): 1.4247527718544006e-05\n",
      "Training loss (6600): 1.4145411550998688e-05\n",
      "Training loss (6900): 1.4084255695343018e-05\n",
      "Training loss (7200): 1.4049912989139557e-05\n",
      "Training loss (7500): 1.4023709297180175e-05\n",
      "Training loss (7800): 1.3999722898006439e-05\n",
      "Training loss (8100): 1.3968382775783538e-05\n",
      "Training loss (8400): 1.3948073983192444e-05\n",
      "Training loss (8700): 1.393142193555832e-05\n",
      "Training loss (9000): 1.3934016227722168e-05\n",
      "Training loss (9300): 1.390695720911026e-05\n",
      "Training loss (9600): 1.3897809386253357e-05\n",
      "Training loss (9900): 1.388469785451889e-05\n",
      "Training loss (10200): 1.38787180185318e-05\n",
      "Training loss (10500): 1.386299580335617e-05\n",
      "Training loss (10800): 1.3853630423545838e-05\n",
      "Training loss (11100): 1.3838334381580352e-05\n",
      "Training loss (11400): 1.3827629387378693e-05\n",
      "Training loss (11700): 1.381317526102066e-05\n",
      "Training loss (12000): 1.3803675770759583e-05\n",
      "Training loss (12300): 1.3799290359020234e-05\n",
      "Training loss (12600): 1.3793160021305084e-05\n",
      "Training loss (12900): 1.3784575462341308e-05\n",
      "Training loss (13200): 1.3777796924114227e-05\n",
      "Training loss (13500): 1.3773766160011292e-05\n",
      "Training loss (13800): 1.3776159286499023e-05\n",
      "Training loss (14100): 1.3767753541469574e-05\n",
      "Training loss (14400): 1.37849360704422e-05\n",
      "Training loss (14700): 1.3766215741634369e-05\n",
      "Training loss (15000): 1.3756527006626129e-05\n",
      "Training loss (15300): 1.375654935836792e-05\n",
      "Training loss (15600): 1.3756026327610016e-05\n",
      "Training loss (15900): 1.3753117620944977e-05\n",
      "Training loss (16200): 1.3750959932804107e-05\n",
      "Training loss (16500): 1.3743738830089568e-05\n",
      "Training loss (16800): 1.3747723400592804e-05\n",
      "Training loss (17100): 1.3740351796150207e-05\n",
      "Training loss (17400): 1.3741284608840943e-05\n",
      "Training loss (17700): 1.3732953369617462e-05\n",
      "Training loss (18000): 1.3733705878257752e-05\n",
      "Training loss (18300): 1.3743337988853455e-05\n",
      "Training loss (18600): 1.3728410005569458e-05\n",
      "Training loss (18900): 1.3729953765869141e-05\n",
      "Training loss (19200): 1.3725590705871582e-05\n",
      "Training loss (19500): 1.3731364905834198e-05\n",
      "Training loss (19800): 1.3723158836364746e-05\n",
      "Training loss (20100): 1.3722275197505951e-05\n",
      "Training loss (20400): 1.3722562789916993e-05\n",
      "Training loss (20700): 1.3722878694534301e-05\n",
      "Training loss (21000): 1.37208491563797e-05\n",
      "Training loss (21300): 1.3725472986698151e-05\n",
      "Training loss (21600): 1.3727624714374543e-05\n",
      "Training loss (21900): 1.3720318675041199e-05\n",
      "Training loss (22200): 1.3724562525749207e-05\n",
      "Training loss (22500): 1.3736453652381897e-05\n",
      "Training loss (22800): 1.3718172907829285e-05\n",
      "Training loss (23100): 1.3725845515727997e-05\n",
      "Training loss (23400): 1.3717149198055267e-05\n",
      "Training loss (23700): 1.3724765181541443e-05\n",
      "Training loss (24000): 1.3718518614768981e-05\n",
      "Training loss (24300): 1.3717450201511383e-05\n",
      "Training loss (24600): 1.3715355098247529e-05\n",
      "Training loss (24900): 1.3714659214019775e-05\n",
      "Training loss (25200): 1.3716070353984834e-05\n",
      "Training loss (25500): 1.3716532289981842e-05\n",
      "Training loss (25800): 1.3717755675315856e-05\n",
      "Training loss (26100): 1.3714621961116791e-05\n",
      "Training loss (26400): 1.3721069693565368e-05\n",
      "Training loss (26700): 1.372154951095581e-05\n",
      "Training loss (27000): 1.3717539608478546e-05\n",
      "Training loss (27300): 1.3714247941970826e-05\n",
      "Training loss (27600): 1.3708318769931793e-05\n",
      "Training loss (27900): 1.3707979023456574e-05\n",
      "Training loss (28200): 1.3714021444320679e-05\n",
      "Training loss (28500): 1.3710777461528778e-05\n",
      "Training loss (28800): 1.3710232079029082e-05\n",
      "Training loss (29100): 1.3708706200122833e-05\n",
      "Training loss (29400): 1.371089369058609e-05\n",
      "Training loss (29700): 1.3710013031959534e-05\n",
      "Training loss (30000): 1.3706554472446442e-05\n",
      "Training loss (30300): 1.3704964518547058e-05\n",
      "Training loss (30600): 1.3720788061618806e-05\n"
     ]
    }
   ],
   "source": [
    "%%time\n",
    "epochs = 200000\n",
    "for e in range(epochs):\n",
    "    running_loss = 0\n",
    "    optimizer.zero_grad()\n",
    "    output = model(x_train)\n",
    "    loss = criterion(output, y_train)\n",
    "    loss.backward()\n",
    "    optimizer.step()\n",
    "    running_loss += loss.item()\n",
    "    if e % 300 == 0:\n",
    "        print(f'Training loss ({e}): {running_loss/len(x_train)}')\n",
    "else:\n",
    "    print(f'Training loss: {running_loss/len(x_train)}')"
   ]
  },
  {
   "cell_type": "code",
   "execution_count": 17,
   "metadata": {},
   "outputs": [
    {
     "data": {
      "text/html": [
       "<div>\n",
       "<style scoped>\n",
       "    .dataframe tbody tr th:only-of-type {\n",
       "        vertical-align: middle;\n",
       "    }\n",
       "\n",
       "    .dataframe tbody tr th {\n",
       "        vertical-align: top;\n",
       "    }\n",
       "\n",
       "    .dataframe thead th {\n",
       "        text-align: right;\n",
       "    }\n",
       "</style>\n",
       "<table border=\"1\" class=\"dataframe\">\n",
       "  <thead>\n",
       "    <tr style=\"text-align: right;\">\n",
       "      <th></th>\n",
       "      <th>loss</th>\n",
       "      <th>type</th>\n",
       "      <th>epoch</th>\n",
       "    </tr>\n",
       "  </thead>\n",
       "  <tbody>\n",
       "    <tr>\n",
       "      <th>0</th>\n",
       "      <td>0.383826</td>\n",
       "      <td>mse</td>\n",
       "      <td>0</td>\n",
       "    </tr>\n",
       "    <tr>\n",
       "      <th>1</th>\n",
       "      <td>0.381497</td>\n",
       "      <td>mse</td>\n",
       "      <td>1</td>\n",
       "    </tr>\n",
       "    <tr>\n",
       "      <th>2</th>\n",
       "      <td>0.379424</td>\n",
       "      <td>mse</td>\n",
       "      <td>2</td>\n",
       "    </tr>\n",
       "    <tr>\n",
       "      <th>3</th>\n",
       "      <td>0.377231</td>\n",
       "      <td>mse</td>\n",
       "      <td>3</td>\n",
       "    </tr>\n",
       "    <tr>\n",
       "      <th>4</th>\n",
       "      <td>0.375615</td>\n",
       "      <td>mse</td>\n",
       "      <td>4</td>\n",
       "    </tr>\n",
       "    <tr>\n",
       "      <th>...</th>\n",
       "      <td>...</td>\n",
       "      <td>...</td>\n",
       "      <td>...</td>\n",
       "    </tr>\n",
       "    <tr>\n",
       "      <th>599995</th>\n",
       "      <td>0.000784</td>\n",
       "      <td>gaussian</td>\n",
       "      <td>199995</td>\n",
       "    </tr>\n",
       "    <tr>\n",
       "      <th>599996</th>\n",
       "      <td>0.000763</td>\n",
       "      <td>gaussian</td>\n",
       "      <td>199996</td>\n",
       "    </tr>\n",
       "    <tr>\n",
       "      <th>599997</th>\n",
       "      <td>0.000760</td>\n",
       "      <td>gaussian</td>\n",
       "      <td>199997</td>\n",
       "    </tr>\n",
       "    <tr>\n",
       "      <th>599998</th>\n",
       "      <td>0.000772</td>\n",
       "      <td>gaussian</td>\n",
       "      <td>199998</td>\n",
       "    </tr>\n",
       "    <tr>\n",
       "      <th>599999</th>\n",
       "      <td>0.000773</td>\n",
       "      <td>gaussian</td>\n",
       "      <td>199999</td>\n",
       "    </tr>\n",
       "  </tbody>\n",
       "</table>\n",
       "<p>600000 rows × 3 columns</p>\n",
       "</div>"
      ],
      "text/plain": [
       "            loss      type   epoch\n",
       "0       0.383826       mse       0\n",
       "1       0.381497       mse       1\n",
       "2       0.379424       mse       2\n",
       "3       0.377231       mse       3\n",
       "4       0.375615       mse       4\n",
       "...          ...       ...     ...\n",
       "599995  0.000784  gaussian  199995\n",
       "599996  0.000763  gaussian  199996\n",
       "599997  0.000760  gaussian  199997\n",
       "599998  0.000772  gaussian  199998\n",
       "599999  0.000773  gaussian  199999\n",
       "\n",
       "[600000 rows x 3 columns]"
      ]
     },
     "execution_count": 17,
     "metadata": {},
     "output_type": "execute_result"
    }
   ],
   "source": [
    "loss_info_mse = [\n",
    "    {\n",
    "        'loss': mse,\n",
    "        'type': 'mse',\n",
    "        'epoch': i\n",
    "    }\n",
    "    for i, (mse, corr, gaus) in enumerate(criterion._loss_record)\n",
    "]\n",
    "loss_info_corr = [\n",
    "    {\n",
    "        'loss': corr,\n",
    "        'type': 'correlation',\n",
    "        'epoch': i\n",
    "    }\n",
    "    for i, (mse, corr, gaus) in enumerate(criterion._loss_record)\n",
    "]\n",
    "loss_info_gauss = [\n",
    "    {\n",
    "        'loss': gaus,\n",
    "        'type': 'gaussian',\n",
    "        'epoch': i\n",
    "    }\n",
    "    for i, (mse, corr, gaus) in enumerate(criterion._loss_record)\n",
    "]\n",
    "loss_trends = pd.DataFrame(loss_info_mse + loss_info_corr + loss_info_gauss)"
   ]
  },
  {
   "cell_type": "code",
   "execution_count": 26,
   "metadata": {},
   "outputs": [
    {
     "data": {
      "image/png": "[encoded data removed]",
      "text/plain": [
       "<Figure size 432x288 with 1 Axes>"
      ]
     },
     "metadata": {
      "needs_background": "light"
     },
     "output_type": "display_data"
    }
   ],
   "source": [
    "_ = sns.lineplot(x='epoch', y='loss', hue='type', data=loss_trends)\n",
    "plt.yscale('log')"
   ]
  },
  {
   "cell_type": "markdown",
   "metadata": {},
   "source": [
    "## Prediction\n",
    "\n",
    "Get the predicted probabilities out and see where they line up and how well this guy did!"
   ]
  },
  {
   "cell_type": "code",
   "execution_count": 19,
   "metadata": {},
   "outputs": [],
   "source": [
    "x_test = torch.Tensor(testing[testing.columns[:-1]].values)\n",
    "y_test = model(x_test)"
   ]
  },
  {
   "cell_type": "code",
   "execution_count": 20,
   "metadata": {},
   "outputs": [],
   "source": [
    "x_results = testing.copy()\n",
    "x_results['Prediction_1'] = y_test.detach().numpy()[:,0]\n",
    "x_results['Prediction_2'] = y_test.detach().numpy()[:,1]"
   ]
  },
  {
   "cell_type": "code",
   "execution_count": 21,
   "metadata": {},
   "outputs": [
    {
     "data": {
      "text/plain": [
       "<AxesSubplot:xlabel='Prediction_1', ylabel='Count'>"
      ]
     },
     "execution_count": 21,
     "metadata": {},
     "output_type": "execute_result"
    },
    {
     "data": {
      "image/png": "[encoded data removed]",
      "text/plain": [
       "<Figure size 432x288 with 1 Axes>"
      ]
     },
     "metadata": {
      "needs_background": "light"
     },
     "output_type": "display_data"
    }
   ],
   "source": [
    "sns.histplot(x_results, x='Prediction_1', hue='isSignal')"
   ]
  },
  {
   "cell_type": "code",
   "execution_count": 22,
   "metadata": {},
   "outputs": [
    {
     "data": {
      "text/plain": [
       "<AxesSubplot:xlabel='Prediction_2', ylabel='Count'>"
      ]
     },
     "execution_count": 22,
     "metadata": {},
     "output_type": "execute_result"
    },
    {
     "data": {
      "image/png": "[encoded data removed]",
      "text/plain": [
       "<Figure size 432x288 with 1 Axes>"
      ]
     },
     "metadata": {
      "needs_background": "light"
     },
     "output_type": "display_data"
    }
   ],
   "source": [
    "sns.histplot(x_results, x='Prediction_2', hue='isSignal')"
   ]
  },
  {
   "cell_type": "markdown",
   "metadata": {},
   "source": [
    "Lets look at the correlation between these on background and signal data"
   ]
  },
  {
   "cell_type": "code",
   "execution_count": 23,
   "metadata": {},
   "outputs": [
    {
     "data": {
      "text/plain": [
       "<seaborn.axisgrid.FacetGrid at 0x7f247f10fd50>"
      ]
     },
     "execution_count": 23,
     "metadata": {},
     "output_type": "execute_result"
    },
    {
     "data": {
      "image/png": "[encoded data removed]",
      "text/plain": [
       "<Figure size 720x360 with 2 Axes>"
      ]
     },
     "metadata": {
      "needs_background": "light"
     },
     "output_type": "display_data"
    }
   ],
   "source": [
    "sns.relplot(data=x_results, x='Prediction_1', y='Prediction_2', col='isSignal')"
   ]
  },
  {
   "cell_type": "markdown",
   "metadata": {},
   "source": [
    "Other than something odd going on down near zero, this looks very correlated for background (and signal). We need the background to be uncorrelated..."
   ]
  },
  {
   "cell_type": "markdown",
   "metadata": {},
   "source": [
    "## Correlation for the background\n",
    "\n",
    "Lets see what the final number of the correlation is of the background"
   ]
  },
  {
   "cell_type": "code",
   "execution_count": 24,
   "metadata": {},
   "outputs": [
    {
     "data": {
      "text/plain": [
       "tensor(0.0466, grad_fn=<DivBackward0>)"
      ]
     },
     "execution_count": 24,
     "metadata": {},
     "output_type": "execute_result"
    }
   ],
   "source": [
    "label = torch.Tensor(testing[testing.columns[-1]].values)\n",
    "mask = label == 0.0\n",
    "calc_r(y_test[mask])"
   ]
  }
 ],
 "metadata": {
  "kernelspec": {
   "display_name": "Python 3",
   "language": "python",
   "name": "python3"
  },
  "language_info": {
   "codemirror_mode": {
    "name": "ipython",
    "version": 3
   },
   "file_extension": ".py",
   "mimetype": "text/x-python",
   "name": "python",
   "nbconvert_exporter": "python",
   "pygments_lexer": "ipython3",
   "version": "3.7.4"
  }
 },
 "nbformat": 4,
 "nbformat_minor": 4
}
