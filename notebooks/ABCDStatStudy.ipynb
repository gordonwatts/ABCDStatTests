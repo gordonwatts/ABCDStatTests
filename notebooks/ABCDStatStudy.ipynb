{
 "cells": [
  {
   "cell_type": "markdown",
   "metadata": {},
   "source": [
    "# Introduction"
   ]
  },
  {
   "cell_type": "markdown",
   "metadata": {},
   "source": [
    "Understanding systematic and statistical errors from the ABCD method is difficult. Currently, most analyses take several arbitrary control regions and use the worst of those control regions to determine the overal systematic error. We attempt to better understand how errors work in this work.\n",
    "\n",
    "* We first show a simple run to become familiar with the standard method of error propagation used by most analyses.\n",
    "* As we vary the area of the A plane, we show how the standard error propagation fairs as a function of the size of the region A.\n",
    "* Look at how things work as a function of the number of events\n",
    "\n",
    "The ABCD method is a two-variable background method. The two variables should be uncorrelated, and lay out a plane. A cut is made along each axis and that determines the regions A, B, C, and D. For this work, the layout of ABCD starts with A in the upper left, and then counts out region B in the upper right, C in the lower left, and D in the lower right. For this study it is assumed that the x and y variables are both 0 to 1."
   ]
  },
  {
   "cell_type": "markdown",
   "metadata": {},
   "source": [
    "# Configuration"
   ]
  },
  {
   "cell_type": "markdown",
   "metadata": {},
   "source": [
    "We are using matplotlib to make plots. Allow them to appear inline."
   ]
  },
  {
   "cell_type": "code",
   "execution_count": 1,
   "metadata": {
    "collapsed": true
   },
   "outputs": [],
   "source": [
    "%matplotlib inline"
   ]
  },
  {
   "cell_type": "markdown",
   "metadata": {},
   "source": [
    "The code used to fill the ABCD plane is a small console program written in C#, which runs in parallel (to fill all your CPU's!), called ABCDTester. This is the relative location of the program that we can then run."
   ]
  },
  {
   "cell_type": "code",
   "execution_count": 2,
   "metadata": {
    "collapsed": true
   },
   "outputs": [],
   "source": [
    "ABCDTesterPath=\"C:\\\\Users\\\\Gordon\\\\Documents\\\\Code\\\\ABCDStatTests\\\\ABCDTester\\\\bin\\\\Release\\\\ABCDTester.exe\""
   ]
  },
  {
   "cell_type": "markdown",
   "metadata": {},
   "source": [
    "# Utilities"
   ]
  },
  {
   "cell_type": "markdown",
   "metadata": {},
   "source": [
    "Make running the ABCDTester code easy from within this notebook"
   ]
  },
  {
   "cell_type": "code",
   "execution_count": 62,
   "metadata": {
    "collapsed": false
   },
   "outputs": [],
   "source": [
    "import os\n",
    "import pandas as pd\n",
    "def abcd_run(nevents = 100000, ntrials=20000, x_cut = 0.5, y_cut = 0.5, min_error = 0.005):\n",
    "    if min_error > 0.0:\n",
    "        stop_condition = \"--MinError %f\" % min_error\n",
    "    else:\n",
    "        stop_condition = \"--NEvents %d\" % nevents\n",
    "    cmd = '%s --NTrials %d --XCut %f --YCut %f %s > run.txt' % (ABCDTesterPath, ntrials, x_cut, y_cut, stop_condition)\n",
    "    if os.system(cmd) != 0:\n",
    "        raise RuntimeError (\"Unable to run %s\" % cmd)\n",
    "    v = pd.read_csv(\"run.txt\")\n",
    "    os.unlink(\"run.txt\")\n",
    "    return v"
   ]
  },
  {
   "cell_type": "markdown",
   "metadata": {},
   "source": [
    "We will be doing a bunch of Gaussian fitting, so make it easy (return A (normalization), mu (average), and sigma (width)"
   ]
  },
  {
   "cell_type": "code",
   "execution_count": 63,
   "metadata": {
    "collapsed": true
   },
   "outputs": [],
   "source": [
    "from scipy.optimize import curve_fit\n",
    "import matplotlib.pyplot as plt\n",
    "import numpy\n",
    "\n",
    "def gauss(x, A, mu, sigma):\n",
    "    # Fit function\n",
    "    #A, mu, sigma = p\n",
    "    return A*numpy.exp(-(x-mu)**2/(2.*sigma**2))\n",
    "\n",
    "def fitGaus(data, plot = True):\n",
    "    # First, bin the data\n",
    "    hist, bin_edges = numpy.histogram(data, density = False, bins='auto')\n",
    "    bin_centers = (bin_edges[:-1] + bin_edges[1:])/2\n",
    "\n",
    "    p0 = [1., data.mean(), 100.]\n",
    "    coeff, var_matrix = curve_fit(gauss, bin_centers, hist, p0=p0)\n",
    "    \n",
    "    # Plot both the data and the curve\n",
    "    if plot:\n",
    "        hist_fit = gauss(bin_centers, *coeff)\n",
    "        plt.plot(bin_centers, hist, label='Test data')\n",
    "        plt.plot(bin_centers, hist_fit, label='Fitted data')\n",
    "        plt.show()\n",
    "\n",
    "    return coeff"
   ]
  },
  {
   "cell_type": "markdown",
   "metadata": {},
   "source": [
    "# Simple Single Run"
   ]
  },
  {
   "cell_type": "markdown",
   "metadata": {},
   "source": [
    "Run 10K trials with 100K events, with a cut in the middle so we can explore the output of the program"
   ]
  },
  {
   "cell_type": "code",
   "execution_count": 5,
   "metadata": {
    "collapsed": true
   },
   "outputs": [],
   "source": [
    "simple = abcd_run(ntrials = 20000, x_cut = 0.5, y_cut = 0.5)"
   ]
  },
  {
   "cell_type": "code",
   "execution_count": 6,
   "metadata": {
    "collapsed": false
   },
   "outputs": [
    {
     "data": {
      "text/html": [
       "<div>\n",
       "<table border=\"1\" class=\"dataframe\">\n",
       "  <thead>\n",
       "    <tr style=\"text-align: right;\">\n",
       "      <th></th>\n",
       "      <th>A</th>\n",
       "      <th>B</th>\n",
       "      <th>C</th>\n",
       "      <th>D</th>\n",
       "      <th>CalcA</th>\n",
       "      <th>CalcA StdDev</th>\n",
       "    </tr>\n",
       "  </thead>\n",
       "  <tbody>\n",
       "    <tr>\n",
       "      <th>0</th>\n",
       "      <td>25046</td>\n",
       "      <td>24877</td>\n",
       "      <td>25104</td>\n",
       "      <td>24973</td>\n",
       "      <td>25007.496416</td>\n",
       "      <td>274.029345</td>\n",
       "    </tr>\n",
       "    <tr>\n",
       "      <th>1</th>\n",
       "      <td>24915</td>\n",
       "      <td>25025</td>\n",
       "      <td>25227</td>\n",
       "      <td>24833</td>\n",
       "      <td>25422.046269</td>\n",
       "      <td>278.332638</td>\n",
       "    </tr>\n",
       "    <tr>\n",
       "      <th>2</th>\n",
       "      <td>24671</td>\n",
       "      <td>24822</td>\n",
       "      <td>25141</td>\n",
       "      <td>25366</td>\n",
       "      <td>24601.825357</td>\n",
       "      <td>268.920973</td>\n",
       "    </tr>\n",
       "    <tr>\n",
       "      <th>3</th>\n",
       "      <td>24956</td>\n",
       "      <td>24886</td>\n",
       "      <td>25208</td>\n",
       "      <td>24950</td>\n",
       "      <td>25143.338196</td>\n",
       "      <td>275.354961</td>\n",
       "    </tr>\n",
       "    <tr>\n",
       "      <th>4</th>\n",
       "      <td>25130</td>\n",
       "      <td>24916</td>\n",
       "      <td>25055</td>\n",
       "      <td>24899</td>\n",
       "      <td>25072.106510</td>\n",
       "      <td>274.890582</td>\n",
       "    </tr>\n",
       "    <tr>\n",
       "      <th>5</th>\n",
       "      <td>25251</td>\n",
       "      <td>24971</td>\n",
       "      <td>24921</td>\n",
       "      <td>24857</td>\n",
       "      <td>25035.293519</td>\n",
       "      <td>274.708445</td>\n",
       "    </tr>\n",
       "    <tr>\n",
       "      <th>6</th>\n",
       "      <td>25534</td>\n",
       "      <td>24860</td>\n",
       "      <td>24853</td>\n",
       "      <td>24753</td>\n",
       "      <td>24960.432271</td>\n",
       "      <td>274.407001</td>\n",
       "    </tr>\n",
       "    <tr>\n",
       "      <th>7</th>\n",
       "      <td>25009</td>\n",
       "      <td>24982</td>\n",
       "      <td>25066</td>\n",
       "      <td>24943</td>\n",
       "      <td>25105.192318</td>\n",
       "      <td>275.030684</td>\n",
       "    </tr>\n",
       "    <tr>\n",
       "      <th>8</th>\n",
       "      <td>25159</td>\n",
       "      <td>24715</td>\n",
       "      <td>24974</td>\n",
       "      <td>25152</td>\n",
       "      <td>24540.092637</td>\n",
       "      <td>269.115624</td>\n",
       "    </tr>\n",
       "    <tr>\n",
       "      <th>9</th>\n",
       "      <td>25006</td>\n",
       "      <td>25155</td>\n",
       "      <td>25043</td>\n",
       "      <td>24796</td>\n",
       "      <td>25405.576101</td>\n",
       "      <td>278.320297</td>\n",
       "    </tr>\n",
       "    <tr>\n",
       "      <th>10</th>\n",
       "      <td>24834</td>\n",
       "      <td>25155</td>\n",
       "      <td>24965</td>\n",
       "      <td>25046</td>\n",
       "      <td>25073.647489</td>\n",
       "      <td>274.365908</td>\n",
       "    </tr>\n",
       "    <tr>\n",
       "      <th>11</th>\n",
       "      <td>25014</td>\n",
       "      <td>25025</td>\n",
       "      <td>25134</td>\n",
       "      <td>24827</td>\n",
       "      <td>25334.448383</td>\n",
       "      <td>277.554476</td>\n",
       "    </tr>\n",
       "    <tr>\n",
       "      <th>12</th>\n",
       "      <td>25045</td>\n",
       "      <td>25036</td>\n",
       "      <td>25200</td>\n",
       "      <td>24719</td>\n",
       "      <td>25523.168413</td>\n",
       "      <td>279.685173</td>\n",
       "    </tr>\n",
       "    <tr>\n",
       "      <th>13</th>\n",
       "      <td>24957</td>\n",
       "      <td>25142</td>\n",
       "      <td>24953</td>\n",
       "      <td>24948</td>\n",
       "      <td>25147.038881</td>\n",
       "      <td>275.394864</td>\n",
       "    </tr>\n",
       "    <tr>\n",
       "      <th>14</th>\n",
       "      <td>24992</td>\n",
       "      <td>24892</td>\n",
       "      <td>25134</td>\n",
       "      <td>24982</td>\n",
       "      <td>25043.452406</td>\n",
       "      <td>274.324832</td>\n",
       "    </tr>\n",
       "    <tr>\n",
       "      <th>15</th>\n",
       "      <td>24870</td>\n",
       "      <td>25215</td>\n",
       "      <td>25016</td>\n",
       "      <td>24899</td>\n",
       "      <td>25333.484879</td>\n",
       "      <td>277.277978</td>\n",
       "    </tr>\n",
       "    <tr>\n",
       "      <th>16</th>\n",
       "      <td>24787</td>\n",
       "      <td>24884</td>\n",
       "      <td>25229</td>\n",
       "      <td>25100</td>\n",
       "      <td>25011.889880</td>\n",
       "      <td>273.607701</td>\n",
       "    </tr>\n",
       "    <tr>\n",
       "      <th>17</th>\n",
       "      <td>25097</td>\n",
       "      <td>24936</td>\n",
       "      <td>24840</td>\n",
       "      <td>25127</td>\n",
       "      <td>24651.181597</td>\n",
       "      <td>270.218039</td>\n",
       "    </tr>\n",
       "    <tr>\n",
       "      <th>18</th>\n",
       "      <td>25164</td>\n",
       "      <td>24855</td>\n",
       "      <td>24945</td>\n",
       "      <td>25036</td>\n",
       "      <td>24764.657893</td>\n",
       "      <td>271.581517</td>\n",
       "    </tr>\n",
       "    <tr>\n",
       "      <th>19</th>\n",
       "      <td>24738</td>\n",
       "      <td>24852</td>\n",
       "      <td>25321</td>\n",
       "      <td>25089</td>\n",
       "      <td>25081.808442</td>\n",
       "      <td>274.286779</td>\n",
       "    </tr>\n",
       "    <tr>\n",
       "      <th>20</th>\n",
       "      <td>24974</td>\n",
       "      <td>25125</td>\n",
       "      <td>24880</td>\n",
       "      <td>25021</td>\n",
       "      <td>24983.413932</td>\n",
       "      <td>273.634369</td>\n",
       "    </tr>\n",
       "    <tr>\n",
       "      <th>21</th>\n",
       "      <td>24770</td>\n",
       "      <td>24986</td>\n",
       "      <td>25129</td>\n",
       "      <td>25115</td>\n",
       "      <td>24999.928091</td>\n",
       "      <td>273.442437</td>\n",
       "    </tr>\n",
       "    <tr>\n",
       "      <th>22</th>\n",
       "      <td>25135</td>\n",
       "      <td>25045</td>\n",
       "      <td>24851</td>\n",
       "      <td>24969</td>\n",
       "      <td>24926.640835</td>\n",
       "      <td>273.305153</td>\n",
       "    </tr>\n",
       "    <tr>\n",
       "      <th>23</th>\n",
       "      <td>24836</td>\n",
       "      <td>25065</td>\n",
       "      <td>25076</td>\n",
       "      <td>25023</td>\n",
       "      <td>25118.088958</td>\n",
       "      <td>274.854649</td>\n",
       "    </tr>\n",
       "    <tr>\n",
       "      <th>24</th>\n",
       "      <td>24953</td>\n",
       "      <td>24927</td>\n",
       "      <td>25139</td>\n",
       "      <td>24981</td>\n",
       "      <td>25084.658460</td>\n",
       "      <td>274.704378</td>\n",
       "    </tr>\n",
       "    <tr>\n",
       "      <th>25</th>\n",
       "      <td>25168</td>\n",
       "      <td>24702</td>\n",
       "      <td>25126</td>\n",
       "      <td>25004</td>\n",
       "      <td>24822.526476</td>\n",
       "      <td>272.229185</td>\n",
       "    </tr>\n",
       "    <tr>\n",
       "      <th>26</th>\n",
       "      <td>25189</td>\n",
       "      <td>24945</td>\n",
       "      <td>24831</td>\n",
       "      <td>25035</td>\n",
       "      <td>24741.733373</td>\n",
       "      <td>271.375778</td>\n",
       "    </tr>\n",
       "    <tr>\n",
       "      <th>27</th>\n",
       "      <td>24581</td>\n",
       "      <td>25255</td>\n",
       "      <td>25259</td>\n",
       "      <td>24905</td>\n",
       "      <td>25613.974905</td>\n",
       "      <td>279.812657</td>\n",
       "    </tr>\n",
       "    <tr>\n",
       "      <th>28</th>\n",
       "      <td>24840</td>\n",
       "      <td>25038</td>\n",
       "      <td>25114</td>\n",
       "      <td>25008</td>\n",
       "      <td>25144.127159</td>\n",
       "      <td>275.147215</td>\n",
       "    </tr>\n",
       "    <tr>\n",
       "      <th>29</th>\n",
       "      <td>25159</td>\n",
       "      <td>25069</td>\n",
       "      <td>24611</td>\n",
       "      <td>25161</td>\n",
       "      <td>24521.011049</td>\n",
       "      <td>268.911979</td>\n",
       "    </tr>\n",
       "    <tr>\n",
       "      <th>...</th>\n",
       "      <td>...</td>\n",
       "      <td>...</td>\n",
       "      <td>...</td>\n",
       "      <td>...</td>\n",
       "      <td>...</td>\n",
       "      <td>...</td>\n",
       "    </tr>\n",
       "    <tr>\n",
       "      <th>19970</th>\n",
       "      <td>24900</td>\n",
       "      <td>25170</td>\n",
       "      <td>24917</td>\n",
       "      <td>25013</td>\n",
       "      <td>25073.397433</td>\n",
       "      <td>274.484759</td>\n",
       "    </tr>\n",
       "    <tr>\n",
       "      <th>19971</th>\n",
       "      <td>25059</td>\n",
       "      <td>24916</td>\n",
       "      <td>24901</td>\n",
       "      <td>25124</td>\n",
       "      <td>24694.846203</td>\n",
       "      <td>270.627193</td>\n",
       "    </tr>\n",
       "    <tr>\n",
       "      <th>19972</th>\n",
       "      <td>25118</td>\n",
       "      <td>25012</td>\n",
       "      <td>24907</td>\n",
       "      <td>24963</td>\n",
       "      <td>24955.890077</td>\n",
       "      <td>273.593794</td>\n",
       "    </tr>\n",
       "    <tr>\n",
       "      <th>19973</th>\n",
       "      <td>25095</td>\n",
       "      <td>24997</td>\n",
       "      <td>25004</td>\n",
       "      <td>24904</td>\n",
       "      <td>25097.373434</td>\n",
       "      <td>275.102697</td>\n",
       "    </tr>\n",
       "    <tr>\n",
       "      <th>19974</th>\n",
       "      <td>25046</td>\n",
       "      <td>24902</td>\n",
       "      <td>25081</td>\n",
       "      <td>24971</td>\n",
       "      <td>25011.696047</td>\n",
       "      <td>274.074656</td>\n",
       "    </tr>\n",
       "    <tr>\n",
       "      <th>19975</th>\n",
       "      <td>25181</td>\n",
       "      <td>24678</td>\n",
       "      <td>25186</td>\n",
       "      <td>24955</td>\n",
       "      <td>24906.435905</td>\n",
       "      <td>273.175635</td>\n",
       "    </tr>\n",
       "    <tr>\n",
       "      <th>19976</th>\n",
       "      <td>25078</td>\n",
       "      <td>25112</td>\n",
       "      <td>24722</td>\n",
       "      <td>25088</td>\n",
       "      <td>24745.649872</td>\n",
       "      <td>271.223041</td>\n",
       "    </tr>\n",
       "    <tr>\n",
       "      <th>19977</th>\n",
       "      <td>24906</td>\n",
       "      <td>25154</td>\n",
       "      <td>25035</td>\n",
       "      <td>24905</td>\n",
       "      <td>25285.299739</td>\n",
       "      <td>276.815450</td>\n",
       "    </tr>\n",
       "    <tr>\n",
       "      <th>19978</th>\n",
       "      <td>24893</td>\n",
       "      <td>25147</td>\n",
       "      <td>25062</td>\n",
       "      <td>24898</td>\n",
       "      <td>25312.640132</td>\n",
       "      <td>277.090858</td>\n",
       "    </tr>\n",
       "    <tr>\n",
       "      <th>19979</th>\n",
       "      <td>24759</td>\n",
       "      <td>25091</td>\n",
       "      <td>25224</td>\n",
       "      <td>24926</td>\n",
       "      <td>25390.972639</td>\n",
       "      <td>277.701640</td>\n",
       "    </tr>\n",
       "    <tr>\n",
       "      <th>19980</th>\n",
       "      <td>24994</td>\n",
       "      <td>24953</td>\n",
       "      <td>24978</td>\n",
       "      <td>25075</td>\n",
       "      <td>24856.471944</td>\n",
       "      <td>272.278719</td>\n",
       "    </tr>\n",
       "    <tr>\n",
       "      <th>19981</th>\n",
       "      <td>24842</td>\n",
       "      <td>25094</td>\n",
       "      <td>24907</td>\n",
       "      <td>25157</td>\n",
       "      <td>24844.626068</td>\n",
       "      <td>271.875467</td>\n",
       "    </tr>\n",
       "    <tr>\n",
       "      <th>19982</th>\n",
       "      <td>24843</td>\n",
       "      <td>25142</td>\n",
       "      <td>25126</td>\n",
       "      <td>24889</td>\n",
       "      <td>25381.409137</td>\n",
       "      <td>277.751819</td>\n",
       "    </tr>\n",
       "    <tr>\n",
       "      <th>19983</th>\n",
       "      <td>24869</td>\n",
       "      <td>24972</td>\n",
       "      <td>25069</td>\n",
       "      <td>25090</td>\n",
       "      <td>24951.098764</td>\n",
       "      <td>273.087776</td>\n",
       "    </tr>\n",
       "    <tr>\n",
       "      <th>19984</th>\n",
       "      <td>24959</td>\n",
       "      <td>25134</td>\n",
       "      <td>24904</td>\n",
       "      <td>25003</td>\n",
       "      <td>25034.481302</td>\n",
       "      <td>274.166017</td>\n",
       "    </tr>\n",
       "    <tr>\n",
       "      <th>19985</th>\n",
       "      <td>25014</td>\n",
       "      <td>25117</td>\n",
       "      <td>24893</td>\n",
       "      <td>24976</td>\n",
       "      <td>25033.531430</td>\n",
       "      <td>274.256070</td>\n",
       "    </tr>\n",
       "    <tr>\n",
       "      <th>19986</th>\n",
       "      <td>24962</td>\n",
       "      <td>25122</td>\n",
       "      <td>24770</td>\n",
       "      <td>25146</td>\n",
       "      <td>24746.358864</td>\n",
       "      <td>271.020560</td>\n",
       "    </tr>\n",
       "    <tr>\n",
       "      <th>19987</th>\n",
       "      <td>25035</td>\n",
       "      <td>24867</td>\n",
       "      <td>25072</td>\n",
       "      <td>25026</td>\n",
       "      <td>24912.707744</td>\n",
       "      <td>272.970430</td>\n",
       "    </tr>\n",
       "    <tr>\n",
       "      <th>19988</th>\n",
       "      <td>25311</td>\n",
       "      <td>25095</td>\n",
       "      <td>24687</td>\n",
       "      <td>24907</td>\n",
       "      <td>24873.339423</td>\n",
       "      <td>273.046601</td>\n",
       "    </tr>\n",
       "    <tr>\n",
       "      <th>19989</th>\n",
       "      <td>25111</td>\n",
       "      <td>25044</td>\n",
       "      <td>24953</td>\n",
       "      <td>24892</td>\n",
       "      <td>25105.372489</td>\n",
       "      <td>275.220175</td>\n",
       "    </tr>\n",
       "    <tr>\n",
       "      <th>19990</th>\n",
       "      <td>25137</td>\n",
       "      <td>24982</td>\n",
       "      <td>24927</td>\n",
       "      <td>24954</td>\n",
       "      <td>24954.969704</td>\n",
       "      <td>273.618126</td>\n",
       "    </tr>\n",
       "    <tr>\n",
       "      <th>19991</th>\n",
       "      <td>25053</td>\n",
       "      <td>24909</td>\n",
       "      <td>25044</td>\n",
       "      <td>24994</td>\n",
       "      <td>24958.829959</td>\n",
       "      <td>273.507621</td>\n",
       "    </tr>\n",
       "    <tr>\n",
       "      <th>19992</th>\n",
       "      <td>25108</td>\n",
       "      <td>24883</td>\n",
       "      <td>25168</td>\n",
       "      <td>24841</td>\n",
       "      <td>25210.552876</td>\n",
       "      <td>276.371487</td>\n",
       "    </tr>\n",
       "    <tr>\n",
       "      <th>19993</th>\n",
       "      <td>25329</td>\n",
       "      <td>24964</td>\n",
       "      <td>24682</td>\n",
       "      <td>25025</td>\n",
       "      <td>24621.836084</td>\n",
       "      <td>270.317125</td>\n",
       "    </tr>\n",
       "    <tr>\n",
       "      <th>19994</th>\n",
       "      <td>24875</td>\n",
       "      <td>25013</td>\n",
       "      <td>24923</td>\n",
       "      <td>25189</td>\n",
       "      <td>24748.858589</td>\n",
       "      <td>270.887151</td>\n",
       "    </tr>\n",
       "    <tr>\n",
       "      <th>19995</th>\n",
       "      <td>25055</td>\n",
       "      <td>25104</td>\n",
       "      <td>24905</td>\n",
       "      <td>24936</td>\n",
       "      <td>25072.791145</td>\n",
       "      <td>274.761108</td>\n",
       "    </tr>\n",
       "    <tr>\n",
       "      <th>19996</th>\n",
       "      <td>24793</td>\n",
       "      <td>25309</td>\n",
       "      <td>25107</td>\n",
       "      <td>24791</td>\n",
       "      <td>25631.602719</td>\n",
       "      <td>280.403624</td>\n",
       "    </tr>\n",
       "    <tr>\n",
       "      <th>19997</th>\n",
       "      <td>25003</td>\n",
       "      <td>24982</td>\n",
       "      <td>25072</td>\n",
       "      <td>24943</td>\n",
       "      <td>25111.201700</td>\n",
       "      <td>275.085576</td>\n",
       "    </tr>\n",
       "    <tr>\n",
       "      <th>19998</th>\n",
       "      <td>24887</td>\n",
       "      <td>25116</td>\n",
       "      <td>24997</td>\n",
       "      <td>25000</td>\n",
       "      <td>25112.986080</td>\n",
       "      <td>274.892644</td>\n",
       "    </tr>\n",
       "    <tr>\n",
       "      <th>19999</th>\n",
       "      <td>25050</td>\n",
       "      <td>25023</td>\n",
       "      <td>25069</td>\n",
       "      <td>24858</td>\n",
       "      <td>25235.400555</td>\n",
       "      <td>276.533977</td>\n",
       "    </tr>\n",
       "  </tbody>\n",
       "</table>\n",
       "<p>20000 rows × 6 columns</p>\n",
       "</div>"
      ],
      "text/plain": [
       "           A      B      C      D         CalcA  CalcA StdDev\n",
       "0      25046  24877  25104  24973  25007.496416    274.029345\n",
       "1      24915  25025  25227  24833  25422.046269    278.332638\n",
       "2      24671  24822  25141  25366  24601.825357    268.920973\n",
       "3      24956  24886  25208  24950  25143.338196    275.354961\n",
       "4      25130  24916  25055  24899  25072.106510    274.890582\n",
       "5      25251  24971  24921  24857  25035.293519    274.708445\n",
       "6      25534  24860  24853  24753  24960.432271    274.407001\n",
       "7      25009  24982  25066  24943  25105.192318    275.030684\n",
       "8      25159  24715  24974  25152  24540.092637    269.115624\n",
       "9      25006  25155  25043  24796  25405.576101    278.320297\n",
       "10     24834  25155  24965  25046  25073.647489    274.365908\n",
       "11     25014  25025  25134  24827  25334.448383    277.554476\n",
       "12     25045  25036  25200  24719  25523.168413    279.685173\n",
       "13     24957  25142  24953  24948  25147.038881    275.394864\n",
       "14     24992  24892  25134  24982  25043.452406    274.324832\n",
       "15     24870  25215  25016  24899  25333.484879    277.277978\n",
       "16     24787  24884  25229  25100  25011.889880    273.607701\n",
       "17     25097  24936  24840  25127  24651.181597    270.218039\n",
       "18     25164  24855  24945  25036  24764.657893    271.581517\n",
       "19     24738  24852  25321  25089  25081.808442    274.286779\n",
       "20     24974  25125  24880  25021  24983.413932    273.634369\n",
       "21     24770  24986  25129  25115  24999.928091    273.442437\n",
       "22     25135  25045  24851  24969  24926.640835    273.305153\n",
       "23     24836  25065  25076  25023  25118.088958    274.854649\n",
       "24     24953  24927  25139  24981  25084.658460    274.704378\n",
       "25     25168  24702  25126  25004  24822.526476    272.229185\n",
       "26     25189  24945  24831  25035  24741.733373    271.375778\n",
       "27     24581  25255  25259  24905  25613.974905    279.812657\n",
       "28     24840  25038  25114  25008  25144.127159    275.147215\n",
       "29     25159  25069  24611  25161  24521.011049    268.911979\n",
       "...      ...    ...    ...    ...           ...           ...\n",
       "19970  24900  25170  24917  25013  25073.397433    274.484759\n",
       "19971  25059  24916  24901  25124  24694.846203    270.627193\n",
       "19972  25118  25012  24907  24963  24955.890077    273.593794\n",
       "19973  25095  24997  25004  24904  25097.373434    275.102697\n",
       "19974  25046  24902  25081  24971  25011.696047    274.074656\n",
       "19975  25181  24678  25186  24955  24906.435905    273.175635\n",
       "19976  25078  25112  24722  25088  24745.649872    271.223041\n",
       "19977  24906  25154  25035  24905  25285.299739    276.815450\n",
       "19978  24893  25147  25062  24898  25312.640132    277.090858\n",
       "19979  24759  25091  25224  24926  25390.972639    277.701640\n",
       "19980  24994  24953  24978  25075  24856.471944    272.278719\n",
       "19981  24842  25094  24907  25157  24844.626068    271.875467\n",
       "19982  24843  25142  25126  24889  25381.409137    277.751819\n",
       "19983  24869  24972  25069  25090  24951.098764    273.087776\n",
       "19984  24959  25134  24904  25003  25034.481302    274.166017\n",
       "19985  25014  25117  24893  24976  25033.531430    274.256070\n",
       "19986  24962  25122  24770  25146  24746.358864    271.020560\n",
       "19987  25035  24867  25072  25026  24912.707744    272.970430\n",
       "19988  25311  25095  24687  24907  24873.339423    273.046601\n",
       "19989  25111  25044  24953  24892  25105.372489    275.220175\n",
       "19990  25137  24982  24927  24954  24954.969704    273.618126\n",
       "19991  25053  24909  25044  24994  24958.829959    273.507621\n",
       "19992  25108  24883  25168  24841  25210.552876    276.371487\n",
       "19993  25329  24964  24682  25025  24621.836084    270.317125\n",
       "19994  24875  25013  24923  25189  24748.858589    270.887151\n",
       "19995  25055  25104  24905  24936  25072.791145    274.761108\n",
       "19996  24793  25309  25107  24791  25631.602719    280.403624\n",
       "19997  25003  24982  25072  24943  25111.201700    275.085576\n",
       "19998  24887  25116  24997  25000  25112.986080    274.892644\n",
       "19999  25050  25023  25069  24858  25235.400555    276.533977\n",
       "\n",
       "[20000 rows x 6 columns]"
      ]
     },
     "execution_count": 6,
     "metadata": {},
     "output_type": "execute_result"
    }
   ],
   "source": [
    "simple"
   ]
  },
  {
   "cell_type": "markdown",
   "metadata": {},
   "source": [
    "Since the event placement is done by a flat random number generator, we should expect a gaussian with with sqrt(N) for regions A...D. Lets look just at A."
   ]
  },
  {
   "cell_type": "code",
   "execution_count": 7,
   "metadata": {
    "collapsed": false
   },
   "outputs": [
    {
     "data": {
      "text/plain": [
       "A               25000.683750\n",
       "B               25000.068800\n",
       "C               25000.548300\n",
       "D               24998.699150\n",
       "CalcA           25002.932545\n",
       "CalcA StdDev      273.898216\n",
       "dtype: float64"
      ]
     },
     "execution_count": 7,
     "metadata": {},
     "output_type": "execute_result"
    }
   ],
   "source": [
    "simple.mean()"
   ]
  },
  {
   "cell_type": "markdown",
   "metadata": {},
   "source": [
    "Note that the calculated A is the same as A itself on average. The StdDev column is the simple statistical error propagation of the relation BC/D (assuming all errors are sqrt(N) and guassian)."
   ]
  },
  {
   "cell_type": "code",
   "execution_count": 8,
   "metadata": {
    "collapsed": false
   },
   "outputs": [
    {
     "data": {
      "text/plain": [
       "A               137.299170\n",
       "B               137.501372\n",
       "C               136.098949\n",
       "D               137.768054\n",
       "CalcA           263.069081\n",
       "CalcA StdDev      2.850618\n",
       "dtype: float64"
      ]
     },
     "execution_count": 8,
     "metadata": {},
     "output_type": "execute_result"
    }
   ],
   "source": [
    "simple.std()"
   ]
  },
  {
   "cell_type": "code",
   "execution_count": 9,
   "metadata": {
    "collapsed": false
   },
   "outputs": [
    {
     "data": {
      "text/plain": [
       "158.1160452009852"
      ]
     },
     "execution_count": 9,
     "metadata": {},
     "output_type": "execute_result"
    }
   ],
   "source": [
    "import math\n",
    "math.sqrt(simple.mean()['A'])"
   ]
  },
  {
   "cell_type": "markdown",
   "metadata": {},
   "source": [
    "I do not understand why these are different.\n",
    "\n",
    "Histogram and fit these"
   ]
  },
  {
   "cell_type": "code",
   "execution_count": 10,
   "metadata": {
    "collapsed": false
   },
   "outputs": [
    {
     "data": {
      "image/png": "[encoded data removed]",
      "text/plain": [
       "<matplotlib.figure.Figure at 0x2cac56675c0>"
      ]
     },
     "metadata": {},
     "output_type": "display_data"
    },
    {
     "data": {
      "text/plain": [
       "array([   785.17273383,  25000.42068838,   -138.00284644])"
      ]
     },
     "execution_count": 10,
     "metadata": {},
     "output_type": "execute_result"
    }
   ],
   "source": [
    "fitGaus(simple['A'])"
   ]
  },
  {
   "cell_type": "markdown",
   "metadata": {},
   "source": [
    "Look at the difference between A and the calculated A."
   ]
  },
  {
   "cell_type": "code",
   "execution_count": 11,
   "metadata": {
    "collapsed": false
   },
   "outputs": [
    {
     "data": {
      "image/png": "[encoded data removed]",
      "text/plain": [
       "<matplotlib.figure.Figure at 0x2cac6d4b358>"
      ]
     },
     "metadata": {},
     "output_type": "display_data"
    },
    {
     "data": {
      "text/plain": [
       "array([  7.91029302e+02,   4.77259642e-01,  -3.18890015e+02])"
      ]
     },
     "execution_count": 11,
     "metadata": {},
     "output_type": "execute_result"
    }
   ],
   "source": [
    "fitGaus(simple['A']-simple['CalcA'])"
   ]
  },
  {
   "cell_type": "markdown",
   "metadata": {},
   "source": [
    "The 311 width here should be compared to the mean of the calculated standard deveation above (273 when I ran this). Do not know what is at the root of the discrepancy here."
   ]
  },
  {
   "cell_type": "markdown",
   "metadata": {},
   "source": [
    "# Behavior as a function of size of A"
   ]
  },
  {
   "cell_type": "markdown",
   "metadata": {},
   "source": [
    "The above was for a single cut point, at 0.5 and 0.5. Now, lets look at the size of the error and the difference in the side of the error as a function of the cut point.\n",
    "\n",
    "First job is to define a function that will return the basic information for each run: the number in A, the calculated number in A, as a function of the a x,y cut"
   ]
  },
  {
   "cell_type": "code",
   "execution_count": 65,
   "metadata": {
    "collapsed": false
   },
   "outputs": [],
   "source": [
    "def calcErrorForXYCut(x_cut = 0.5, y_cut = 0.5, ntrials = 10000, min_error = 0.005, nevents = 1000):\n",
    "    v = abcd_run(ntrials = ntrials, x_cut = x_cut, y_cut = y_cut, nevents = nevents, min_error = min_error)\n",
    "    fitDataCalcA = fitGaus(v['CalcA'], plot = False)\n",
    "    return (v['A'].mean(), v['CalcA StdDev'].mean(), abs(fitDataCalcA[2]))"
   ]
  },
  {
   "cell_type": "markdown",
   "metadata": {},
   "source": [
    "How many trials should we use in order to get a decent understanding of the error? First, get the propagated error and the fit width as a function of the # of trials we use."
   ]
  },
  {
   "cell_type": "code",
   "execution_count": 43,
   "metadata": {
    "collapsed": false
   },
   "outputs": [],
   "source": [
    "from itertools import chain\n",
    "trial_series = [e for e in chain(range(50, 100, 10), range(100, 500, 100), range(500, 10001, 500))]\n",
    "abcd_ntrials = [calcErrorForXYCut(ntrials = i) for i in trial_series]"
   ]
  },
  {
   "cell_type": "code",
   "execution_count": 54,
   "metadata": {
    "collapsed": false
   },
   "outputs": [
    {
     "data": {
      "text/plain": [
       "(0, 700)"
      ]
     },
     "execution_count": 54,
     "metadata": {},
     "output_type": "execute_result"
    },
    {
     "data": {
      "image/png": "[encoded data removed]",
      "text/plain": [
       "<matplotlib.figure.Figure at 0x2cac8acc908>"
      ]
     },
     "metadata": {},
     "output_type": "display_data"
    }
   ],
   "source": [
    "plt.plot(list(trial_series),[l[2] for l in abcd_ntrials])\n",
    "plt.ylim(0,700)"
   ]
  },
  {
   "cell_type": "markdown",
   "metadata": {},
   "source": [
    "Tells you we should stick around 1,000 trials - and the system has noise of about 20 counts or so. Which is... odd. Lets look at the same thing for the propagated error."
   ]
  },
  {
   "cell_type": "code",
   "execution_count": 53,
   "metadata": {
    "collapsed": false
   },
   "outputs": [
    {
     "data": {
      "text/plain": [
       "(0, 300)"
      ]
     },
     "execution_count": 53,
     "metadata": {},
     "output_type": "execute_result"
    },
    {
     "data": {
      "image/png": "[encoded data removed]",
      "text/plain": [
       "<matplotlib.figure.Figure at 0x2cac8a1e080>"
      ]
     },
     "metadata": {},
     "output_type": "display_data"
    }
   ],
   "source": [
    "plt.plot(trial_series, [l[1] for l in abcd_ntrials])\n",
    "plt.ylim(0,300)"
   ]
  },
  {
   "cell_type": "code",
   "execution_count": null,
   "metadata": {
    "collapsed": true
   },
   "outputs": [],
   "source": [
    "plt.plot(trial_series,errors)"
   ]
  },
  {
   "cell_type": "markdown",
   "metadata": {},
   "source": [
    "The propagated error is rock solid from the get-go - no matter the number of trials. So we can see 1000 is probably enough for most runs!\n",
    "\n",
    "Lets look at the behavior of the errors as a function of the x/y cut when they are run together."
   ]
  },
  {
   "cell_type": "code",
   "execution_count": 16,
   "metadata": {
    "collapsed": false
   },
   "outputs": [],
   "source": [
    "cut_values = range(1, 20)\n",
    "abcd_at_cuts = [calcErrorForXYCut(x_cut = c*0.05, y_cut = c*0.05, ntrials=1000) for c in cut_values]"
   ]
  },
  {
   "cell_type": "code",
   "execution_count": 60,
   "metadata": {
    "collapsed": false
   },
   "outputs": [
    {
     "data": {
      "text/plain": [
       "(0, 320)"
      ]
     },
     "execution_count": 60,
     "metadata": {},
     "output_type": "execute_result"
    },
    {
     "data": {
      "image/png": "[encoded data removed]",
      "text/plain": [
       "<matplotlib.figure.Figure at 0x2cac810c2e8>"
      ]
     },
     "metadata": {},
     "output_type": "display_data"
    }
   ],
   "source": [
    "plt.plot([i*0.05 for i in cut_values], [v[2] for v in abcd_at_cuts])\n",
    "plt.plot([i*0.05 for i in cut_values], [v[1] for v in abcd_at_cuts])\n",
    "plt.ylim(0,320)"
   ]
  },
  {
   "cell_type": "code",
   "execution_count": 61,
   "metadata": {
    "collapsed": false
   },
   "outputs": [
    {
     "data": {
      "text/plain": [
       "[<matplotlib.lines.Line2D at 0x2cac836f320>]"
      ]
     },
     "execution_count": 61,
     "metadata": {},
     "output_type": "execute_result"
    },
    {
     "data": {
      "image/png": "[encoded data removed]",
      "text/plain": [
       "<matplotlib.figure.Figure at 0x2cac6f592b0>"
      ]
     },
     "metadata": {},
     "output_type": "display_data"
    }
   ],
   "source": [
    "plt.plot([i*0.05 for i in cut_values], [v[2]-v[1] for v in abcd_at_cuts])"
   ]
  },
  {
   "cell_type": "markdown",
   "metadata": {},
   "source": [
    "There is no real difference as a function fo the ABCD cut value. This is good - so we can use standard error propagation and trust that it gets it right. Also tells you a bit about how much of a difference this makes."
   ]
  },
  {
   "cell_type": "markdown",
   "metadata": {
    "collapsed": true
   },
   "source": [
    "# Looking at small numbers of events"
   ]
  },
  {
   "cell_type": "markdown",
   "metadata": {},
   "source": [
    "Given all distributions are flat, how do things look as we decrease the total number of events in the ABCD plane?\n",
    "\n",
    "Plot the fractional error (error/events)."
   ]
  },
  {
   "cell_type": "code",
   "execution_count": 68,
   "metadata": {
    "collapsed": false
   },
   "outputs": [],
   "source": [
    "event_range = [i for i in chain(range(500, 1000, 200), range(1000, 10000, 1000), range (10000, 20000, 2000))]\n",
    "abcd_at_events_05 = [calcErrorForXYCut(x_cut = 0.5, y_cut = 0.5, ntrials=1000, min_error = -1.0, nevents=e) for e in event_range]"
   ]
  },
  {
   "cell_type": "code",
   "execution_count": 72,
   "metadata": {
    "collapsed": false
   },
   "outputs": [
    {
     "data": {
      "text/plain": [
       "[<matplotlib.lines.Line2D at 0x2cac87af898>]"
      ]
     },
     "execution_count": 72,
     "metadata": {},
     "output_type": "execute_result"
    },
    {
     "data": {
      "image/png": "[encoded data removed]",
      "text/plain": [
       "<matplotlib.figure.Figure at 0x2cac87af8d0>"
      ]
     },
     "metadata": {},
     "output_type": "display_data"
    }
   ],
   "source": [
    "plt.plot(event_range, [l[1]/l[0] for l in abcd_at_events_05])\n",
    "plt.plot(event_range, [l[2]/l[0] for l in abcd_at_events_05])"
   ]
  },
  {
   "cell_type": "code",
   "execution_count": 77,
   "metadata": {
    "collapsed": false
   },
   "outputs": [],
   "source": [
    "event_range = [i for i in chain(range(5000, 10000, 1000), range (10000, 20000, 2000))]\n",
    "abcd_at_events_005 = [calcErrorForXYCut(x_cut = 0.05, y_cut = 0.05, ntrials=1000, min_error = -1.0, nevents=e) for e in event_range]"
   ]
  },
  {
   "cell_type": "code",
   "execution_count": 78,
   "metadata": {
    "collapsed": false,
    "scrolled": true
   },
   "outputs": [
    {
     "data": {
      "text/plain": [
       "[<matplotlib.lines.Line2D at 0x2cac8c2aa58>]"
      ]
     },
     "execution_count": 78,
     "metadata": {},
     "output_type": "execute_result"
    },
    {
     "data": {
      "image/png": "[encoded data removed]",
      "text/plain": [
       "<matplotlib.figure.Figure at 0x2cac86adac8>"
      ]
     },
     "metadata": {},
     "output_type": "display_data"
    }
   ],
   "source": [
    "plt.plot(event_range, [l[1]/l[0] for l in abcd_at_events_005])\n",
    "plt.plot(event_range, [l[2]/l[0] for l in abcd_at_events_005])"
   ]
  },
  {
   "cell_type": "code",
   "execution_count": 80,
   "metadata": {
    "collapsed": false,
    "scrolled": true
   },
   "outputs": [
    {
     "data": {
      "text/plain": [
       "(0, 900)"
      ]
     },
     "execution_count": 80,
     "metadata": {},
     "output_type": "execute_result"
    },
    {
     "data": {
      "image/png": "[encoded data removed]",
      "text/plain": [
       "<matplotlib.figure.Figure at 0x2cac88f2128>"
      ]
     },
     "metadata": {},
     "output_type": "display_data"
    }
   ],
   "source": [
    "plt.plot(event_range, [l[0] for l in abcd_at_events_005])\n",
    "plt.ylim(0,900)"
   ]
  },
  {
   "cell_type": "markdown",
   "metadata": {},
   "source": [
    "Lets re-run the above with 3000 trials - just to see how much is a function of trials and how much is a function of the number of events."
   ]
  },
  {
   "cell_type": "code",
   "execution_count": 89,
   "metadata": {
    "collapsed": false
   },
   "outputs": [
    {
     "ename": "TypeError",
     "evalue": "Could not convert  29.8386871076718 20.3218590035648 20.3218590035648 20.3218590035648 14.5756900404894 15.7060071170418 14.5756900404894 29.8386871076718 29.8386871076718 20.3218590035648 14.5756900404894 20.3218590035648 20.3218590035648 20.3218590035648 14.5756900404894 20.3218590035648 20.3218590035648 20.3218590035648 14.5756900404894 20.3218590035648 20.3218590035648 20.3218590035648 14.5756900404894 20.3218590035648 20.3218590035648 20.3218590035648 29.8386871076718 14.5756900404894 20.3218590035648 20.3218590035648 20.3218590035648 20.3218590035648 14.5756900404894 20.3218590035648 20.3218590035648 20.3218590035648 20.3218590035648 46.0400640746731 20.3218590035648 14.5756900404894 20.3218590035648 20.3218590035648 46.0400640746731 20.3218590035648 14.5756900404894 14.5756900404894 20.3218590035648 46.0400640746731 14.5756900404894 14.5756900404894 14.5756900404894 20.3218590035648 46.0400640746731 14.5756900404894 14.5756900404894 14.5756900404894 20.3218590035648 46.0400640746731 14.5756900404894 14.5756900404894 14.5756900404894 14.5756900404894 46.0400640746731 14.5756900404894 14.5756900404894 14.5756900404894 14.5756900404894 46.0400640746731 14.5756900404894 14.5756900404894 14.5756900404894 14.5756900404894 46.0400640746731 14.5756900404894 14.5756900404894 14.5756900404894 14.5756900404894 46.0400640746731 14.5756900404894 46.0400640746731 46.0400640746731 14.5756900404894 19.4696088675831 46.0400640746731 46.0400640746731 46.0400640746731 14.5756900404894 19.4696088675831 46.0400640746731 46.0400640746731 46.0400640746731 14.5756900404894 19.4696088675831 46.0400640746731 46.0400640746731 46.0400640746731 14.5756900404894 19.4696088675831 46.0400640746731 46.0400640746731 46.0400640746731 14.5756900404894 19.4696088675831 46.0400640746731 46.0400640746731 46.0400640746731 46.0400640746731 19.4696088675831 46.0400640746731 46.0400640746731 46.0400640746731 46.0400640746731 19.4696088675831 46.0400640746731 46.0400640746731 46.0400640746731 46.0400640746731 19.4696088675831 46.0400640746731 19.4696088675831 19.4696088675831 46.0400640746731 32.5907680076072 19.4696088675831 19.4696088675831 19.4696088675831 46.0400640746731 32.5907680076072 19.4696088675831 19.4696088675831 19.4696088675831 46.0400640746731 32.5907680076072 19.4696088675831 19.4696088675831 19.4696088675831 46.0400640746731 32.5907680076072 19.4696088675831 19.4696088675831 19.4696088675831 46.0400640746731 32.5907680076072 19.4696088675831 19.4696088675831 19.4696088675831 46.0400640746731 32.5907680076072 19.4696088675831 19.4696088675831 19.4696088675831 19.4696088675831 32.5907680076072 19.4696088675831 32.5907680076072 19.4696088675831 19.4696088675831 32.5907680076072 19.4696088675831 32.5907680076072 32.5907680076072 19.4696088675831 32.5907680076072 32.5907680076072 32.5907680076072 32.5907680076072 19.4696088675831 30.9517481903298 32.5907680076072 32.5907680076072 32.5907680076072 19.4696088675831 30.9517481903298 32.5907680076072 32.5907680076072 32.5907680076072 32.5907680076072 30.9517481903298 32.5907680076072 32.5907680076072 32.5907680076072 32.5907680076072 30.9517481903298 32.5907680076072 32.5907680076072 32.5907680076072 32.5907680076072 30.9517481903298 32.5907680076072 32.5907680076072 32.5907680076072 32.5907680076072 30.9517481903298 32.5907680076072 30.9517481903298 30.9517481903298 32.5907680076072 30.9517481903298 32.5907680076072 30.9517481903298 30.9517481903298 32.5907680076072 30.9517481903298 30.9517481903298 30.9517481903298 30.9517481903298 32.5907680076072 30.8171687251807 30.9517481903298 30.9517481903298 30.9517481903298 32.5907680076072 30.8171687251807 30.9517481903298 30.9517481903298 30.9517481903298 30.9517481903298 30.8171687251807 30.9517481903298 30.9517481903298 30.9517481903298 30.9517481903298 30.8171687251807 30.9517481903298 30.9517481903298 30.9517481903298 30.9517481903298 30.8171687251807 30.9517481903298 30.9517481903298 30.9517481903298 30.9517481903298 30.8171687251807 30.9517481903298 30.8171687251807 30.8171687251807 30.9517481903298 30.8171687251807 30.8171687251807 30.8171687251807 30.8171687251807 30.9517481903298 30.8171687251807 30.8171687251807 30.8171687251807 30.8171687251807 30.9517481903298 30.8171687251807 30.8171687251807 30.8171687251807 30.8171687251807 30.9517481903298 22.6162213682041 30.8171687251807 30.8171687251807 30.8171687251807 30.9517481903298 22.6162213682041 30.8171687251807 30.8171687251807 30.8171687251807 30.8171687251807 22.6162213682041 30.8171687251807 30.8171687251807 30.8171687251807 30.8171687251807 22.6162213682041 30.8171687251807 30.8171687251807 30.8171687251807 30.8171687251807 22.6162213682041 30.8171687251807 22.6162213682041 22.6162213682041 30.8171687251807 22.6162213682041 22.6162213682041 22.6162213682041 22.6162213682041 30.8171687251807 22.6162213682041 22.6162213682041 22.6162213682041 22.6162213682041 30.8171687251807 22.6162213682041 22.6162213682041 22.6162213682041 22.6162213682041 30.8171687251807 18.4608442183533 22.6162213682041 22.6162213682041 22.6162213682041 30.8171687251807 18.4608442183533 22.6162213682041 22.6162213682041 22.6162213682041 30.8171687251807 18.4608442183533 22.6162213682041 22.6162213682041 22.6162213682041 22.6162213682041 18.4608442183533 22.6162213682041 18.4608442183533 22.6162213682041 22.6162213682041 18.4608442183533 18.4608442183533 18.4608442183533 18.4608442183533 22.6162213682041 18.4608442183533 18.4608442183533 18.4608442183533 18.4608442183533 22.6162213682041 18.4608442183533 18.4608442183533 18.4608442183533 18.4608442183533 22.6162213682041 18.4608442183533 18.4608442183533 18.4608442183533 18.4608442183533 22.6162213682041 20.1171021614784 18.4608442183533 18.4608442183533 18.4608442183533 22.6162213682041 20.1171021614784 18.4608442183533 18.4608442183533 18.4608442183533 22.6162213682041 20.1171021614784 18.4608442183533 18.4608442183533 18.4608442183533 18.4608442183533 20.1171021614784 18.4608442183533 20.1171021614784 20.1171021614784 18.4608442183533 20.1171021614784 20.1171021614784 20.1171021614784 20.1171021614784 18.4608442183533 20.1171021614784 20.1171021614784 20.1171021614784 20.1171021614784 18.4608442183533 20.1171021614784 20.1171021614784 20.1171021614784 20.1171021614784 18.4608442183533 20.1171021614784 20.1171021614784 20.1171021614784 20.1171021614784 18.4608442183533 21.5365706913355 20.1171021614784 20.1171021614784 20.1171021614784 18.4608442183533 21.5365706913355 20.1171021614784 20.1171021614784 20.1171021614784 18.4608442183533 21.5365706913355 20.1171021614784 29.8386871076718 21.5365706913355 20.1171021614784 18.4608442183533 21.5365706913355 21.5365706913355 19.4696088675831 21.5365706913355 21.5365706913355 20.1171021614784 21.5365706913355 21.5365706913355 19.4696088675831 21.5365706913355 21.5365706913355 21.5365706913355 21.5365706913355 21.5365706913355 19.4696088675831 21.5365706913355 21.5365706913355 21.5365706913355 21.5365706913355 21.5365706913355 19.4696088675831 21.5365706913355 21.5365706913355 21.5365706913355 21.5365706913355 21.5365706913355 23.1555379091063 21.5365706913355 21.5365706913355 21.5365706913355 37.8217528943332 21.5365706913355 23.1555379091063 21.5365706913355 21.5365706913355 37.8217528943332 37.8217528943332 21.5365706913355 26.6462121259244 21.5365706913355 21.5365706913355 37.8217528943332 37.8217528943332 37.8217528943332 26.6462121259244 37.8217528943332 21.5365706913355 37.8217528943332 37.8217528943332 37.8217528943332 26.6462121259244 37.8217528943332 37.8217528943332 37.8217528943332 37.8217528943332 37.8217528943332 26.6462121259244 37.8217528943332 37.8217528943332 37.8217528943332 37.8217528943332 37.8217528943332 26.6462121259244 37.8217528943332 37.8217528943332 37.8217528943332 37.8217528943332 37.8217528943332 26.6462121259244 37.8217528943332 37.8217528943332 37.8217528943332 37.8217528943332 37.8217528943332 26.6462121259244 37.8217528943332 37.8217528943332 37.8217528943332 NaN 37.8217528943332 26.6462121259244 37.8217528943332 37.8217528943332 NaN NaN 37.8217528943332 49.8454975912619 37.8217528943332 37.8217528943332 NaN NaN NaN 49.8454975912619 NaN NaN NaN NaN NaN 49.8454975912619 NaN NaN NaN NaN NaN 49.8454975912619 NaN NaN NaN NaN NaN 49.8454975912619 NaN NaN NaN NaN NaN 49.8454975912619 NaN NaN NaN NaN NaN 49.8454975912619 NaN NaN NaN 31.9350370596309 NaN 49.8454975912619 NaN NaN NaN 31.9350370596309 NaN 38.9811152194239 NaN 29.8386871076718 NaN 31.9350370596309 31.9350370596309 31.9350370596309 38.9811152194239 31.9350370596309 20.3218590035648 31.9350370596309 31.9350370596309 31.9350370596309 31.9350370596309 38.9811152194239 31.9350370596309 20.3218590035648 31.9350370596309 31.9350370596309 31.9350370596309 31.9350370596309 38.9811152194239 31.9350370596309 14.5756900404894 31.9350370596309 31.9350370596309 31.9350370596309 31.9350370596309 38.9811152194239 31.9350370596309 14.5756900404894 31.9350370596309 31.9350370596309 31.9350370596309 31.9350370596309 31.9350370596309 14.5756900404894 31.9350370596309 31.9350370596309 31.9350370596309 31.9350370596309 31.9350370596309 14.5756900404894 31.9350370596309 31.9350370596309 41.7322767717529 31.9350370596309 31.9350370596309 14.5756900404894 31.9350370596309 31.9350370596309 41.7322767717529 31.9350370596309 41.7322767717529 14.5756900404894 31.9350370596309 41.7322767717529 41.7322767717529 41.7322767717529 41.7322767717529 14.5756900404894 41.7322767717529 41.7322767717529 41.7322767717529 41.7322767717529 41.7322767717529 14.5756900404894 41.7322767717529 41.7322767717529 41.7322767717529 41.7322767717529 41.7322767717529 46.0400640746731 41.7322767717529 41.7322767717529 41.7322767717529 41.7322767717529 41.7322767717529 46.0400640746731 41.7322767717529 41.7322767717529 41.7322767717529 41.7322767717529 41.7322767717529 46.0400640746731 41.7322767717529 41.7322767717529 37.268961509311 41.7322767717529 41.7322767717529 46.0400640746731 41.7322767717529 41.7322767717529 37.268961509311 41.7322767717529 41.7322767717529 46.0400640746731 41.7322767717529 37.268961509311 37.268961509311 37.268961509311 37.268961509311 46.0400640746731 37.268961509311 37.268961509311 37.268961509311 37.268961509311 37.268961509311 46.0400640746731 37.268961509311 37.268961509311 37.268961509311 37.268961509311 37.268961509311 19.4696088675831 37.268961509311 37.268961509311 37.268961509311 37.268961509311 37.268961509311 19.4696088675831 37.268961509311 37.268961509311 37.268961509311 37.268961509311 37.268961509311 19.4696088675831 37.268961509311 37.268961509311 37.268961509311 37.268961509311 37.268961509311 19.4696088675831 37.268961509311 37.268961509311 40.4191841767624 37.268961509311 37.268961509311 32.5907680076072 37.268961509311 37.268961509311 40.4191841767624 37.268961509311 37.268961509311 32.5907680076072 37.268961509311 40.4191841767624 40.4191841767624 40.4191841767624 40.4191841767624 32.5907680076072 40.4191841767624 40.4191841767624 40.4191841767624 40.4191841767624 40.4191841767624 32.5907680076072 40.4191841767624 40.4191841767624 40.4191841767624 40.4191841767624 40.4191841767624 32.5907680076072 40.4191841767624 40.4191841767624 40.4191841767624 40.4191841767624 40.4191841767624 32.5907680076072 40.4191841767624 40.4191841767624 40.4191841767624 40.4191841767624 40.4191841767624 32.5907680076072 40.4191841767624 40.4191841767624 40.4191841767624 40.4191841767624 40.4191841767624 30.9517481903298 40.4191841767624 40.4191841767624 40.4191841767624 40.4191841767624 40.4191841767624 30.9517481903298 40.4191841767624 40.4191841767624 29.9701415085678 40.4191841767624 29.9701415085678 30.9517481903298 40.4191841767624 29.9701415085678 29.9701415085678 29.9701415085678 29.9701415085678 30.9517481903298 29.9701415085678 29.9701415085678 29.9701415085678 29.9701415085678 29.9701415085678 30.9517481903298 29.9701415085678 29.9701415085678 29.9701415085678 29.9701415085678 29.9701415085678 30.9517481903298 29.9701415085678 29.9701415085678 29.9701415085678 29.9701415085678 29.9701415085678 30.9517481903298 29.9701415085678 29.9701415085678 29.9701415085678 29.9701415085678 29.9701415085678 30.8171687251807 29.9701415085678 29.9701415085678 29.9701415085678 29.9701415085678 29.9701415085678 30.8171687251807 29.9701415085678 29.9701415085678 29.9701415085678 29.9701415085678 29.9701415085678 30.8171687251807 29.9701415085678 29.9701415085678 23.1555379091063 29.9701415085678 23.1555379091063 30.8171687251807 23.1555379091063 23.1555379091063 23.1555379091063 23.1555379091063 23.1555379091063 30.8171687251807 23.1555379091063 23.1555379091063 23.1555379091063 23.1555379091063 23.1555379091063 30.8171687251807 23.1555379091063 23.1555379091063 23.1555379091063 23.1555379091063 23.1555379091063 30.8171687251807 23.1555379091063 23.1555379091063 23.1555379091063 23.1555379091063 23.1555379091063 30.8171687251807 23.1555379091063 23.1555379091063 23.1555379091063 23.1555379091063 23.1555379091063 22.6162213682041 23.1555379091063 23.1555379091063 23.1555379091063 23.1555379091063 23.1555379091063 22.6162213682041 23.1555379091063 23.1555379091063 23.1555379091063 23.1555379091063 23.1555379091063 22.6162213682041 23.1555379091063 26.6462121259244 23.1555379091063 23.1555379091063 26.6462121259244 22.6162213682041 26.6462121259244 26.6462121259244 26.6462121259244 23.1555379091063 26.6462121259244 22.6162213682041 26.6462121259244 26.6462121259244 26.6462121259244 26.6462121259244 26.6462121259244 22.6162213682041 26.6462121259244 26.6462121259244 26.6462121259244 26.6462121259244 26.6462121259244 22.6162213682041 26.6462121259244 26.6462121259244 26.6462121259244 26.6462121259244 26.6462121259244 18.4608442183533 26.6462121259244 26.6462121259244 26.6462121259244 26.6462121259244 26.6462121259244 18.4608442183533 26.6462121259244 26.6462121259244 26.6462121259244 26.6462121259244 26.6462121259244 18.4608442183533 26.6462121259244 49.8454975912619 26.6462121259244 26.6462121259244 49.8454975912619 18.4608442183533 26.6462121259244 49.8454975912619 26.6462121259244 26.6462121259244 49.8454975912619 18.4608442183533 49.8454975912619 49.8454975912619 49.8454975912619 49.8454975912619 49.8454975912619 18.4608442183533 49.8454975912619 49.8454975912619 49.8454975912619 49.8454975912619 49.8454975912619 18.4608442183533 49.8454975912619 49.8454975912619 49.8454975912619 49.8454975912619 49.8454975912619 18.4608442183533 49.8454975912619 49.8454975912619 49.8454975912619 49.8454975912619 49.8454975912619 20.1171021614784 49.8454975912619 49.8454975912619 49.8454975912619 49.8454975912619 49.8454975912619 20.1171021614784 49.8454975912619 38.9811152194239 49.8454975912619 49.8454975912619 49.8454975912619 20.1171021614784 49.8454975912619 38.9811152194239 49.8454975912619 49.8454975912619 38.9811152194239 20.1171021614784 38.9811152194239 38.9811152194239 49.8454975912619 49.8454975912619 38.9811152194239 20.1171021614784 38.9811152194239 38.9811152194239 49.8454975912619 38.9811152194239 38.9811152194239 20.1171021614784 38.9811152194239 38.9811152194239 38.9811152194239 38.9811152194239 38.9811152194239 20.1171021614784 38.9811152194239 38.9811152194239 38.9811152194239 38.9811152194239 38.9811152194239 21.5365706913355 38.9811152194239 38.9811152194239 38.9811152194239 38.9811152194239 38.9811152194239 21.5365706913355 38.9811152194239 38.9811152194239 38.9811152194239 38.9811152194239 38.9811152194239 21.5365706913355 56.9123375045116 38.9811152194239 38.9811152194239 21.5365706913355 56.9123375045116 38.9811152194239 38.9811152194239 21.5365706913355 56.9123375045116 38.9811152194239 38.9811152194239 21.5365706913355 56.9123375045116 38.9811152194239 56.9123375045116 37.8217528943332 56.9123375045116 56.9123375045116 56.9123375045116 37.8217528943332 56.9123375045116 56.9123375045116 37.8217528943332 56.9123375045116 56.9123375045116 37.8217528943332 56.9123375045116 56.9123375045116 37.8217528943332 56.9123375045116 56.9123375045116 37.8217528943332 56.9123375045116 56.9123375045116 NaN 56.9123375045116 56.9123375045116 NaN NaN 31.9350370596309 31.9350370596309 31.9350370596309 31.9350370596309 31.9350370596309 31.9350370596309 41.7322767717529 41.7322767717529 41.7322767717529 41.7322767717529 41.7322767717529 37.268961509311 37.268961509311 37.268961509311 37.268961509311 37.268961509311 37.268961509311 40.4191841767624 40.4191841767624 56.9123375045116 56.9123375045116 56.9123375045116 14.9310861404431 15.7060071170418 to numeric",
     "output_type": "error",
     "traceback": [
      "\u001b[0;31m---------------------------------------------------------------------------\u001b[0m",
      "\u001b[0;31mValueError\u001b[0m                                Traceback (most recent call last)",
      "\u001b[0;32mC:\\Users\\Gordon\\Anaconda3\\lib\\site-packages\\pandas\\core\\nanops.py\u001b[0m in \u001b[0;36m_ensure_numeric\u001b[0;34m(x)\u001b[0m\n\u001b[1;32m    751\u001b[0m         \u001b[1;32mtry\u001b[0m\u001b[1;33m:\u001b[0m\u001b[1;33m\u001b[0m\u001b[0m\n\u001b[0;32m--> 752\u001b[0;31m             \u001b[0mx\u001b[0m \u001b[1;33m=\u001b[0m \u001b[0mfloat\u001b[0m\u001b[1;33m(\u001b[0m\u001b[0mx\u001b[0m\u001b[1;33m)\u001b[0m\u001b[1;33m\u001b[0m\u001b[0m\n\u001b[0m\u001b[1;32m    753\u001b[0m         \u001b[1;32mexcept\u001b[0m \u001b[0mException\u001b[0m\u001b[1;33m:\u001b[0m\u001b[1;33m\u001b[0m\u001b[0m\n",
      "\u001b[0;31mValueError\u001b[0m: could not convert string to float: ' 29.8386871076718 20.3218590035648 20.3218590035648 20.3218590035648 14.5756900404894 15.7060071170418 14.5756900404894 29.8386871076718 29.8386871076718 20.3218590035648 14.5756900404894 20.3218590035648 20.3218590035648 20.3218590035648 14.5756900404894 20.3218590035648 20.3218590035648 20.3218590035648 14.5756900404894 20.3218590035648 20.3218590035648 20.3218590035648 14.5756900404894 20.3218590035648 20.3218590035648 20.3218590035648 29.8386871076718 14.5756900404894 20.3218590035648 20.3218590035648 20.3218590035648 20.3218590035648 14.5756900404894 20.3218590035648 20.3218590035648 20.3218590035648 20.3218590035648 46.0400640746731 20.3218590035648 14.5756900404894 20.3218590035648 20.3218590035648 46.0400640746731 20.3218590035648 14.5756900404894 14.5756900404894 20.3218590035648 46.0400640746731 14.5756900404894 14.5756900404894 14.5756900404894 20.3218590035648 46.0400640746731 14.5756900404894 14.5756900404894 14.5756900404894 20.3218590035648 46.0400640746731 14.5756900404894 14.5756900404894 14.5756900404894 14.5756900404894 46.0400640746731 14.5756900404894 14.5756900404894 14.5756900404894 14.5756900404894 46.0400640746731 14.5756900404894 14.5756900404894 14.5756900404894 14.5756900404894 46.0400640746731 14.5756900404894 14.5756900404894 14.5756900404894 14.5756900404894 46.0400640746731 14.5756900404894 46.0400640746731 46.0400640746731 14.5756900404894 19.4696088675831 46.0400640746731 46.0400640746731 46.0400640746731 14.5756900404894 19.4696088675831 46.0400640746731 46.0400640746731 46.0400640746731 14.5756900404894 19.4696088675831 46.0400640746731 46.0400640746731 46.0400640746731 14.5756900404894 19.4696088675831 46.0400640746731 46.0400640746731 46.0400640746731 14.5756900404894 19.4696088675831 46.0400640746731 46.0400640746731 46.0400640746731 46.0400640746731 19.4696088675831 46.0400640746731 46.0400640746731 46.0400640746731 46.0400640746731 19.4696088675831 46.0400640746731 46.0400640746731 46.0400640746731 46.0400640746731 19.4696088675831 46.0400640746731 19.4696088675831 19.4696088675831 46.0400640746731 32.5907680076072 19.4696088675831 19.4696088675831 19.4696088675831 46.0400640746731 32.5907680076072 19.4696088675831 19.4696088675831 19.4696088675831 46.0400640746731 32.5907680076072 19.4696088675831 19.4696088675831 19.4696088675831 46.0400640746731 32.5907680076072 19.4696088675831 19.4696088675831 19.4696088675831 46.0400640746731 32.5907680076072 19.4696088675831 19.4696088675831 19.4696088675831 46.0400640746731 32.5907680076072 19.4696088675831 19.4696088675831 19.4696088675831 19.4696088675831 32.5907680076072 19.4696088675831 32.5907680076072 19.4696088675831 19.4696088675831 32.5907680076072 19.4696088675831 32.5907680076072 32.5907680076072 19.4696088675831 32.5907680076072 32.5907680076072 32.5907680076072 32.5907680076072 19.4696088675831 30.9517481903298 32.5907680076072 32.5907680076072 32.5907680076072 19.4696088675831 30.9517481903298 32.5907680076072 32.5907680076072 32.5907680076072 32.5907680076072 30.9517481903298 32.5907680076072 32.5907680076072 32.5907680076072 32.5907680076072 30.9517481903298 32.5907680076072 32.5907680076072 32.5907680076072 32.5907680076072 30.9517481903298 32.5907680076072 32.5907680076072 32.5907680076072 32.5907680076072 30.9517481903298 32.5907680076072 30.9517481903298 30.9517481903298 32.5907680076072 30.9517481903298 32.5907680076072 30.9517481903298 30.9517481903298 32.5907680076072 30.9517481903298 30.9517481903298 30.9517481903298 30.9517481903298 32.5907680076072 30.8171687251807 30.9517481903298 30.9517481903298 30.9517481903298 32.5907680076072 30.8171687251807 30.9517481903298 30.9517481903298 30.9517481903298 30.9517481903298 30.8171687251807 30.9517481903298 30.9517481903298 30.9517481903298 30.9517481903298 30.8171687251807 30.9517481903298 30.9517481903298 30.9517481903298 30.9517481903298 30.8171687251807 30.9517481903298 30.9517481903298 30.9517481903298 30.9517481903298 30.8171687251807 30.9517481903298 30.8171687251807 30.8171687251807 30.9517481903298 30.8171687251807 30.8171687251807 30.8171687251807 30.8171687251807 30.9517481903298 30.8171687251807 30.8171687251807 30.8171687251807 30.8171687251807 30.9517481903298 30.8171687251807 30.8171687251807 30.8171687251807 30.8171687251807 30.9517481903298 22.6162213682041 30.8171687251807 30.8171687251807 30.8171687251807 30.9517481903298 22.6162213682041 30.8171687251807 30.8171687251807 30.8171687251807 30.8171687251807 22.6162213682041 30.8171687251807 30.8171687251807 30.8171687251807 30.8171687251807 22.6162213682041 30.8171687251807 30.8171687251807 30.8171687251807 30.8171687251807 22.6162213682041 30.8171687251807 22.6162213682041 22.6162213682041 30.8171687251807 22.6162213682041 22.6162213682041 22.6162213682041 22.6162213682041 30.8171687251807 22.6162213682041 22.6162213682041 22.6162213682041 22.6162213682041 30.8171687251807 22.6162213682041 22.6162213682041 22.6162213682041 22.6162213682041 30.8171687251807 18.4608442183533 22.6162213682041 22.6162213682041 22.6162213682041 30.8171687251807 18.4608442183533 22.6162213682041 22.6162213682041 22.6162213682041 30.8171687251807 18.4608442183533 22.6162213682041 22.6162213682041 22.6162213682041 22.6162213682041 18.4608442183533 22.6162213682041 18.4608442183533 22.6162213682041 22.6162213682041 18.4608442183533 18.4608442183533 18.4608442183533 18.4608442183533 22.6162213682041 18.4608442183533 18.4608442183533 18.4608442183533 18.4608442183533 22.6162213682041 18.4608442183533 18.4608442183533 18.4608442183533 18.4608442183533 22.6162213682041 18.4608442183533 18.4608442183533 18.4608442183533 18.4608442183533 22.6162213682041 20.1171021614784 18.4608442183533 18.4608442183533 18.4608442183533 22.6162213682041 20.1171021614784 18.4608442183533 18.4608442183533 18.4608442183533 22.6162213682041 20.1171021614784 18.4608442183533 18.4608442183533 18.4608442183533 18.4608442183533 20.1171021614784 18.4608442183533 20.1171021614784 20.1171021614784 18.4608442183533 20.1171021614784 20.1171021614784 20.1171021614784 20.1171021614784 18.4608442183533 20.1171021614784 20.1171021614784 20.1171021614784 20.1171021614784 18.4608442183533 20.1171021614784 20.1171021614784 20.1171021614784 20.1171021614784 18.4608442183533 20.1171021614784 20.1171021614784 20.1171021614784 20.1171021614784 18.4608442183533 21.5365706913355 20.1171021614784 20.1171021614784 20.1171021614784 18.4608442183533 21.5365706913355 20.1171021614784 20.1171021614784 20.1171021614784 18.4608442183533 21.5365706913355 20.1171021614784 29.8386871076718 21.5365706913355 20.1171021614784 18.4608442183533 21.5365706913355 21.5365706913355 19.4696088675831 21.5365706913355 21.5365706913355 20.1171021614784 21.5365706913355 21.5365706913355 19.4696088675831 21.5365706913355 21.5365706913355 21.5365706913355 21.5365706913355 21.5365706913355 19.4696088675831 21.5365706913355 21.5365706913355 21.5365706913355 21.5365706913355 21.5365706913355 19.4696088675831 21.5365706913355 21.5365706913355 21.5365706913355 21.5365706913355 21.5365706913355 23.1555379091063 21.5365706913355 21.5365706913355 21.5365706913355 37.8217528943332 21.5365706913355 23.1555379091063 21.5365706913355 21.5365706913355 37.8217528943332 37.8217528943332 21.5365706913355 26.6462121259244 21.5365706913355 21.5365706913355 37.8217528943332 37.8217528943332 37.8217528943332 26.6462121259244 37.8217528943332 21.5365706913355 37.8217528943332 37.8217528943332 37.8217528943332 26.6462121259244 37.8217528943332 37.8217528943332 37.8217528943332 37.8217528943332 37.8217528943332 26.6462121259244 37.8217528943332 37.8217528943332 37.8217528943332 37.8217528943332 37.8217528943332 26.6462121259244 37.8217528943332 37.8217528943332 37.8217528943332 37.8217528943332 37.8217528943332 26.6462121259244 37.8217528943332 37.8217528943332 37.8217528943332 37.8217528943332 37.8217528943332 26.6462121259244 37.8217528943332 37.8217528943332 37.8217528943332 NaN 37.8217528943332 26.6462121259244 37.8217528943332 37.8217528943332 NaN NaN 37.8217528943332 49.8454975912619 37.8217528943332 37.8217528943332 NaN NaN NaN 49.8454975912619 NaN NaN NaN NaN NaN 49.8454975912619 NaN NaN NaN NaN NaN 49.8454975912619 NaN NaN NaN NaN NaN 49.8454975912619 NaN NaN NaN NaN NaN 49.8454975912619 NaN NaN NaN NaN NaN 49.8454975912619 NaN NaN NaN 31.9350370596309 NaN 49.8454975912619 NaN NaN NaN 31.9350370596309 NaN 38.9811152194239 NaN 29.8386871076718 NaN 31.9350370596309 31.9350370596309 31.9350370596309 38.9811152194239 31.9350370596309 20.3218590035648 31.9350370596309 31.9350370596309 31.9350370596309 31.9350370596309 38.9811152194239 31.9350370596309 20.3218590035648 31.9350370596309 31.9350370596309 31.9350370596309 31.9350370596309 38.9811152194239 31.9350370596309 14.5756900404894 31.9350370596309 31.9350370596309 31.9350370596309 31.9350370596309 38.9811152194239 31.9350370596309 14.5756900404894 31.9350370596309 31.9350370596309 31.9350370596309 31.9350370596309 31.9350370596309 14.5756900404894 31.9350370596309 31.9350370596309 31.9350370596309 31.9350370596309 31.9350370596309 14.5756900404894 31.9350370596309 31.9350370596309 41.7322767717529 31.9350370596309 31.9350370596309 14.5756900404894 31.9350370596309 31.9350370596309 41.7322767717529 31.9350370596309 41.7322767717529 14.5756900404894 31.9350370596309 41.7322767717529 41.7322767717529 41.7322767717529 41.7322767717529 14.5756900404894 41.7322767717529 41.7322767717529 41.7322767717529 41.7322767717529 41.7322767717529 14.5756900404894 41.7322767717529 41.7322767717529 41.7322767717529 41.7322767717529 41.7322767717529 46.0400640746731 41.7322767717529 41.7322767717529 41.7322767717529 41.7322767717529 41.7322767717529 46.0400640746731 41.7322767717529 41.7322767717529 41.7322767717529 41.7322767717529 41.7322767717529 46.0400640746731 41.7322767717529 41.7322767717529 37.268961509311 41.7322767717529 41.7322767717529 46.0400640746731 41.7322767717529 41.7322767717529 37.268961509311 41.7322767717529 41.7322767717529 46.0400640746731 41.7322767717529 37.268961509311 37.268961509311 37.268961509311 37.268961509311 46.0400640746731 37.268961509311 37.268961509311 37.268961509311 37.268961509311 37.268961509311 46.0400640746731 37.268961509311 37.268961509311 37.268961509311 37.268961509311 37.268961509311 19.4696088675831 37.268961509311 37.268961509311 37.268961509311 37.268961509311 37.268961509311 19.4696088675831 37.268961509311 37.268961509311 37.268961509311 37.268961509311 37.268961509311 19.4696088675831 37.268961509311 37.268961509311 37.268961509311 37.268961509311 37.268961509311 19.4696088675831 37.268961509311 37.268961509311 40.4191841767624 37.268961509311 37.268961509311 32.5907680076072 37.268961509311 37.268961509311 40.4191841767624 37.268961509311 37.268961509311 32.5907680076072 37.268961509311 40.4191841767624 40.4191841767624 40.4191841767624 40.4191841767624 32.5907680076072 40.4191841767624 40.4191841767624 40.4191841767624 40.4191841767624 40.4191841767624 32.5907680076072 40.4191841767624 40.4191841767624 40.4191841767624 40.4191841767624 40.4191841767624 32.5907680076072 40.4191841767624 40.4191841767624 40.4191841767624 40.4191841767624 40.4191841767624 32.5907680076072 40.4191841767624 40.4191841767624 40.4191841767624 40.4191841767624 40.4191841767624 32.5907680076072 40.4191841767624 40.4191841767624 40.4191841767624 40.4191841767624 40.4191841767624 30.9517481903298 40.4191841767624 40.4191841767624 40.4191841767624 40.4191841767624 40.4191841767624 30.9517481903298 40.4191841767624 40.4191841767624 29.9701415085678 40.4191841767624 29.9701415085678 30.9517481903298 40.4191841767624 29.9701415085678 29.9701415085678 29.9701415085678 29.9701415085678 30.9517481903298 29.9701415085678 29.9701415085678 29.9701415085678 29.9701415085678 29.9701415085678 30.9517481903298 29.9701415085678 29.9701415085678 29.9701415085678 29.9701415085678 29.9701415085678 30.9517481903298 29.9701415085678 29.9701415085678 29.9701415085678 29.9701415085678 29.9701415085678 30.9517481903298 29.9701415085678 29.9701415085678 29.9701415085678 29.9701415085678 29.9701415085678 30.8171687251807 29.9701415085678 29.9701415085678 29.9701415085678 29.9701415085678 29.9701415085678 30.8171687251807 29.9701415085678 29.9701415085678 29.9701415085678 29.9701415085678 29.9701415085678 30.8171687251807 29.9701415085678 29.9701415085678 23.1555379091063 29.9701415085678 23.1555379091063 30.8171687251807 23.1555379091063 23.1555379091063 23.1555379091063 23.1555379091063 23.1555379091063 30.8171687251807 23.1555379091063 23.1555379091063 23.1555379091063 23.1555379091063 23.1555379091063 30.8171687251807 23.1555379091063 23.1555379091063 23.1555379091063 23.1555379091063 23.1555379091063 30.8171687251807 23.1555379091063 23.1555379091063 23.1555379091063 23.1555379091063 23.1555379091063 30.8171687251807 23.1555379091063 23.1555379091063 23.1555379091063 23.1555379091063 23.1555379091063 22.6162213682041 23.1555379091063 23.1555379091063 23.1555379091063 23.1555379091063 23.1555379091063 22.6162213682041 23.1555379091063 23.1555379091063 23.1555379091063 23.1555379091063 23.1555379091063 22.6162213682041 23.1555379091063 26.6462121259244 23.1555379091063 23.1555379091063 26.6462121259244 22.6162213682041 26.6462121259244 26.6462121259244 26.6462121259244 23.1555379091063 26.6462121259244 22.6162213682041 26.6462121259244 26.6462121259244 26.6462121259244 26.6462121259244 26.6462121259244 22.6162213682041 26.6462121259244 26.6462121259244 26.6462121259244 26.6462121259244 26.6462121259244 22.6162213682041 26.6462121259244 26.6462121259244 26.6462121259244 26.6462121259244 26.6462121259244 18.4608442183533 26.6462121259244 26.6462121259244 26.6462121259244 26.6462121259244 26.6462121259244 18.4608442183533 26.6462121259244 26.6462121259244 26.6462121259244 26.6462121259244 26.6462121259244 18.4608442183533 26.6462121259244 49.8454975912619 26.6462121259244 26.6462121259244 49.8454975912619 18.4608442183533 26.6462121259244 49.8454975912619 26.6462121259244 26.6462121259244 49.8454975912619 18.4608442183533 49.8454975912619 49.8454975912619 49.8454975912619 49.8454975912619 49.8454975912619 18.4608442183533 49.8454975912619 49.8454975912619 49.8454975912619 49.8454975912619 49.8454975912619 18.4608442183533 49.8454975912619 49.8454975912619 49.8454975912619 49.8454975912619 49.8454975912619 18.4608442183533 49.8454975912619 49.8454975912619 49.8454975912619 49.8454975912619 49.8454975912619 20.1171021614784 49.8454975912619 49.8454975912619 49.8454975912619 49.8454975912619 49.8454975912619 20.1171021614784 49.8454975912619 38.9811152194239 49.8454975912619 49.8454975912619 49.8454975912619 20.1171021614784 49.8454975912619 38.9811152194239 49.8454975912619 49.8454975912619 38.9811152194239 20.1171021614784 38.9811152194239 38.9811152194239 49.8454975912619 49.8454975912619 38.9811152194239 20.1171021614784 38.9811152194239 38.9811152194239 49.8454975912619 38.9811152194239 38.9811152194239 20.1171021614784 38.9811152194239 38.9811152194239 38.9811152194239 38.9811152194239 38.9811152194239 20.1171021614784 38.9811152194239 38.9811152194239 38.9811152194239 38.9811152194239 38.9811152194239 21.5365706913355 38.9811152194239 38.9811152194239 38.9811152194239 38.9811152194239 38.9811152194239 21.5365706913355 38.9811152194239 38.9811152194239 38.9811152194239 38.9811152194239 38.9811152194239 21.5365706913355 56.9123375045116 38.9811152194239 38.9811152194239 21.5365706913355 56.9123375045116 38.9811152194239 38.9811152194239 21.5365706913355 56.9123375045116 38.9811152194239 38.9811152194239 21.5365706913355 56.9123375045116 38.9811152194239 56.9123375045116 37.8217528943332 56.9123375045116 56.9123375045116 56.9123375045116 37.8217528943332 56.9123375045116 56.9123375045116 37.8217528943332 56.9123375045116 56.9123375045116 37.8217528943332 56.9123375045116 56.9123375045116 37.8217528943332 56.9123375045116 56.9123375045116 37.8217528943332 56.9123375045116 56.9123375045116 NaN 56.9123375045116 56.9123375045116 NaN NaN 31.9350370596309 31.9350370596309 31.9350370596309 31.9350370596309 31.9350370596309 31.9350370596309 41.7322767717529 41.7322767717529 41.7322767717529 41.7322767717529 41.7322767717529 37.268961509311 37.268961509311 37.268961509311 37.268961509311 37.268961509311 37.268961509311 40.4191841767624 40.4191841767624 56.9123375045116 56.9123375045116 56.9123375045116 14.9310861404431 15.7060071170418'",
      "\nDuring handling of the above exception, another exception occurred:\n",
      "\u001b[0;31mValueError\u001b[0m                                Traceback (most recent call last)",
      "\u001b[0;32mC:\\Users\\Gordon\\Anaconda3\\lib\\site-packages\\pandas\\core\\nanops.py\u001b[0m in \u001b[0;36m_ensure_numeric\u001b[0;34m(x)\u001b[0m\n\u001b[1;32m    754\u001b[0m             \u001b[1;32mtry\u001b[0m\u001b[1;33m:\u001b[0m\u001b[1;33m\u001b[0m\u001b[0m\n\u001b[0;32m--> 755\u001b[0;31m                 \u001b[0mx\u001b[0m \u001b[1;33m=\u001b[0m \u001b[0mcomplex\u001b[0m\u001b[1;33m(\u001b[0m\u001b[0mx\u001b[0m\u001b[1;33m)\u001b[0m\u001b[1;33m\u001b[0m\u001b[0m\n\u001b[0m\u001b[1;32m    756\u001b[0m             \u001b[1;32mexcept\u001b[0m \u001b[0mException\u001b[0m\u001b[1;33m:\u001b[0m\u001b[1;33m\u001b[0m\u001b[0m\n",
      "\u001b[0;31mValueError\u001b[0m: complex() arg is a malformed string",
      "\nDuring handling of the above exception, another exception occurred:\n",
      "\u001b[0;31mTypeError\u001b[0m                                 Traceback (most recent call last)",
      "\u001b[0;32mC:\\Users\\Gordon\\Anaconda3\\lib\\site-packages\\pandas\\core\\nanops.py\u001b[0m in \u001b[0;36mf\u001b[0;34m(values, axis, skipna, **kwds)\u001b[0m\n\u001b[1;32m    105\u001b[0m                 \u001b[1;32melse\u001b[0m\u001b[1;33m:\u001b[0m\u001b[1;33m\u001b[0m\u001b[0m\n\u001b[0;32m--> 106\u001b[0;31m                     \u001b[0mresult\u001b[0m \u001b[1;33m=\u001b[0m \u001b[0malt\u001b[0m\u001b[1;33m(\u001b[0m\u001b[0mvalues\u001b[0m\u001b[1;33m,\u001b[0m \u001b[0maxis\u001b[0m\u001b[1;33m=\u001b[0m\u001b[0maxis\u001b[0m\u001b[1;33m,\u001b[0m \u001b[0mskipna\u001b[0m\u001b[1;33m=\u001b[0m\u001b[0mskipna\u001b[0m\u001b[1;33m,\u001b[0m \u001b[1;33m**\u001b[0m\u001b[0mkwds\u001b[0m\u001b[1;33m)\u001b[0m\u001b[1;33m\u001b[0m\u001b[0m\n\u001b[0m\u001b[1;32m    107\u001b[0m             \u001b[1;32mexcept\u001b[0m \u001b[0mException\u001b[0m\u001b[1;33m:\u001b[0m\u001b[1;33m\u001b[0m\u001b[0m\n",
      "\u001b[0;32mC:\\Users\\Gordon\\Anaconda3\\lib\\site-packages\\pandas\\core\\nanops.py\u001b[0m in \u001b[0;36mnanmean\u001b[0;34m(values, axis, skipna)\u001b[0m\n\u001b[1;32m    298\u001b[0m     \u001b[0mcount\u001b[0m \u001b[1;33m=\u001b[0m \u001b[0m_get_counts\u001b[0m\u001b[1;33m(\u001b[0m\u001b[0mmask\u001b[0m\u001b[1;33m,\u001b[0m \u001b[0maxis\u001b[0m\u001b[1;33m,\u001b[0m \u001b[0mdtype\u001b[0m\u001b[1;33m=\u001b[0m\u001b[0mdtype_count\u001b[0m\u001b[1;33m)\u001b[0m\u001b[1;33m\u001b[0m\u001b[0m\n\u001b[0;32m--> 299\u001b[0;31m     \u001b[0mthe_sum\u001b[0m \u001b[1;33m=\u001b[0m \u001b[0m_ensure_numeric\u001b[0m\u001b[1;33m(\u001b[0m\u001b[0mvalues\u001b[0m\u001b[1;33m.\u001b[0m\u001b[0msum\u001b[0m\u001b[1;33m(\u001b[0m\u001b[0maxis\u001b[0m\u001b[1;33m,\u001b[0m \u001b[0mdtype\u001b[0m\u001b[1;33m=\u001b[0m\u001b[0mdtype_sum\u001b[0m\u001b[1;33m)\u001b[0m\u001b[1;33m)\u001b[0m\u001b[1;33m\u001b[0m\u001b[0m\n\u001b[0m\u001b[1;32m    300\u001b[0m \u001b[1;33m\u001b[0m\u001b[0m\n",
      "\u001b[0;32mC:\\Users\\Gordon\\Anaconda3\\lib\\site-packages\\pandas\\core\\nanops.py\u001b[0m in \u001b[0;36m_ensure_numeric\u001b[0;34m(x)\u001b[0m\n\u001b[1;32m    756\u001b[0m             \u001b[1;32mexcept\u001b[0m \u001b[0mException\u001b[0m\u001b[1;33m:\u001b[0m\u001b[1;33m\u001b[0m\u001b[0m\n\u001b[0;32m--> 757\u001b[0;31m                 \u001b[1;32mraise\u001b[0m \u001b[0mTypeError\u001b[0m\u001b[1;33m(\u001b[0m\u001b[1;34m'Could not convert %s to numeric'\u001b[0m \u001b[1;33m%\u001b[0m \u001b[0mstr\u001b[0m\u001b[1;33m(\u001b[0m\u001b[0mx\u001b[0m\u001b[1;33m)\u001b[0m\u001b[1;33m)\u001b[0m\u001b[1;33m\u001b[0m\u001b[0m\n\u001b[0m\u001b[1;32m    758\u001b[0m     \u001b[1;32mreturn\u001b[0m \u001b[0mx\u001b[0m\u001b[1;33m\u001b[0m\u001b[0m\n",
      "\u001b[0;31mTypeError\u001b[0m: Could not convert  29.8386871076718 20.3218590035648 20.3218590035648 20.3218590035648 14.5756900404894 15.7060071170418 14.5756900404894 29.8386871076718 29.8386871076718 20.3218590035648 14.5756900404894 20.3218590035648 20.3218590035648 20.3218590035648 14.5756900404894 20.3218590035648 20.3218590035648 20.3218590035648 14.5756900404894 20.3218590035648 20.3218590035648 20.3218590035648 14.5756900404894 20.3218590035648 20.3218590035648 20.3218590035648 29.8386871076718 14.5756900404894 20.3218590035648 20.3218590035648 20.3218590035648 20.3218590035648 14.5756900404894 20.3218590035648 20.3218590035648 20.3218590035648 20.3218590035648 46.0400640746731 20.3218590035648 14.5756900404894 20.3218590035648 20.3218590035648 46.0400640746731 20.3218590035648 14.5756900404894 14.5756900404894 20.3218590035648 46.0400640746731 14.5756900404894 14.5756900404894 14.5756900404894 20.3218590035648 46.0400640746731 14.5756900404894 14.5756900404894 14.5756900404894 20.3218590035648 46.0400640746731 14.5756900404894 14.5756900404894 14.5756900404894 14.5756900404894 46.0400640746731 14.5756900404894 14.5756900404894 14.5756900404894 14.5756900404894 46.0400640746731 14.5756900404894 14.5756900404894 14.5756900404894 14.5756900404894 46.0400640746731 14.5756900404894 14.5756900404894 14.5756900404894 14.5756900404894 46.0400640746731 14.5756900404894 46.0400640746731 46.0400640746731 14.5756900404894 19.4696088675831 46.0400640746731 46.0400640746731 46.0400640746731 14.5756900404894 19.4696088675831 46.0400640746731 46.0400640746731 46.0400640746731 14.5756900404894 19.4696088675831 46.0400640746731 46.0400640746731 46.0400640746731 14.5756900404894 19.4696088675831 46.0400640746731 46.0400640746731 46.0400640746731 14.5756900404894 19.4696088675831 46.0400640746731 46.0400640746731 46.0400640746731 46.0400640746731 19.4696088675831 46.0400640746731 46.0400640746731 46.0400640746731 46.0400640746731 19.4696088675831 46.0400640746731 46.0400640746731 46.0400640746731 46.0400640746731 19.4696088675831 46.0400640746731 19.4696088675831 19.4696088675831 46.0400640746731 32.5907680076072 19.4696088675831 19.4696088675831 19.4696088675831 46.0400640746731 32.5907680076072 19.4696088675831 19.4696088675831 19.4696088675831 46.0400640746731 32.5907680076072 19.4696088675831 19.4696088675831 19.4696088675831 46.0400640746731 32.5907680076072 19.4696088675831 19.4696088675831 19.4696088675831 46.0400640746731 32.5907680076072 19.4696088675831 19.4696088675831 19.4696088675831 46.0400640746731 32.5907680076072 19.4696088675831 19.4696088675831 19.4696088675831 19.4696088675831 32.5907680076072 19.4696088675831 32.5907680076072 19.4696088675831 19.4696088675831 32.5907680076072 19.4696088675831 32.5907680076072 32.5907680076072 19.4696088675831 32.5907680076072 32.5907680076072 32.5907680076072 32.5907680076072 19.4696088675831 30.9517481903298 32.5907680076072 32.5907680076072 32.5907680076072 19.4696088675831 30.9517481903298 32.5907680076072 32.5907680076072 32.5907680076072 32.5907680076072 30.9517481903298 32.5907680076072 32.5907680076072 32.5907680076072 32.5907680076072 30.9517481903298 32.5907680076072 32.5907680076072 32.5907680076072 32.5907680076072 30.9517481903298 32.5907680076072 32.5907680076072 32.5907680076072 32.5907680076072 30.9517481903298 32.5907680076072 30.9517481903298 30.9517481903298 32.5907680076072 30.9517481903298 32.5907680076072 30.9517481903298 30.9517481903298 32.5907680076072 30.9517481903298 30.9517481903298 30.9517481903298 30.9517481903298 32.5907680076072 30.8171687251807 30.9517481903298 30.9517481903298 30.9517481903298 32.5907680076072 30.8171687251807 30.9517481903298 30.9517481903298 30.9517481903298 30.9517481903298 30.8171687251807 30.9517481903298 30.9517481903298 30.9517481903298 30.9517481903298 30.8171687251807 30.9517481903298 30.9517481903298 30.9517481903298 30.9517481903298 30.8171687251807 30.9517481903298 30.9517481903298 30.9517481903298 30.9517481903298 30.8171687251807 30.9517481903298 30.8171687251807 30.8171687251807 30.9517481903298 30.8171687251807 30.8171687251807 30.8171687251807 30.8171687251807 30.9517481903298 30.8171687251807 30.8171687251807 30.8171687251807 30.8171687251807 30.9517481903298 30.8171687251807 30.8171687251807 30.8171687251807 30.8171687251807 30.9517481903298 22.6162213682041 30.8171687251807 30.8171687251807 30.8171687251807 30.9517481903298 22.6162213682041 30.8171687251807 30.8171687251807 30.8171687251807 30.8171687251807 22.6162213682041 30.8171687251807 30.8171687251807 30.8171687251807 30.8171687251807 22.6162213682041 30.8171687251807 30.8171687251807 30.8171687251807 30.8171687251807 22.6162213682041 30.8171687251807 22.6162213682041 22.6162213682041 30.8171687251807 22.6162213682041 22.6162213682041 22.6162213682041 22.6162213682041 30.8171687251807 22.6162213682041 22.6162213682041 22.6162213682041 22.6162213682041 30.8171687251807 22.6162213682041 22.6162213682041 22.6162213682041 22.6162213682041 30.8171687251807 18.4608442183533 22.6162213682041 22.6162213682041 22.6162213682041 30.8171687251807 18.4608442183533 22.6162213682041 22.6162213682041 22.6162213682041 30.8171687251807 18.4608442183533 22.6162213682041 22.6162213682041 22.6162213682041 22.6162213682041 18.4608442183533 22.6162213682041 18.4608442183533 22.6162213682041 22.6162213682041 18.4608442183533 18.4608442183533 18.4608442183533 18.4608442183533 22.6162213682041 18.4608442183533 18.4608442183533 18.4608442183533 18.4608442183533 22.6162213682041 18.4608442183533 18.4608442183533 18.4608442183533 18.4608442183533 22.6162213682041 18.4608442183533 18.4608442183533 18.4608442183533 18.4608442183533 22.6162213682041 20.1171021614784 18.4608442183533 18.4608442183533 18.4608442183533 22.6162213682041 20.1171021614784 18.4608442183533 18.4608442183533 18.4608442183533 22.6162213682041 20.1171021614784 18.4608442183533 18.4608442183533 18.4608442183533 18.4608442183533 20.1171021614784 18.4608442183533 20.1171021614784 20.1171021614784 18.4608442183533 20.1171021614784 20.1171021614784 20.1171021614784 20.1171021614784 18.4608442183533 20.1171021614784 20.1171021614784 20.1171021614784 20.1171021614784 18.4608442183533 20.1171021614784 20.1171021614784 20.1171021614784 20.1171021614784 18.4608442183533 20.1171021614784 20.1171021614784 20.1171021614784 20.1171021614784 18.4608442183533 21.5365706913355 20.1171021614784 20.1171021614784 20.1171021614784 18.4608442183533 21.5365706913355 20.1171021614784 20.1171021614784 20.1171021614784 18.4608442183533 21.5365706913355 20.1171021614784 29.8386871076718 21.5365706913355 20.1171021614784 18.4608442183533 21.5365706913355 21.5365706913355 19.4696088675831 21.5365706913355 21.5365706913355 20.1171021614784 21.5365706913355 21.5365706913355 19.4696088675831 21.5365706913355 21.5365706913355 21.5365706913355 21.5365706913355 21.5365706913355 19.4696088675831 21.5365706913355 21.5365706913355 21.5365706913355 21.5365706913355 21.5365706913355 19.4696088675831 21.5365706913355 21.5365706913355 21.5365706913355 21.5365706913355 21.5365706913355 23.1555379091063 21.5365706913355 21.5365706913355 21.5365706913355 37.8217528943332 21.5365706913355 23.1555379091063 21.5365706913355 21.5365706913355 37.8217528943332 37.8217528943332 21.5365706913355 26.6462121259244 21.5365706913355 21.5365706913355 37.8217528943332 37.8217528943332 37.8217528943332 26.6462121259244 37.8217528943332 21.5365706913355 37.8217528943332 37.8217528943332 37.8217528943332 26.6462121259244 37.8217528943332 37.8217528943332 37.8217528943332 37.8217528943332 37.8217528943332 26.6462121259244 37.8217528943332 37.8217528943332 37.8217528943332 37.8217528943332 37.8217528943332 26.6462121259244 37.8217528943332 37.8217528943332 37.8217528943332 37.8217528943332 37.8217528943332 26.6462121259244 37.8217528943332 37.8217528943332 37.8217528943332 37.8217528943332 37.8217528943332 26.6462121259244 37.8217528943332 37.8217528943332 37.8217528943332 NaN 37.8217528943332 26.6462121259244 37.8217528943332 37.8217528943332 NaN NaN 37.8217528943332 49.8454975912619 37.8217528943332 37.8217528943332 NaN NaN NaN 49.8454975912619 NaN NaN NaN NaN NaN 49.8454975912619 NaN NaN NaN NaN NaN 49.8454975912619 NaN NaN NaN NaN NaN 49.8454975912619 NaN NaN NaN NaN NaN 49.8454975912619 NaN NaN NaN NaN NaN 49.8454975912619 NaN NaN NaN 31.9350370596309 NaN 49.8454975912619 NaN NaN NaN 31.9350370596309 NaN 38.9811152194239 NaN 29.8386871076718 NaN 31.9350370596309 31.9350370596309 31.9350370596309 38.9811152194239 31.9350370596309 20.3218590035648 31.9350370596309 31.9350370596309 31.9350370596309 31.9350370596309 38.9811152194239 31.9350370596309 20.3218590035648 31.9350370596309 31.9350370596309 31.9350370596309 31.9350370596309 38.9811152194239 31.9350370596309 14.5756900404894 31.9350370596309 31.9350370596309 31.9350370596309 31.9350370596309 38.9811152194239 31.9350370596309 14.5756900404894 31.9350370596309 31.9350370596309 31.9350370596309 31.9350370596309 31.9350370596309 14.5756900404894 31.9350370596309 31.9350370596309 31.9350370596309 31.9350370596309 31.9350370596309 14.5756900404894 31.9350370596309 31.9350370596309 41.7322767717529 31.9350370596309 31.9350370596309 14.5756900404894 31.9350370596309 31.9350370596309 41.7322767717529 31.9350370596309 41.7322767717529 14.5756900404894 31.9350370596309 41.7322767717529 41.7322767717529 41.7322767717529 41.7322767717529 14.5756900404894 41.7322767717529 41.7322767717529 41.7322767717529 41.7322767717529 41.7322767717529 14.5756900404894 41.7322767717529 41.7322767717529 41.7322767717529 41.7322767717529 41.7322767717529 46.0400640746731 41.7322767717529 41.7322767717529 41.7322767717529 41.7322767717529 41.7322767717529 46.0400640746731 41.7322767717529 41.7322767717529 41.7322767717529 41.7322767717529 41.7322767717529 46.0400640746731 41.7322767717529 41.7322767717529 37.268961509311 41.7322767717529 41.7322767717529 46.0400640746731 41.7322767717529 41.7322767717529 37.268961509311 41.7322767717529 41.7322767717529 46.0400640746731 41.7322767717529 37.268961509311 37.268961509311 37.268961509311 37.268961509311 46.0400640746731 37.268961509311 37.268961509311 37.268961509311 37.268961509311 37.268961509311 46.0400640746731 37.268961509311 37.268961509311 37.268961509311 37.268961509311 37.268961509311 19.4696088675831 37.268961509311 37.268961509311 37.268961509311 37.268961509311 37.268961509311 19.4696088675831 37.268961509311 37.268961509311 37.268961509311 37.268961509311 37.268961509311 19.4696088675831 37.268961509311 37.268961509311 37.268961509311 37.268961509311 37.268961509311 19.4696088675831 37.268961509311 37.268961509311 40.4191841767624 37.268961509311 37.268961509311 32.5907680076072 37.268961509311 37.268961509311 40.4191841767624 37.268961509311 37.268961509311 32.5907680076072 37.268961509311 40.4191841767624 40.4191841767624 40.4191841767624 40.4191841767624 32.5907680076072 40.4191841767624 40.4191841767624 40.4191841767624 40.4191841767624 40.4191841767624 32.5907680076072 40.4191841767624 40.4191841767624 40.4191841767624 40.4191841767624 40.4191841767624 32.5907680076072 40.4191841767624 40.4191841767624 40.4191841767624 40.4191841767624 40.4191841767624 32.5907680076072 40.4191841767624 40.4191841767624 40.4191841767624 40.4191841767624 40.4191841767624 32.5907680076072 40.4191841767624 40.4191841767624 40.4191841767624 40.4191841767624 40.4191841767624 30.9517481903298 40.4191841767624 40.4191841767624 40.4191841767624 40.4191841767624 40.4191841767624 30.9517481903298 40.4191841767624 40.4191841767624 29.9701415085678 40.4191841767624 29.9701415085678 30.9517481903298 40.4191841767624 29.9701415085678 29.9701415085678 29.9701415085678 29.9701415085678 30.9517481903298 29.9701415085678 29.9701415085678 29.9701415085678 29.9701415085678 29.9701415085678 30.9517481903298 29.9701415085678 29.9701415085678 29.9701415085678 29.9701415085678 29.9701415085678 30.9517481903298 29.9701415085678 29.9701415085678 29.9701415085678 29.9701415085678 29.9701415085678 30.9517481903298 29.9701415085678 29.9701415085678 29.9701415085678 29.9701415085678 29.9701415085678 30.8171687251807 29.9701415085678 29.9701415085678 29.9701415085678 29.9701415085678 29.9701415085678 30.8171687251807 29.9701415085678 29.9701415085678 29.9701415085678 29.9701415085678 29.9701415085678 30.8171687251807 29.9701415085678 29.9701415085678 23.1555379091063 29.9701415085678 23.1555379091063 30.8171687251807 23.1555379091063 23.1555379091063 23.1555379091063 23.1555379091063 23.1555379091063 30.8171687251807 23.1555379091063 23.1555379091063 23.1555379091063 23.1555379091063 23.1555379091063 30.8171687251807 23.1555379091063 23.1555379091063 23.1555379091063 23.1555379091063 23.1555379091063 30.8171687251807 23.1555379091063 23.1555379091063 23.1555379091063 23.1555379091063 23.1555379091063 30.8171687251807 23.1555379091063 23.1555379091063 23.1555379091063 23.1555379091063 23.1555379091063 22.6162213682041 23.1555379091063 23.1555379091063 23.1555379091063 23.1555379091063 23.1555379091063 22.6162213682041 23.1555379091063 23.1555379091063 23.1555379091063 23.1555379091063 23.1555379091063 22.6162213682041 23.1555379091063 26.6462121259244 23.1555379091063 23.1555379091063 26.6462121259244 22.6162213682041 26.6462121259244 26.6462121259244 26.6462121259244 23.1555379091063 26.6462121259244 22.6162213682041 26.6462121259244 26.6462121259244 26.6462121259244 26.6462121259244 26.6462121259244 22.6162213682041 26.6462121259244 26.6462121259244 26.6462121259244 26.6462121259244 26.6462121259244 22.6162213682041 26.6462121259244 26.6462121259244 26.6462121259244 26.6462121259244 26.6462121259244 18.4608442183533 26.6462121259244 26.6462121259244 26.6462121259244 26.6462121259244 26.6462121259244 18.4608442183533 26.6462121259244 26.6462121259244 26.6462121259244 26.6462121259244 26.6462121259244 18.4608442183533 26.6462121259244 49.8454975912619 26.6462121259244 26.6462121259244 49.8454975912619 18.4608442183533 26.6462121259244 49.8454975912619 26.6462121259244 26.6462121259244 49.8454975912619 18.4608442183533 49.8454975912619 49.8454975912619 49.8454975912619 49.8454975912619 49.8454975912619 18.4608442183533 49.8454975912619 49.8454975912619 49.8454975912619 49.8454975912619 49.8454975912619 18.4608442183533 49.8454975912619 49.8454975912619 49.8454975912619 49.8454975912619 49.8454975912619 18.4608442183533 49.8454975912619 49.8454975912619 49.8454975912619 49.8454975912619 49.8454975912619 20.1171021614784 49.8454975912619 49.8454975912619 49.8454975912619 49.8454975912619 49.8454975912619 20.1171021614784 49.8454975912619 38.9811152194239 49.8454975912619 49.8454975912619 49.8454975912619 20.1171021614784 49.8454975912619 38.9811152194239 49.8454975912619 49.8454975912619 38.9811152194239 20.1171021614784 38.9811152194239 38.9811152194239 49.8454975912619 49.8454975912619 38.9811152194239 20.1171021614784 38.9811152194239 38.9811152194239 49.8454975912619 38.9811152194239 38.9811152194239 20.1171021614784 38.9811152194239 38.9811152194239 38.9811152194239 38.9811152194239 38.9811152194239 20.1171021614784 38.9811152194239 38.9811152194239 38.9811152194239 38.9811152194239 38.9811152194239 21.5365706913355 38.9811152194239 38.9811152194239 38.9811152194239 38.9811152194239 38.9811152194239 21.5365706913355 38.9811152194239 38.9811152194239 38.9811152194239 38.9811152194239 38.9811152194239 21.5365706913355 56.9123375045116 38.9811152194239 38.9811152194239 21.5365706913355 56.9123375045116 38.9811152194239 38.9811152194239 21.5365706913355 56.9123375045116 38.9811152194239 38.9811152194239 21.5365706913355 56.9123375045116 38.9811152194239 56.9123375045116 37.8217528943332 56.9123375045116 56.9123375045116 56.9123375045116 37.8217528943332 56.9123375045116 56.9123375045116 37.8217528943332 56.9123375045116 56.9123375045116 37.8217528943332 56.9123375045116 56.9123375045116 37.8217528943332 56.9123375045116 56.9123375045116 37.8217528943332 56.9123375045116 56.9123375045116 NaN 56.9123375045116 56.9123375045116 NaN NaN 31.9350370596309 31.9350370596309 31.9350370596309 31.9350370596309 31.9350370596309 31.9350370596309 41.7322767717529 41.7322767717529 41.7322767717529 41.7322767717529 41.7322767717529 37.268961509311 37.268961509311 37.268961509311 37.268961509311 37.268961509311 37.268961509311 40.4191841767624 40.4191841767624 56.9123375045116 56.9123375045116 56.9123375045116 14.9310861404431 15.7060071170418 to numeric",
      "\nDuring handling of the above exception, another exception occurred:\n",
      "\u001b[0;31mValueError\u001b[0m                                Traceback (most recent call last)",
      "\u001b[0;32mC:\\Users\\Gordon\\Anaconda3\\lib\\site-packages\\pandas\\core\\nanops.py\u001b[0m in \u001b[0;36m_ensure_numeric\u001b[0;34m(x)\u001b[0m\n\u001b[1;32m    751\u001b[0m         \u001b[1;32mtry\u001b[0m\u001b[1;33m:\u001b[0m\u001b[1;33m\u001b[0m\u001b[0m\n\u001b[0;32m--> 752\u001b[0;31m             \u001b[0mx\u001b[0m \u001b[1;33m=\u001b[0m \u001b[0mfloat\u001b[0m\u001b[1;33m(\u001b[0m\u001b[0mx\u001b[0m\u001b[1;33m)\u001b[0m\u001b[1;33m\u001b[0m\u001b[0m\n\u001b[0m\u001b[1;32m    753\u001b[0m         \u001b[1;32mexcept\u001b[0m \u001b[0mException\u001b[0m\u001b[1;33m:\u001b[0m\u001b[1;33m\u001b[0m\u001b[0m\n",
      "\u001b[0;31mValueError\u001b[0m: could not convert string to float: ' 29.8386871076718 20.3218590035648 20.3218590035648 20.3218590035648 14.5756900404894 15.7060071170418 14.5756900404894 29.8386871076718 29.8386871076718 20.3218590035648 14.5756900404894 20.3218590035648 20.3218590035648 20.3218590035648 14.5756900404894 20.3218590035648 20.3218590035648 20.3218590035648 14.5756900404894 20.3218590035648 20.3218590035648 20.3218590035648 14.5756900404894 20.3218590035648 20.3218590035648 20.3218590035648 29.8386871076718 14.5756900404894 20.3218590035648 20.3218590035648 20.3218590035648 20.3218590035648 14.5756900404894 20.3218590035648 20.3218590035648 20.3218590035648 20.3218590035648 46.0400640746731 20.3218590035648 14.5756900404894 20.3218590035648 20.3218590035648 46.0400640746731 20.3218590035648 14.5756900404894 14.5756900404894 20.3218590035648 46.0400640746731 14.5756900404894 14.5756900404894 14.5756900404894 20.3218590035648 46.0400640746731 14.5756900404894 14.5756900404894 14.5756900404894 20.3218590035648 46.0400640746731 14.5756900404894 14.5756900404894 14.5756900404894 14.5756900404894 46.0400640746731 14.5756900404894 14.5756900404894 14.5756900404894 14.5756900404894 46.0400640746731 14.5756900404894 14.5756900404894 14.5756900404894 14.5756900404894 46.0400640746731 14.5756900404894 14.5756900404894 14.5756900404894 14.5756900404894 46.0400640746731 14.5756900404894 46.0400640746731 46.0400640746731 14.5756900404894 19.4696088675831 46.0400640746731 46.0400640746731 46.0400640746731 14.5756900404894 19.4696088675831 46.0400640746731 46.0400640746731 46.0400640746731 14.5756900404894 19.4696088675831 46.0400640746731 46.0400640746731 46.0400640746731 14.5756900404894 19.4696088675831 46.0400640746731 46.0400640746731 46.0400640746731 14.5756900404894 19.4696088675831 46.0400640746731 46.0400640746731 46.0400640746731 46.0400640746731 19.4696088675831 46.0400640746731 46.0400640746731 46.0400640746731 46.0400640746731 19.4696088675831 46.0400640746731 46.0400640746731 46.0400640746731 46.0400640746731 19.4696088675831 46.0400640746731 19.4696088675831 19.4696088675831 46.0400640746731 32.5907680076072 19.4696088675831 19.4696088675831 19.4696088675831 46.0400640746731 32.5907680076072 19.4696088675831 19.4696088675831 19.4696088675831 46.0400640746731 32.5907680076072 19.4696088675831 19.4696088675831 19.4696088675831 46.0400640746731 32.5907680076072 19.4696088675831 19.4696088675831 19.4696088675831 46.0400640746731 32.5907680076072 19.4696088675831 19.4696088675831 19.4696088675831 46.0400640746731 32.5907680076072 19.4696088675831 19.4696088675831 19.4696088675831 19.4696088675831 32.5907680076072 19.4696088675831 32.5907680076072 19.4696088675831 19.4696088675831 32.5907680076072 19.4696088675831 32.5907680076072 32.5907680076072 19.4696088675831 32.5907680076072 32.5907680076072 32.5907680076072 32.5907680076072 19.4696088675831 30.9517481903298 32.5907680076072 32.5907680076072 32.5907680076072 19.4696088675831 30.9517481903298 32.5907680076072 32.5907680076072 32.5907680076072 32.5907680076072 30.9517481903298 32.5907680076072 32.5907680076072 32.5907680076072 32.5907680076072 30.9517481903298 32.5907680076072 32.5907680076072 32.5907680076072 32.5907680076072 30.9517481903298 32.5907680076072 32.5907680076072 32.5907680076072 32.5907680076072 30.9517481903298 32.5907680076072 30.9517481903298 30.9517481903298 32.5907680076072 30.9517481903298 32.5907680076072 30.9517481903298 30.9517481903298 32.5907680076072 30.9517481903298 30.9517481903298 30.9517481903298 30.9517481903298 32.5907680076072 30.8171687251807 30.9517481903298 30.9517481903298 30.9517481903298 32.5907680076072 30.8171687251807 30.9517481903298 30.9517481903298 30.9517481903298 30.9517481903298 30.8171687251807 30.9517481903298 30.9517481903298 30.9517481903298 30.9517481903298 30.8171687251807 30.9517481903298 30.9517481903298 30.9517481903298 30.9517481903298 30.8171687251807 30.9517481903298 30.9517481903298 30.9517481903298 30.9517481903298 30.8171687251807 30.9517481903298 30.8171687251807 30.8171687251807 30.9517481903298 30.8171687251807 30.8171687251807 30.8171687251807 30.8171687251807 30.9517481903298 30.8171687251807 30.8171687251807 30.8171687251807 30.8171687251807 30.9517481903298 30.8171687251807 30.8171687251807 30.8171687251807 30.8171687251807 30.9517481903298 22.6162213682041 30.8171687251807 30.8171687251807 30.8171687251807 30.9517481903298 22.6162213682041 30.8171687251807 30.8171687251807 30.8171687251807 30.8171687251807 22.6162213682041 30.8171687251807 30.8171687251807 30.8171687251807 30.8171687251807 22.6162213682041 30.8171687251807 30.8171687251807 30.8171687251807 30.8171687251807 22.6162213682041 30.8171687251807 22.6162213682041 22.6162213682041 30.8171687251807 22.6162213682041 22.6162213682041 22.6162213682041 22.6162213682041 30.8171687251807 22.6162213682041 22.6162213682041 22.6162213682041 22.6162213682041 30.8171687251807 22.6162213682041 22.6162213682041 22.6162213682041 22.6162213682041 30.8171687251807 18.4608442183533 22.6162213682041 22.6162213682041 22.6162213682041 30.8171687251807 18.4608442183533 22.6162213682041 22.6162213682041 22.6162213682041 30.8171687251807 18.4608442183533 22.6162213682041 22.6162213682041 22.6162213682041 22.6162213682041 18.4608442183533 22.6162213682041 18.4608442183533 22.6162213682041 22.6162213682041 18.4608442183533 18.4608442183533 18.4608442183533 18.4608442183533 22.6162213682041 18.4608442183533 18.4608442183533 18.4608442183533 18.4608442183533 22.6162213682041 18.4608442183533 18.4608442183533 18.4608442183533 18.4608442183533 22.6162213682041 18.4608442183533 18.4608442183533 18.4608442183533 18.4608442183533 22.6162213682041 20.1171021614784 18.4608442183533 18.4608442183533 18.4608442183533 22.6162213682041 20.1171021614784 18.4608442183533 18.4608442183533 18.4608442183533 22.6162213682041 20.1171021614784 18.4608442183533 18.4608442183533 18.4608442183533 18.4608442183533 20.1171021614784 18.4608442183533 20.1171021614784 20.1171021614784 18.4608442183533 20.1171021614784 20.1171021614784 20.1171021614784 20.1171021614784 18.4608442183533 20.1171021614784 20.1171021614784 20.1171021614784 20.1171021614784 18.4608442183533 20.1171021614784 20.1171021614784 20.1171021614784 20.1171021614784 18.4608442183533 20.1171021614784 20.1171021614784 20.1171021614784 20.1171021614784 18.4608442183533 21.5365706913355 20.1171021614784 20.1171021614784 20.1171021614784 18.4608442183533 21.5365706913355 20.1171021614784 20.1171021614784 20.1171021614784 18.4608442183533 21.5365706913355 20.1171021614784 29.8386871076718 21.5365706913355 20.1171021614784 18.4608442183533 21.5365706913355 21.5365706913355 19.4696088675831 21.5365706913355 21.5365706913355 20.1171021614784 21.5365706913355 21.5365706913355 19.4696088675831 21.5365706913355 21.5365706913355 21.5365706913355 21.5365706913355 21.5365706913355 19.4696088675831 21.5365706913355 21.5365706913355 21.5365706913355 21.5365706913355 21.5365706913355 19.4696088675831 21.5365706913355 21.5365706913355 21.5365706913355 21.5365706913355 21.5365706913355 23.1555379091063 21.5365706913355 21.5365706913355 21.5365706913355 37.8217528943332 21.5365706913355 23.1555379091063 21.5365706913355 21.5365706913355 37.8217528943332 37.8217528943332 21.5365706913355 26.6462121259244 21.5365706913355 21.5365706913355 37.8217528943332 37.8217528943332 37.8217528943332 26.6462121259244 37.8217528943332 21.5365706913355 37.8217528943332 37.8217528943332 37.8217528943332 26.6462121259244 37.8217528943332 37.8217528943332 37.8217528943332 37.8217528943332 37.8217528943332 26.6462121259244 37.8217528943332 37.8217528943332 37.8217528943332 37.8217528943332 37.8217528943332 26.6462121259244 37.8217528943332 37.8217528943332 37.8217528943332 37.8217528943332 37.8217528943332 26.6462121259244 37.8217528943332 37.8217528943332 37.8217528943332 37.8217528943332 37.8217528943332 26.6462121259244 37.8217528943332 37.8217528943332 37.8217528943332 NaN 37.8217528943332 26.6462121259244 37.8217528943332 37.8217528943332 NaN NaN 37.8217528943332 49.8454975912619 37.8217528943332 37.8217528943332 NaN NaN NaN 49.8454975912619 NaN NaN NaN NaN NaN 49.8454975912619 NaN NaN NaN NaN NaN 49.8454975912619 NaN NaN NaN NaN NaN 49.8454975912619 NaN NaN NaN NaN NaN 49.8454975912619 NaN NaN NaN NaN NaN 49.8454975912619 NaN NaN NaN 31.9350370596309 NaN 49.8454975912619 NaN NaN NaN 31.9350370596309 NaN 38.9811152194239 NaN 29.8386871076718 NaN 31.9350370596309 31.9350370596309 31.9350370596309 38.9811152194239 31.9350370596309 20.3218590035648 31.9350370596309 31.9350370596309 31.9350370596309 31.9350370596309 38.9811152194239 31.9350370596309 20.3218590035648 31.9350370596309 31.9350370596309 31.9350370596309 31.9350370596309 38.9811152194239 31.9350370596309 14.5756900404894 31.9350370596309 31.9350370596309 31.9350370596309 31.9350370596309 38.9811152194239 31.9350370596309 14.5756900404894 31.9350370596309 31.9350370596309 31.9350370596309 31.9350370596309 31.9350370596309 14.5756900404894 31.9350370596309 31.9350370596309 31.9350370596309 31.9350370596309 31.9350370596309 14.5756900404894 31.9350370596309 31.9350370596309 41.7322767717529 31.9350370596309 31.9350370596309 14.5756900404894 31.9350370596309 31.9350370596309 41.7322767717529 31.9350370596309 41.7322767717529 14.5756900404894 31.9350370596309 41.7322767717529 41.7322767717529 41.7322767717529 41.7322767717529 14.5756900404894 41.7322767717529 41.7322767717529 41.7322767717529 41.7322767717529 41.7322767717529 14.5756900404894 41.7322767717529 41.7322767717529 41.7322767717529 41.7322767717529 41.7322767717529 46.0400640746731 41.7322767717529 41.7322767717529 41.7322767717529 41.7322767717529 41.7322767717529 46.0400640746731 41.7322767717529 41.7322767717529 41.7322767717529 41.7322767717529 41.7322767717529 46.0400640746731 41.7322767717529 41.7322767717529 37.268961509311 41.7322767717529 41.7322767717529 46.0400640746731 41.7322767717529 41.7322767717529 37.268961509311 41.7322767717529 41.7322767717529 46.0400640746731 41.7322767717529 37.268961509311 37.268961509311 37.268961509311 37.268961509311 46.0400640746731 37.268961509311 37.268961509311 37.268961509311 37.268961509311 37.268961509311 46.0400640746731 37.268961509311 37.268961509311 37.268961509311 37.268961509311 37.268961509311 19.4696088675831 37.268961509311 37.268961509311 37.268961509311 37.268961509311 37.268961509311 19.4696088675831 37.268961509311 37.268961509311 37.268961509311 37.268961509311 37.268961509311 19.4696088675831 37.268961509311 37.268961509311 37.268961509311 37.268961509311 37.268961509311 19.4696088675831 37.268961509311 37.268961509311 40.4191841767624 37.268961509311 37.268961509311 32.5907680076072 37.268961509311 37.268961509311 40.4191841767624 37.268961509311 37.268961509311 32.5907680076072 37.268961509311 40.4191841767624 40.4191841767624 40.4191841767624 40.4191841767624 32.5907680076072 40.4191841767624 40.4191841767624 40.4191841767624 40.4191841767624 40.4191841767624 32.5907680076072 40.4191841767624 40.4191841767624 40.4191841767624 40.4191841767624 40.4191841767624 32.5907680076072 40.4191841767624 40.4191841767624 40.4191841767624 40.4191841767624 40.4191841767624 32.5907680076072 40.4191841767624 40.4191841767624 40.4191841767624 40.4191841767624 40.4191841767624 32.5907680076072 40.4191841767624 40.4191841767624 40.4191841767624 40.4191841767624 40.4191841767624 30.9517481903298 40.4191841767624 40.4191841767624 40.4191841767624 40.4191841767624 40.4191841767624 30.9517481903298 40.4191841767624 40.4191841767624 29.9701415085678 40.4191841767624 29.9701415085678 30.9517481903298 40.4191841767624 29.9701415085678 29.9701415085678 29.9701415085678 29.9701415085678 30.9517481903298 29.9701415085678 29.9701415085678 29.9701415085678 29.9701415085678 29.9701415085678 30.9517481903298 29.9701415085678 29.9701415085678 29.9701415085678 29.9701415085678 29.9701415085678 30.9517481903298 29.9701415085678 29.9701415085678 29.9701415085678 29.9701415085678 29.9701415085678 30.9517481903298 29.9701415085678 29.9701415085678 29.9701415085678 29.9701415085678 29.9701415085678 30.8171687251807 29.9701415085678 29.9701415085678 29.9701415085678 29.9701415085678 29.9701415085678 30.8171687251807 29.9701415085678 29.9701415085678 29.9701415085678 29.9701415085678 29.9701415085678 30.8171687251807 29.9701415085678 29.9701415085678 23.1555379091063 29.9701415085678 23.1555379091063 30.8171687251807 23.1555379091063 23.1555379091063 23.1555379091063 23.1555379091063 23.1555379091063 30.8171687251807 23.1555379091063 23.1555379091063 23.1555379091063 23.1555379091063 23.1555379091063 30.8171687251807 23.1555379091063 23.1555379091063 23.1555379091063 23.1555379091063 23.1555379091063 30.8171687251807 23.1555379091063 23.1555379091063 23.1555379091063 23.1555379091063 23.1555379091063 30.8171687251807 23.1555379091063 23.1555379091063 23.1555379091063 23.1555379091063 23.1555379091063 22.6162213682041 23.1555379091063 23.1555379091063 23.1555379091063 23.1555379091063 23.1555379091063 22.6162213682041 23.1555379091063 23.1555379091063 23.1555379091063 23.1555379091063 23.1555379091063 22.6162213682041 23.1555379091063 26.6462121259244 23.1555379091063 23.1555379091063 26.6462121259244 22.6162213682041 26.6462121259244 26.6462121259244 26.6462121259244 23.1555379091063 26.6462121259244 22.6162213682041 26.6462121259244 26.6462121259244 26.6462121259244 26.6462121259244 26.6462121259244 22.6162213682041 26.6462121259244 26.6462121259244 26.6462121259244 26.6462121259244 26.6462121259244 22.6162213682041 26.6462121259244 26.6462121259244 26.6462121259244 26.6462121259244 26.6462121259244 18.4608442183533 26.6462121259244 26.6462121259244 26.6462121259244 26.6462121259244 26.6462121259244 18.4608442183533 26.6462121259244 26.6462121259244 26.6462121259244 26.6462121259244 26.6462121259244 18.4608442183533 26.6462121259244 49.8454975912619 26.6462121259244 26.6462121259244 49.8454975912619 18.4608442183533 26.6462121259244 49.8454975912619 26.6462121259244 26.6462121259244 49.8454975912619 18.4608442183533 49.8454975912619 49.8454975912619 49.8454975912619 49.8454975912619 49.8454975912619 18.4608442183533 49.8454975912619 49.8454975912619 49.8454975912619 49.8454975912619 49.8454975912619 18.4608442183533 49.8454975912619 49.8454975912619 49.8454975912619 49.8454975912619 49.8454975912619 18.4608442183533 49.8454975912619 49.8454975912619 49.8454975912619 49.8454975912619 49.8454975912619 20.1171021614784 49.8454975912619 49.8454975912619 49.8454975912619 49.8454975912619 49.8454975912619 20.1171021614784 49.8454975912619 38.9811152194239 49.8454975912619 49.8454975912619 49.8454975912619 20.1171021614784 49.8454975912619 38.9811152194239 49.8454975912619 49.8454975912619 38.9811152194239 20.1171021614784 38.9811152194239 38.9811152194239 49.8454975912619 49.8454975912619 38.9811152194239 20.1171021614784 38.9811152194239 38.9811152194239 49.8454975912619 38.9811152194239 38.9811152194239 20.1171021614784 38.9811152194239 38.9811152194239 38.9811152194239 38.9811152194239 38.9811152194239 20.1171021614784 38.9811152194239 38.9811152194239 38.9811152194239 38.9811152194239 38.9811152194239 21.5365706913355 38.9811152194239 38.9811152194239 38.9811152194239 38.9811152194239 38.9811152194239 21.5365706913355 38.9811152194239 38.9811152194239 38.9811152194239 38.9811152194239 38.9811152194239 21.5365706913355 56.9123375045116 38.9811152194239 38.9811152194239 21.5365706913355 56.9123375045116 38.9811152194239 38.9811152194239 21.5365706913355 56.9123375045116 38.9811152194239 38.9811152194239 21.5365706913355 56.9123375045116 38.9811152194239 56.9123375045116 37.8217528943332 56.9123375045116 56.9123375045116 56.9123375045116 37.8217528943332 56.9123375045116 56.9123375045116 37.8217528943332 56.9123375045116 56.9123375045116 37.8217528943332 56.9123375045116 56.9123375045116 37.8217528943332 56.9123375045116 56.9123375045116 37.8217528943332 56.9123375045116 56.9123375045116 NaN 56.9123375045116 56.9123375045116 NaN NaN 31.9350370596309 31.9350370596309 31.9350370596309 31.9350370596309 31.9350370596309 31.9350370596309 41.7322767717529 41.7322767717529 41.7322767717529 41.7322767717529 41.7322767717529 37.268961509311 37.268961509311 37.268961509311 37.268961509311 37.268961509311 37.268961509311 40.4191841767624 40.4191841767624 56.9123375045116 56.9123375045116 56.9123375045116 14.9310861404431 15.7060071170418'",
      "\nDuring handling of the above exception, another exception occurred:\n",
      "\u001b[0;31mValueError\u001b[0m                                Traceback (most recent call last)",
      "\u001b[0;32mC:\\Users\\Gordon\\Anaconda3\\lib\\site-packages\\pandas\\core\\nanops.py\u001b[0m in \u001b[0;36m_ensure_numeric\u001b[0;34m(x)\u001b[0m\n\u001b[1;32m    754\u001b[0m             \u001b[1;32mtry\u001b[0m\u001b[1;33m:\u001b[0m\u001b[1;33m\u001b[0m\u001b[0m\n\u001b[0;32m--> 755\u001b[0;31m                 \u001b[0mx\u001b[0m \u001b[1;33m=\u001b[0m \u001b[0mcomplex\u001b[0m\u001b[1;33m(\u001b[0m\u001b[0mx\u001b[0m\u001b[1;33m)\u001b[0m\u001b[1;33m\u001b[0m\u001b[0m\n\u001b[0m\u001b[1;32m    756\u001b[0m             \u001b[1;32mexcept\u001b[0m \u001b[0mException\u001b[0m\u001b[1;33m:\u001b[0m\u001b[1;33m\u001b[0m\u001b[0m\n",
      "\u001b[0;31mValueError\u001b[0m: complex() arg is a malformed string",
      "\nDuring handling of the above exception, another exception occurred:\n",
      "\u001b[0;31mTypeError\u001b[0m                                 Traceback (most recent call last)",
      "\u001b[0;32m<ipython-input-89-f821c4d9962b>\u001b[0m in \u001b[0;36m<module>\u001b[0;34m()\u001b[0m\n\u001b[1;32m      1\u001b[0m \u001b[0mevent_range\u001b[0m \u001b[1;33m=\u001b[0m \u001b[1;33m[\u001b[0m\u001b[0mi\u001b[0m \u001b[1;32mfor\u001b[0m \u001b[0mi\u001b[0m \u001b[1;32min\u001b[0m \u001b[0mchain\u001b[0m\u001b[1;33m(\u001b[0m\u001b[0mrange\u001b[0m\u001b[1;33m(\u001b[0m\u001b[1;36m1000\u001b[0m\u001b[1;33m,\u001b[0m \u001b[1;36m10000\u001b[0m\u001b[1;33m,\u001b[0m \u001b[1;36m1000\u001b[0m\u001b[1;33m)\u001b[0m\u001b[1;33m,\u001b[0m \u001b[0mrange\u001b[0m \u001b[1;33m(\u001b[0m\u001b[1;36m10000\u001b[0m\u001b[1;33m,\u001b[0m \u001b[1;36m20000\u001b[0m\u001b[1;33m,\u001b[0m \u001b[1;36m2000\u001b[0m\u001b[1;33m)\u001b[0m\u001b[1;33m)\u001b[0m\u001b[1;33m]\u001b[0m\u001b[1;33m\u001b[0m\u001b[0m\n\u001b[0;32m----> 2\u001b[0;31m \u001b[0mabcd_at_events_005_x3\u001b[0m \u001b[1;33m=\u001b[0m \u001b[1;33m[\u001b[0m\u001b[0mcalcErrorForXYCut\u001b[0m\u001b[1;33m(\u001b[0m\u001b[0mx_cut\u001b[0m \u001b[1;33m=\u001b[0m \u001b[1;36m0.05\u001b[0m\u001b[1;33m,\u001b[0m \u001b[0my_cut\u001b[0m \u001b[1;33m=\u001b[0m \u001b[1;36m0.05\u001b[0m\u001b[1;33m,\u001b[0m \u001b[0mntrials\u001b[0m\u001b[1;33m=\u001b[0m\u001b[1;36m1000\u001b[0m\u001b[1;33m,\u001b[0m \u001b[0mmin_error\u001b[0m \u001b[1;33m=\u001b[0m \u001b[1;33m-\u001b[0m\u001b[1;36m1.0\u001b[0m\u001b[1;33m,\u001b[0m \u001b[0mnevents\u001b[0m\u001b[1;33m=\u001b[0m\u001b[0me\u001b[0m\u001b[1;33m)\u001b[0m \u001b[1;32mfor\u001b[0m \u001b[0me\u001b[0m \u001b[1;32min\u001b[0m \u001b[0mevent_range\u001b[0m\u001b[1;33m]\u001b[0m\u001b[1;33m\u001b[0m\u001b[0m\n\u001b[0m",
      "\u001b[0;32m<ipython-input-89-f821c4d9962b>\u001b[0m in \u001b[0;36m<listcomp>\u001b[0;34m(.0)\u001b[0m\n\u001b[1;32m      1\u001b[0m \u001b[0mevent_range\u001b[0m \u001b[1;33m=\u001b[0m \u001b[1;33m[\u001b[0m\u001b[0mi\u001b[0m \u001b[1;32mfor\u001b[0m \u001b[0mi\u001b[0m \u001b[1;32min\u001b[0m \u001b[0mchain\u001b[0m\u001b[1;33m(\u001b[0m\u001b[0mrange\u001b[0m\u001b[1;33m(\u001b[0m\u001b[1;36m1000\u001b[0m\u001b[1;33m,\u001b[0m \u001b[1;36m10000\u001b[0m\u001b[1;33m,\u001b[0m \u001b[1;36m1000\u001b[0m\u001b[1;33m)\u001b[0m\u001b[1;33m,\u001b[0m \u001b[0mrange\u001b[0m \u001b[1;33m(\u001b[0m\u001b[1;36m10000\u001b[0m\u001b[1;33m,\u001b[0m \u001b[1;36m20000\u001b[0m\u001b[1;33m,\u001b[0m \u001b[1;36m2000\u001b[0m\u001b[1;33m)\u001b[0m\u001b[1;33m)\u001b[0m\u001b[1;33m]\u001b[0m\u001b[1;33m\u001b[0m\u001b[0m\n\u001b[0;32m----> 2\u001b[0;31m \u001b[0mabcd_at_events_005_x3\u001b[0m \u001b[1;33m=\u001b[0m \u001b[1;33m[\u001b[0m\u001b[0mcalcErrorForXYCut\u001b[0m\u001b[1;33m(\u001b[0m\u001b[0mx_cut\u001b[0m \u001b[1;33m=\u001b[0m \u001b[1;36m0.05\u001b[0m\u001b[1;33m,\u001b[0m \u001b[0my_cut\u001b[0m \u001b[1;33m=\u001b[0m \u001b[1;36m0.05\u001b[0m\u001b[1;33m,\u001b[0m \u001b[0mntrials\u001b[0m\u001b[1;33m=\u001b[0m\u001b[1;36m1000\u001b[0m\u001b[1;33m,\u001b[0m \u001b[0mmin_error\u001b[0m \u001b[1;33m=\u001b[0m \u001b[1;33m-\u001b[0m\u001b[1;36m1.0\u001b[0m\u001b[1;33m,\u001b[0m \u001b[0mnevents\u001b[0m\u001b[1;33m=\u001b[0m\u001b[0me\u001b[0m\u001b[1;33m)\u001b[0m \u001b[1;32mfor\u001b[0m \u001b[0me\u001b[0m \u001b[1;32min\u001b[0m \u001b[0mevent_range\u001b[0m\u001b[1;33m]\u001b[0m\u001b[1;33m\u001b[0m\u001b[0m\n\u001b[0m",
      "\u001b[0;32m<ipython-input-65-67e7d73d7de3>\u001b[0m in \u001b[0;36mcalcErrorForXYCut\u001b[0;34m(x_cut, y_cut, ntrials, min_error, nevents)\u001b[0m\n\u001b[1;32m      2\u001b[0m     \u001b[0mv\u001b[0m \u001b[1;33m=\u001b[0m \u001b[0mabcd_run\u001b[0m\u001b[1;33m(\u001b[0m\u001b[0mntrials\u001b[0m \u001b[1;33m=\u001b[0m \u001b[0mntrials\u001b[0m\u001b[1;33m,\u001b[0m \u001b[0mx_cut\u001b[0m \u001b[1;33m=\u001b[0m \u001b[0mx_cut\u001b[0m\u001b[1;33m,\u001b[0m \u001b[0my_cut\u001b[0m \u001b[1;33m=\u001b[0m \u001b[0my_cut\u001b[0m\u001b[1;33m,\u001b[0m \u001b[0mnevents\u001b[0m \u001b[1;33m=\u001b[0m \u001b[0mnevents\u001b[0m\u001b[1;33m,\u001b[0m \u001b[0mmin_error\u001b[0m \u001b[1;33m=\u001b[0m \u001b[0mmin_error\u001b[0m\u001b[1;33m)\u001b[0m\u001b[1;33m\u001b[0m\u001b[0m\n\u001b[1;32m      3\u001b[0m     \u001b[0mfitDataCalcA\u001b[0m \u001b[1;33m=\u001b[0m \u001b[0mfitGaus\u001b[0m\u001b[1;33m(\u001b[0m\u001b[0mv\u001b[0m\u001b[1;33m[\u001b[0m\u001b[1;34m'CalcA'\u001b[0m\u001b[1;33m]\u001b[0m\u001b[1;33m,\u001b[0m \u001b[0mplot\u001b[0m \u001b[1;33m=\u001b[0m \u001b[1;32mFalse\u001b[0m\u001b[1;33m)\u001b[0m\u001b[1;33m\u001b[0m\u001b[0m\n\u001b[0;32m----> 4\u001b[0;31m     \u001b[1;32mreturn\u001b[0m \u001b[1;33m(\u001b[0m\u001b[0mv\u001b[0m\u001b[1;33m[\u001b[0m\u001b[1;34m'A'\u001b[0m\u001b[1;33m]\u001b[0m\u001b[1;33m.\u001b[0m\u001b[0mmean\u001b[0m\u001b[1;33m(\u001b[0m\u001b[1;33m)\u001b[0m\u001b[1;33m,\u001b[0m \u001b[0mv\u001b[0m\u001b[1;33m[\u001b[0m\u001b[1;34m'CalcA StdDev'\u001b[0m\u001b[1;33m]\u001b[0m\u001b[1;33m.\u001b[0m\u001b[0mmean\u001b[0m\u001b[1;33m(\u001b[0m\u001b[1;33m)\u001b[0m\u001b[1;33m,\u001b[0m \u001b[0mabs\u001b[0m\u001b[1;33m(\u001b[0m\u001b[0mfitDataCalcA\u001b[0m\u001b[1;33m[\u001b[0m\u001b[1;36m2\u001b[0m\u001b[1;33m]\u001b[0m\u001b[1;33m)\u001b[0m\u001b[1;33m)\u001b[0m\u001b[1;33m\u001b[0m\u001b[0m\n\u001b[0m",
      "\u001b[0;32mC:\\Users\\Gordon\\Anaconda3\\lib\\site-packages\\pandas\\core\\generic.py\u001b[0m in \u001b[0;36mstat_func\u001b[0;34m(self, axis, skipna, level, numeric_only, **kwargs)\u001b[0m\n\u001b[1;32m   5630\u001b[0m                                       skipna=skipna)\n\u001b[1;32m   5631\u001b[0m         return self._reduce(f, name, axis=axis, skipna=skipna,\n\u001b[0;32m-> 5632\u001b[0;31m                             numeric_only=numeric_only)\n\u001b[0m\u001b[1;32m   5633\u001b[0m \u001b[1;33m\u001b[0m\u001b[0m\n\u001b[1;32m   5634\u001b[0m     \u001b[1;32mreturn\u001b[0m \u001b[0mset_function_name\u001b[0m\u001b[1;33m(\u001b[0m\u001b[0mstat_func\u001b[0m\u001b[1;33m,\u001b[0m \u001b[0mname\u001b[0m\u001b[1;33m,\u001b[0m \u001b[0mcls\u001b[0m\u001b[1;33m)\u001b[0m\u001b[1;33m\u001b[0m\u001b[0m\n",
      "\u001b[0;32mC:\\Users\\Gordon\\Anaconda3\\lib\\site-packages\\pandas\\core\\series.py\u001b[0m in \u001b[0;36m_reduce\u001b[0;34m(self, op, name, axis, skipna, numeric_only, filter_type, **kwds)\u001b[0m\n\u001b[1;32m   2318\u001b[0m                                           'numeric_only.'.format(name))\n\u001b[1;32m   2319\u001b[0m             \u001b[1;32mwith\u001b[0m \u001b[0mnp\u001b[0m\u001b[1;33m.\u001b[0m\u001b[0merrstate\u001b[0m\u001b[1;33m(\u001b[0m\u001b[0mall\u001b[0m\u001b[1;33m=\u001b[0m\u001b[1;34m'ignore'\u001b[0m\u001b[1;33m)\u001b[0m\u001b[1;33m:\u001b[0m\u001b[1;33m\u001b[0m\u001b[0m\n\u001b[0;32m-> 2320\u001b[0;31m                 \u001b[1;32mreturn\u001b[0m \u001b[0mop\u001b[0m\u001b[1;33m(\u001b[0m\u001b[0mdelegate\u001b[0m\u001b[1;33m,\u001b[0m \u001b[0mskipna\u001b[0m\u001b[1;33m=\u001b[0m\u001b[0mskipna\u001b[0m\u001b[1;33m,\u001b[0m \u001b[1;33m**\u001b[0m\u001b[0mkwds\u001b[0m\u001b[1;33m)\u001b[0m\u001b[1;33m\u001b[0m\u001b[0m\n\u001b[0m\u001b[1;32m   2321\u001b[0m \u001b[1;33m\u001b[0m\u001b[0m\n\u001b[1;32m   2322\u001b[0m         return delegate._reduce(op=op, name=name, axis=axis, skipna=skipna,\n",
      "\u001b[0;32mC:\\Users\\Gordon\\Anaconda3\\lib\\site-packages\\pandas\\core\\nanops.py\u001b[0m in \u001b[0;36m_f\u001b[0;34m(*args, **kwargs)\u001b[0m\n\u001b[1;32m     48\u001b[0m             \u001b[1;32mtry\u001b[0m\u001b[1;33m:\u001b[0m\u001b[1;33m\u001b[0m\u001b[0m\n\u001b[1;32m     49\u001b[0m                 \u001b[1;32mwith\u001b[0m \u001b[0mnp\u001b[0m\u001b[1;33m.\u001b[0m\u001b[0merrstate\u001b[0m\u001b[1;33m(\u001b[0m\u001b[0minvalid\u001b[0m\u001b[1;33m=\u001b[0m\u001b[1;34m'ignore'\u001b[0m\u001b[1;33m)\u001b[0m\u001b[1;33m:\u001b[0m\u001b[1;33m\u001b[0m\u001b[0m\n\u001b[0;32m---> 50\u001b[0;31m                     \u001b[1;32mreturn\u001b[0m \u001b[0mf\u001b[0m\u001b[1;33m(\u001b[0m\u001b[1;33m*\u001b[0m\u001b[0margs\u001b[0m\u001b[1;33m,\u001b[0m \u001b[1;33m**\u001b[0m\u001b[0mkwargs\u001b[0m\u001b[1;33m)\u001b[0m\u001b[1;33m\u001b[0m\u001b[0m\n\u001b[0m\u001b[1;32m     51\u001b[0m             \u001b[1;32mexcept\u001b[0m \u001b[0mValueError\u001b[0m \u001b[1;32mas\u001b[0m \u001b[0me\u001b[0m\u001b[1;33m:\u001b[0m\u001b[1;33m\u001b[0m\u001b[0m\n\u001b[1;32m     52\u001b[0m                 \u001b[1;31m# we want to transform an object array\u001b[0m\u001b[1;33m\u001b[0m\u001b[1;33m\u001b[0m\u001b[0m\n",
      "\u001b[0;32mC:\\Users\\Gordon\\Anaconda3\\lib\\site-packages\\pandas\\core\\nanops.py\u001b[0m in \u001b[0;36mf\u001b[0;34m(values, axis, skipna, **kwds)\u001b[0m\n\u001b[1;32m    107\u001b[0m             \u001b[1;32mexcept\u001b[0m \u001b[0mException\u001b[0m\u001b[1;33m:\u001b[0m\u001b[1;33m\u001b[0m\u001b[0m\n\u001b[1;32m    108\u001b[0m                 \u001b[1;32mtry\u001b[0m\u001b[1;33m:\u001b[0m\u001b[1;33m\u001b[0m\u001b[0m\n\u001b[0;32m--> 109\u001b[0;31m                     \u001b[0mresult\u001b[0m \u001b[1;33m=\u001b[0m \u001b[0malt\u001b[0m\u001b[1;33m(\u001b[0m\u001b[0mvalues\u001b[0m\u001b[1;33m,\u001b[0m \u001b[0maxis\u001b[0m\u001b[1;33m=\u001b[0m\u001b[0maxis\u001b[0m\u001b[1;33m,\u001b[0m \u001b[0mskipna\u001b[0m\u001b[1;33m=\u001b[0m\u001b[0mskipna\u001b[0m\u001b[1;33m,\u001b[0m \u001b[1;33m**\u001b[0m\u001b[0mkwds\u001b[0m\u001b[1;33m)\u001b[0m\u001b[1;33m\u001b[0m\u001b[0m\n\u001b[0m\u001b[1;32m    110\u001b[0m                 \u001b[1;32mexcept\u001b[0m \u001b[0mValueError\u001b[0m \u001b[1;32mas\u001b[0m \u001b[0me\u001b[0m\u001b[1;33m:\u001b[0m\u001b[1;33m\u001b[0m\u001b[0m\n\u001b[1;32m    111\u001b[0m                     \u001b[1;31m# we want to transform an object array\u001b[0m\u001b[1;33m\u001b[0m\u001b[1;33m\u001b[0m\u001b[0m\n",
      "\u001b[0;32mC:\\Users\\Gordon\\Anaconda3\\lib\\site-packages\\pandas\\core\\nanops.py\u001b[0m in \u001b[0;36mnanmean\u001b[0;34m(values, axis, skipna)\u001b[0m\n\u001b[1;32m    297\u001b[0m         \u001b[0mdtype_count\u001b[0m \u001b[1;33m=\u001b[0m \u001b[0mdtype\u001b[0m\u001b[1;33m\u001b[0m\u001b[0m\n\u001b[1;32m    298\u001b[0m     \u001b[0mcount\u001b[0m \u001b[1;33m=\u001b[0m \u001b[0m_get_counts\u001b[0m\u001b[1;33m(\u001b[0m\u001b[0mmask\u001b[0m\u001b[1;33m,\u001b[0m \u001b[0maxis\u001b[0m\u001b[1;33m,\u001b[0m \u001b[0mdtype\u001b[0m\u001b[1;33m=\u001b[0m\u001b[0mdtype_count\u001b[0m\u001b[1;33m)\u001b[0m\u001b[1;33m\u001b[0m\u001b[0m\n\u001b[0;32m--> 299\u001b[0;31m     \u001b[0mthe_sum\u001b[0m \u001b[1;33m=\u001b[0m \u001b[0m_ensure_numeric\u001b[0m\u001b[1;33m(\u001b[0m\u001b[0mvalues\u001b[0m\u001b[1;33m.\u001b[0m\u001b[0msum\u001b[0m\u001b[1;33m(\u001b[0m\u001b[0maxis\u001b[0m\u001b[1;33m,\u001b[0m \u001b[0mdtype\u001b[0m\u001b[1;33m=\u001b[0m\u001b[0mdtype_sum\u001b[0m\u001b[1;33m)\u001b[0m\u001b[1;33m)\u001b[0m\u001b[1;33m\u001b[0m\u001b[0m\n\u001b[0m\u001b[1;32m    300\u001b[0m \u001b[1;33m\u001b[0m\u001b[0m\n\u001b[1;32m    301\u001b[0m     \u001b[1;32mif\u001b[0m \u001b[0maxis\u001b[0m \u001b[1;32mis\u001b[0m \u001b[1;32mnot\u001b[0m \u001b[1;32mNone\u001b[0m \u001b[1;32mand\u001b[0m \u001b[0mgetattr\u001b[0m\u001b[1;33m(\u001b[0m\u001b[0mthe_sum\u001b[0m\u001b[1;33m,\u001b[0m \u001b[1;34m'ndim'\u001b[0m\u001b[1;33m,\u001b[0m \u001b[1;32mFalse\u001b[0m\u001b[1;33m)\u001b[0m\u001b[1;33m:\u001b[0m\u001b[1;33m\u001b[0m\u001b[0m\n",
      "\u001b[0;32mC:\\Users\\Gordon\\Anaconda3\\lib\\site-packages\\pandas\\core\\nanops.py\u001b[0m in \u001b[0;36m_ensure_numeric\u001b[0;34m(x)\u001b[0m\n\u001b[1;32m    755\u001b[0m                 \u001b[0mx\u001b[0m \u001b[1;33m=\u001b[0m \u001b[0mcomplex\u001b[0m\u001b[1;33m(\u001b[0m\u001b[0mx\u001b[0m\u001b[1;33m)\u001b[0m\u001b[1;33m\u001b[0m\u001b[0m\n\u001b[1;32m    756\u001b[0m             \u001b[1;32mexcept\u001b[0m \u001b[0mException\u001b[0m\u001b[1;33m:\u001b[0m\u001b[1;33m\u001b[0m\u001b[0m\n\u001b[0;32m--> 757\u001b[0;31m                 \u001b[1;32mraise\u001b[0m \u001b[0mTypeError\u001b[0m\u001b[1;33m(\u001b[0m\u001b[1;34m'Could not convert %s to numeric'\u001b[0m \u001b[1;33m%\u001b[0m \u001b[0mstr\u001b[0m\u001b[1;33m(\u001b[0m\u001b[0mx\u001b[0m\u001b[1;33m)\u001b[0m\u001b[1;33m)\u001b[0m\u001b[1;33m\u001b[0m\u001b[0m\n\u001b[0m\u001b[1;32m    758\u001b[0m     \u001b[1;32mreturn\u001b[0m \u001b[0mx\u001b[0m\u001b[1;33m\u001b[0m\u001b[0m\n\u001b[1;32m    759\u001b[0m \u001b[1;33m\u001b[0m\u001b[0m\n",
      "\u001b[0;31mTypeError\u001b[0m: Could not convert  29.8386871076718 20.3218590035648 20.3218590035648 20.3218590035648 14.5756900404894 15.7060071170418 14.5756900404894 29.8386871076718 29.8386871076718 20.3218590035648 14.5756900404894 20.3218590035648 20.3218590035648 20.3218590035648 14.5756900404894 20.3218590035648 20.3218590035648 20.3218590035648 14.5756900404894 20.3218590035648 20.3218590035648 20.3218590035648 14.5756900404894 20.3218590035648 20.3218590035648 20.3218590035648 29.8386871076718 14.5756900404894 20.3218590035648 20.3218590035648 20.3218590035648 20.3218590035648 14.5756900404894 20.3218590035648 20.3218590035648 20.3218590035648 20.3218590035648 46.0400640746731 20.3218590035648 14.5756900404894 20.3218590035648 20.3218590035648 46.0400640746731 20.3218590035648 14.5756900404894 14.5756900404894 20.3218590035648 46.0400640746731 14.5756900404894 14.5756900404894 14.5756900404894 20.3218590035648 46.0400640746731 14.5756900404894 14.5756900404894 14.5756900404894 20.3218590035648 46.0400640746731 14.5756900404894 14.5756900404894 14.5756900404894 14.5756900404894 46.0400640746731 14.5756900404894 14.5756900404894 14.5756900404894 14.5756900404894 46.0400640746731 14.5756900404894 14.5756900404894 14.5756900404894 14.5756900404894 46.0400640746731 14.5756900404894 14.5756900404894 14.5756900404894 14.5756900404894 46.0400640746731 14.5756900404894 46.0400640746731 46.0400640746731 14.5756900404894 19.4696088675831 46.0400640746731 46.0400640746731 46.0400640746731 14.5756900404894 19.4696088675831 46.0400640746731 46.0400640746731 46.0400640746731 14.5756900404894 19.4696088675831 46.0400640746731 46.0400640746731 46.0400640746731 14.5756900404894 19.4696088675831 46.0400640746731 46.0400640746731 46.0400640746731 14.5756900404894 19.4696088675831 46.0400640746731 46.0400640746731 46.0400640746731 46.0400640746731 19.4696088675831 46.0400640746731 46.0400640746731 46.0400640746731 46.0400640746731 19.4696088675831 46.0400640746731 46.0400640746731 46.0400640746731 46.0400640746731 19.4696088675831 46.0400640746731 19.4696088675831 19.4696088675831 46.0400640746731 32.5907680076072 19.4696088675831 19.4696088675831 19.4696088675831 46.0400640746731 32.5907680076072 19.4696088675831 19.4696088675831 19.4696088675831 46.0400640746731 32.5907680076072 19.4696088675831 19.4696088675831 19.4696088675831 46.0400640746731 32.5907680076072 19.4696088675831 19.4696088675831 19.4696088675831 46.0400640746731 32.5907680076072 19.4696088675831 19.4696088675831 19.4696088675831 46.0400640746731 32.5907680076072 19.4696088675831 19.4696088675831 19.4696088675831 19.4696088675831 32.5907680076072 19.4696088675831 32.5907680076072 19.4696088675831 19.4696088675831 32.5907680076072 19.4696088675831 32.5907680076072 32.5907680076072 19.4696088675831 32.5907680076072 32.5907680076072 32.5907680076072 32.5907680076072 19.4696088675831 30.9517481903298 32.5907680076072 32.5907680076072 32.5907680076072 19.4696088675831 30.9517481903298 32.5907680076072 32.5907680076072 32.5907680076072 32.5907680076072 30.9517481903298 32.5907680076072 32.5907680076072 32.5907680076072 32.5907680076072 30.9517481903298 32.5907680076072 32.5907680076072 32.5907680076072 32.5907680076072 30.9517481903298 32.5907680076072 32.5907680076072 32.5907680076072 32.5907680076072 30.9517481903298 32.5907680076072 30.9517481903298 30.9517481903298 32.5907680076072 30.9517481903298 32.5907680076072 30.9517481903298 30.9517481903298 32.5907680076072 30.9517481903298 30.9517481903298 30.9517481903298 30.9517481903298 32.5907680076072 30.8171687251807 30.9517481903298 30.9517481903298 30.9517481903298 32.5907680076072 30.8171687251807 30.9517481903298 30.9517481903298 30.9517481903298 30.9517481903298 30.8171687251807 30.9517481903298 30.9517481903298 30.9517481903298 30.9517481903298 30.8171687251807 30.9517481903298 30.9517481903298 30.9517481903298 30.9517481903298 30.8171687251807 30.9517481903298 30.9517481903298 30.9517481903298 30.9517481903298 30.8171687251807 30.9517481903298 30.8171687251807 30.8171687251807 30.9517481903298 30.8171687251807 30.8171687251807 30.8171687251807 30.8171687251807 30.9517481903298 30.8171687251807 30.8171687251807 30.8171687251807 30.8171687251807 30.9517481903298 30.8171687251807 30.8171687251807 30.8171687251807 30.8171687251807 30.9517481903298 22.6162213682041 30.8171687251807 30.8171687251807 30.8171687251807 30.9517481903298 22.6162213682041 30.8171687251807 30.8171687251807 30.8171687251807 30.8171687251807 22.6162213682041 30.8171687251807 30.8171687251807 30.8171687251807 30.8171687251807 22.6162213682041 30.8171687251807 30.8171687251807 30.8171687251807 30.8171687251807 22.6162213682041 30.8171687251807 22.6162213682041 22.6162213682041 30.8171687251807 22.6162213682041 22.6162213682041 22.6162213682041 22.6162213682041 30.8171687251807 22.6162213682041 22.6162213682041 22.6162213682041 22.6162213682041 30.8171687251807 22.6162213682041 22.6162213682041 22.6162213682041 22.6162213682041 30.8171687251807 18.4608442183533 22.6162213682041 22.6162213682041 22.6162213682041 30.8171687251807 18.4608442183533 22.6162213682041 22.6162213682041 22.6162213682041 30.8171687251807 18.4608442183533 22.6162213682041 22.6162213682041 22.6162213682041 22.6162213682041 18.4608442183533 22.6162213682041 18.4608442183533 22.6162213682041 22.6162213682041 18.4608442183533 18.4608442183533 18.4608442183533 18.4608442183533 22.6162213682041 18.4608442183533 18.4608442183533 18.4608442183533 18.4608442183533 22.6162213682041 18.4608442183533 18.4608442183533 18.4608442183533 18.4608442183533 22.6162213682041 18.4608442183533 18.4608442183533 18.4608442183533 18.4608442183533 22.6162213682041 20.1171021614784 18.4608442183533 18.4608442183533 18.4608442183533 22.6162213682041 20.1171021614784 18.4608442183533 18.4608442183533 18.4608442183533 22.6162213682041 20.1171021614784 18.4608442183533 18.4608442183533 18.4608442183533 18.4608442183533 20.1171021614784 18.4608442183533 20.1171021614784 20.1171021614784 18.4608442183533 20.1171021614784 20.1171021614784 20.1171021614784 20.1171021614784 18.4608442183533 20.1171021614784 20.1171021614784 20.1171021614784 20.1171021614784 18.4608442183533 20.1171021614784 20.1171021614784 20.1171021614784 20.1171021614784 18.4608442183533 20.1171021614784 20.1171021614784 20.1171021614784 20.1171021614784 18.4608442183533 21.5365706913355 20.1171021614784 20.1171021614784 20.1171021614784 18.4608442183533 21.5365706913355 20.1171021614784 20.1171021614784 20.1171021614784 18.4608442183533 21.5365706913355 20.1171021614784 29.8386871076718 21.5365706913355 20.1171021614784 18.4608442183533 21.5365706913355 21.5365706913355 19.4696088675831 21.5365706913355 21.5365706913355 20.1171021614784 21.5365706913355 21.5365706913355 19.4696088675831 21.5365706913355 21.5365706913355 21.5365706913355 21.5365706913355 21.5365706913355 19.4696088675831 21.5365706913355 21.5365706913355 21.5365706913355 21.5365706913355 21.5365706913355 19.4696088675831 21.5365706913355 21.5365706913355 21.5365706913355 21.5365706913355 21.5365706913355 23.1555379091063 21.5365706913355 21.5365706913355 21.5365706913355 37.8217528943332 21.5365706913355 23.1555379091063 21.5365706913355 21.5365706913355 37.8217528943332 37.8217528943332 21.5365706913355 26.6462121259244 21.5365706913355 21.5365706913355 37.8217528943332 37.8217528943332 37.8217528943332 26.6462121259244 37.8217528943332 21.5365706913355 37.8217528943332 37.8217528943332 37.8217528943332 26.6462121259244 37.8217528943332 37.8217528943332 37.8217528943332 37.8217528943332 37.8217528943332 26.6462121259244 37.8217528943332 37.8217528943332 37.8217528943332 37.8217528943332 37.8217528943332 26.6462121259244 37.8217528943332 37.8217528943332 37.8217528943332 37.8217528943332 37.8217528943332 26.6462121259244 37.8217528943332 37.8217528943332 37.8217528943332 37.8217528943332 37.8217528943332 26.6462121259244 37.8217528943332 37.8217528943332 37.8217528943332 NaN 37.8217528943332 26.6462121259244 37.8217528943332 37.8217528943332 NaN NaN 37.8217528943332 49.8454975912619 37.8217528943332 37.8217528943332 NaN NaN NaN 49.8454975912619 NaN NaN NaN NaN NaN 49.8454975912619 NaN NaN NaN NaN NaN 49.8454975912619 NaN NaN NaN NaN NaN 49.8454975912619 NaN NaN NaN NaN NaN 49.8454975912619 NaN NaN NaN NaN NaN 49.8454975912619 NaN NaN NaN 31.9350370596309 NaN 49.8454975912619 NaN NaN NaN 31.9350370596309 NaN 38.9811152194239 NaN 29.8386871076718 NaN 31.9350370596309 31.9350370596309 31.9350370596309 38.9811152194239 31.9350370596309 20.3218590035648 31.9350370596309 31.9350370596309 31.9350370596309 31.9350370596309 38.9811152194239 31.9350370596309 20.3218590035648 31.9350370596309 31.9350370596309 31.9350370596309 31.9350370596309 38.9811152194239 31.9350370596309 14.5756900404894 31.9350370596309 31.9350370596309 31.9350370596309 31.9350370596309 38.9811152194239 31.9350370596309 14.5756900404894 31.9350370596309 31.9350370596309 31.9350370596309 31.9350370596309 31.9350370596309 14.5756900404894 31.9350370596309 31.9350370596309 31.9350370596309 31.9350370596309 31.9350370596309 14.5756900404894 31.9350370596309 31.9350370596309 41.7322767717529 31.9350370596309 31.9350370596309 14.5756900404894 31.9350370596309 31.9350370596309 41.7322767717529 31.9350370596309 41.7322767717529 14.5756900404894 31.9350370596309 41.7322767717529 41.7322767717529 41.7322767717529 41.7322767717529 14.5756900404894 41.7322767717529 41.7322767717529 41.7322767717529 41.7322767717529 41.7322767717529 14.5756900404894 41.7322767717529 41.7322767717529 41.7322767717529 41.7322767717529 41.7322767717529 46.0400640746731 41.7322767717529 41.7322767717529 41.7322767717529 41.7322767717529 41.7322767717529 46.0400640746731 41.7322767717529 41.7322767717529 41.7322767717529 41.7322767717529 41.7322767717529 46.0400640746731 41.7322767717529 41.7322767717529 37.268961509311 41.7322767717529 41.7322767717529 46.0400640746731 41.7322767717529 41.7322767717529 37.268961509311 41.7322767717529 41.7322767717529 46.0400640746731 41.7322767717529 37.268961509311 37.268961509311 37.268961509311 37.268961509311 46.0400640746731 37.268961509311 37.268961509311 37.268961509311 37.268961509311 37.268961509311 46.0400640746731 37.268961509311 37.268961509311 37.268961509311 37.268961509311 37.268961509311 19.4696088675831 37.268961509311 37.268961509311 37.268961509311 37.268961509311 37.268961509311 19.4696088675831 37.268961509311 37.268961509311 37.268961509311 37.268961509311 37.268961509311 19.4696088675831 37.268961509311 37.268961509311 37.268961509311 37.268961509311 37.268961509311 19.4696088675831 37.268961509311 37.268961509311 40.4191841767624 37.268961509311 37.268961509311 32.5907680076072 37.268961509311 37.268961509311 40.4191841767624 37.268961509311 37.268961509311 32.5907680076072 37.268961509311 40.4191841767624 40.4191841767624 40.4191841767624 40.4191841767624 32.5907680076072 40.4191841767624 40.4191841767624 40.4191841767624 40.4191841767624 40.4191841767624 32.5907680076072 40.4191841767624 40.4191841767624 40.4191841767624 40.4191841767624 40.4191841767624 32.5907680076072 40.4191841767624 40.4191841767624 40.4191841767624 40.4191841767624 40.4191841767624 32.5907680076072 40.4191841767624 40.4191841767624 40.4191841767624 40.4191841767624 40.4191841767624 32.5907680076072 40.4191841767624 40.4191841767624 40.4191841767624 40.4191841767624 40.4191841767624 30.9517481903298 40.4191841767624 40.4191841767624 40.4191841767624 40.4191841767624 40.4191841767624 30.9517481903298 40.4191841767624 40.4191841767624 29.9701415085678 40.4191841767624 29.9701415085678 30.9517481903298 40.4191841767624 29.9701415085678 29.9701415085678 29.9701415085678 29.9701415085678 30.9517481903298 29.9701415085678 29.9701415085678 29.9701415085678 29.9701415085678 29.9701415085678 30.9517481903298 29.9701415085678 29.9701415085678 29.9701415085678 29.9701415085678 29.9701415085678 30.9517481903298 29.9701415085678 29.9701415085678 29.9701415085678 29.9701415085678 29.9701415085678 30.9517481903298 29.9701415085678 29.9701415085678 29.9701415085678 29.9701415085678 29.9701415085678 30.8171687251807 29.9701415085678 29.9701415085678 29.9701415085678 29.9701415085678 29.9701415085678 30.8171687251807 29.9701415085678 29.9701415085678 29.9701415085678 29.9701415085678 29.9701415085678 30.8171687251807 29.9701415085678 29.9701415085678 23.1555379091063 29.9701415085678 23.1555379091063 30.8171687251807 23.1555379091063 23.1555379091063 23.1555379091063 23.1555379091063 23.1555379091063 30.8171687251807 23.1555379091063 23.1555379091063 23.1555379091063 23.1555379091063 23.1555379091063 30.8171687251807 23.1555379091063 23.1555379091063 23.1555379091063 23.1555379091063 23.1555379091063 30.8171687251807 23.1555379091063 23.1555379091063 23.1555379091063 23.1555379091063 23.1555379091063 30.8171687251807 23.1555379091063 23.1555379091063 23.1555379091063 23.1555379091063 23.1555379091063 22.6162213682041 23.1555379091063 23.1555379091063 23.1555379091063 23.1555379091063 23.1555379091063 22.6162213682041 23.1555379091063 23.1555379091063 23.1555379091063 23.1555379091063 23.1555379091063 22.6162213682041 23.1555379091063 26.6462121259244 23.1555379091063 23.1555379091063 26.6462121259244 22.6162213682041 26.6462121259244 26.6462121259244 26.6462121259244 23.1555379091063 26.6462121259244 22.6162213682041 26.6462121259244 26.6462121259244 26.6462121259244 26.6462121259244 26.6462121259244 22.6162213682041 26.6462121259244 26.6462121259244 26.6462121259244 26.6462121259244 26.6462121259244 22.6162213682041 26.6462121259244 26.6462121259244 26.6462121259244 26.6462121259244 26.6462121259244 18.4608442183533 26.6462121259244 26.6462121259244 26.6462121259244 26.6462121259244 26.6462121259244 18.4608442183533 26.6462121259244 26.6462121259244 26.6462121259244 26.6462121259244 26.6462121259244 18.4608442183533 26.6462121259244 49.8454975912619 26.6462121259244 26.6462121259244 49.8454975912619 18.4608442183533 26.6462121259244 49.8454975912619 26.6462121259244 26.6462121259244 49.8454975912619 18.4608442183533 49.8454975912619 49.8454975912619 49.8454975912619 49.8454975912619 49.8454975912619 18.4608442183533 49.8454975912619 49.8454975912619 49.8454975912619 49.8454975912619 49.8454975912619 18.4608442183533 49.8454975912619 49.8454975912619 49.8454975912619 49.8454975912619 49.8454975912619 18.4608442183533 49.8454975912619 49.8454975912619 49.8454975912619 49.8454975912619 49.8454975912619 20.1171021614784 49.8454975912619 49.8454975912619 49.8454975912619 49.8454975912619 49.8454975912619 20.1171021614784 49.8454975912619 38.9811152194239 49.8454975912619 49.8454975912619 49.8454975912619 20.1171021614784 49.8454975912619 38.9811152194239 49.8454975912619 49.8454975912619 38.9811152194239 20.1171021614784 38.9811152194239 38.9811152194239 49.8454975912619 49.8454975912619 38.9811152194239 20.1171021614784 38.9811152194239 38.9811152194239 49.8454975912619 38.9811152194239 38.9811152194239 20.1171021614784 38.9811152194239 38.9811152194239 38.9811152194239 38.9811152194239 38.9811152194239 20.1171021614784 38.9811152194239 38.9811152194239 38.9811152194239 38.9811152194239 38.9811152194239 21.5365706913355 38.9811152194239 38.9811152194239 38.9811152194239 38.9811152194239 38.9811152194239 21.5365706913355 38.9811152194239 38.9811152194239 38.9811152194239 38.9811152194239 38.9811152194239 21.5365706913355 56.9123375045116 38.9811152194239 38.9811152194239 21.5365706913355 56.9123375045116 38.9811152194239 38.9811152194239 21.5365706913355 56.9123375045116 38.9811152194239 38.9811152194239 21.5365706913355 56.9123375045116 38.9811152194239 56.9123375045116 37.8217528943332 56.9123375045116 56.9123375045116 56.9123375045116 37.8217528943332 56.9123375045116 56.9123375045116 37.8217528943332 56.9123375045116 56.9123375045116 37.8217528943332 56.9123375045116 56.9123375045116 37.8217528943332 56.9123375045116 56.9123375045116 37.8217528943332 56.9123375045116 56.9123375045116 NaN 56.9123375045116 56.9123375045116 NaN NaN 31.9350370596309 31.9350370596309 31.9350370596309 31.9350370596309 31.9350370596309 31.9350370596309 41.7322767717529 41.7322767717529 41.7322767717529 41.7322767717529 41.7322767717529 37.268961509311 37.268961509311 37.268961509311 37.268961509311 37.268961509311 37.268961509311 40.4191841767624 40.4191841767624 56.9123375045116 56.9123375045116 56.9123375045116 14.9310861404431 15.7060071170418 to numeric"
     ]
    }
   ],
   "source": [
    "event_range = [i for i in chain(range(1000, 10000, 1000), range (10000, 20000, 2000))]\n",
    "abcd_at_events_005_x3 = [calcErrorForXYCut(x_cut = 0.05, y_cut = 0.05, ntrials=1000, min_error = -1.0, nevents=e) for e in event_range]"
   ]
  },
  {
   "cell_type": "code",
   "execution_count": 82,
   "metadata": {
    "collapsed": false
   },
   "outputs": [
    {
     "data": {
      "text/plain": [
       "[<matplotlib.lines.Line2D at 0x2cac8c01d68>]"
      ]
     },
     "execution_count": 82,
     "metadata": {},
     "output_type": "execute_result"
    },
    {
     "data": {
      "image/png": "[encoded data removed]",
      "text/plain": [
       "<matplotlib.figure.Figure at 0x2cac8c40048>"
      ]
     },
     "metadata": {},
     "output_type": "display_data"
    }
   ],
   "source": [
    "plt.plot(event_range, [l[1]/l[0] for l in abcd_at_events_005_x3])\n",
    "plt.plot(event_range, [l[2]/l[0] for l in abcd_at_events_005_x3])"
   ]
  },
  {
   "cell_type": "code",
   "execution_count": 83,
   "metadata": {
    "collapsed": false
   },
   "outputs": [
    {
     "data": {
      "text/plain": [
       "(0, 900)"
      ]
     },
     "execution_count": 83,
     "metadata": {},
     "output_type": "execute_result"
    },
    {
     "data": {
      "image/png": "[encoded data removed]",
      "text/plain": [
       "<matplotlib.figure.Figure at 0x2cac8b63160>"
      ]
     },
     "metadata": {},
     "output_type": "display_data"
    }
   ],
   "source": [
    "plt.plot(event_range, [l[0] for l in abcd_at_events_005])\n",
    "plt.ylim(0,900)"
   ]
  },
  {
   "cell_type": "markdown",
   "metadata": {},
   "source": [
    "In general, then, the gaussian follows the number of events. But note - we never go below 200 events. And I think that is definately the case in our analyses."
   ]
  },
  {
   "cell_type": "code",
   "execution_count": null,
   "metadata": {
    "collapsed": true
   },
   "outputs": [],
   "source": []
  }
 ],
 "metadata": {
  "kernelspec": {
   "display_name": "Python 3",
   "language": "python",
   "name": "python3"
  },
  "language_info": {
   "codemirror_mode": {
    "name": "ipython",
    "version": 3
   },
   "file_extension": ".py",
   "mimetype": "text/x-python",
   "name": "python",
   "nbconvert_exporter": "python",
   "pygments_lexer": "ipython3",
   "version": "3.6.0"
  }
 },
 "nbformat": 4,
 "nbformat_minor": 2
}
