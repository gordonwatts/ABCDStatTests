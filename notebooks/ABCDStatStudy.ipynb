{
 "cells": [
  {
   "cell_type": "markdown",
   "metadata": {},
   "source": [
    "# Introduction"
   ]
  },
  {
   "cell_type": "markdown",
   "metadata": {},
   "source": [
    "Understanding systematic and statistical errors from the ABCD method is difficult. Currently, most analyses take several arbitrary control regions and use the worst of those control regions to determine the overal systematic error. We attempt to better understand how errors work in this work.\n",
    "\n",
    "* We first show a simple run to become familiar with the standard method of error propagation used by most analyses.\n",
    "* As we vary the area of the A plane, we show how the standard error propagation fairs as a function of the size of the region A.\n",
    "\n",
    "The ABCD method is a two-variable background method. The two variables should be uncorrelated, and lay out a plane. A cut is made along each axis and that determines the regions A, B, C, and D. For this work, the layout of ABCD starts with A in the upper left, and then counts out region B in the upper right, C in the lower left, and D in the lower right. For this study it is assumed that the x and y variables are both 0 to 1."
   ]
  },
  {
   "cell_type": "markdown",
   "metadata": {},
   "source": [
    "# Configuration"
   ]
  },
  {
   "cell_type": "markdown",
   "metadata": {},
   "source": [
    "We are using matplotlib to make plots. Allow them to appear inline."
   ]
  },
  {
   "cell_type": "code",
   "execution_count": 1,
   "metadata": {
    "collapsed": true
   },
   "outputs": [],
   "source": [
    "%matplotlib inline"
   ]
  },
  {
   "cell_type": "markdown",
   "metadata": {},
   "source": [
    "The code used to fill the ABCD plane is a small console program written in C#, which runs in parallel (to fill all your CPU's!), called ABCDTester. This is the relative location of the program that we can then run."
   ]
  },
  {
   "cell_type": "code",
   "execution_count": 2,
   "metadata": {
    "collapsed": true
   },
   "outputs": [],
   "source": [
    "ABCDTesterPath=\"C:\\\\Users\\\\Gordon\\\\Documents\\\\Code\\\\ABCDStatTests\\\\ABCDTester\\\\bin\\\\Release\\\\ABCDTester.exe\""
   ]
  },
  {
   "cell_type": "markdown",
   "metadata": {},
   "source": [
    "# Utilities"
   ]
  },
  {
   "cell_type": "markdown",
   "metadata": {},
   "source": [
    "Make running the ABCDTester code easy from within this notebook"
   ]
  },
  {
   "cell_type": "code",
   "execution_count": 26,
   "metadata": {
    "collapsed": false
   },
   "outputs": [],
   "source": [
    "import os\n",
    "import pandas as pd\n",
    "def abcd_run(nevents = 100000, ntrials=20000, x_cut = 0.5, y_cut = 0.5):\n",
    "    cmd = '%s --NEvents %d --NTrials %d --XCut %f --YCut %f --MinError 0.005 > run.txt' % (ABCDTesterPath, nevents, ntrials, x_cut, y_cut)\n",
    "    if os.system(cmd) != 0:\n",
    "        raise RuntimeError (\"Unable to run %s\" % cmd)\n",
    "    v = pd.read_csv(\"run.txt\")\n",
    "    os.unlink(\"run.txt\")\n",
    "    return v"
   ]
  },
  {
   "cell_type": "markdown",
   "metadata": {},
   "source": [
    "We will be doing a bunch of Gaussian fitting, so make it easy (return A (normalization), mu (average), and sigma (width)"
   ]
  },
  {
   "cell_type": "code",
   "execution_count": 46,
   "metadata": {
    "collapsed": true
   },
   "outputs": [],
   "source": [
    "from scipy.optimize import curve_fit\n",
    "import matplotlib.pyplot as plt\n",
    "import numpy\n",
    "\n",
    "def gauss(x, A, mu, sigma):\n",
    "    # Fit function\n",
    "    #A, mu, sigma = p\n",
    "    return A*numpy.exp(-(x-mu)**2/(2.*sigma**2))\n",
    "\n",
    "def fitGaus(data, plot = True):\n",
    "    # First, bin the data\n",
    "    hist, bin_edges = numpy.histogram(data, density = False, bins='auto')\n",
    "    bin_centers = (bin_edges[:-1] + bin_edges[1:])/2\n",
    "\n",
    "    p0 = [1., data.mean(), 100.]\n",
    "    coeff, var_matrix = curve_fit(gauss, bin_centers, hist, p0=p0)\n",
    "    \n",
    "    # Plot both the data and the curve\n",
    "    if plot:\n",
    "        hist_fit = gauss(bin_centers, *coeff)\n",
    "        plt.plot(bin_centers, hist, label='Test data')\n",
    "        plt.plot(bin_centers, hist_fit, label='Fitted data')\n",
    "        plt.show()\n",
    "\n",
    "    return coeff"
   ]
  },
  {
   "cell_type": "markdown",
   "metadata": {},
   "source": [
    "# Simple Single Run"
   ]
  },
  {
   "cell_type": "markdown",
   "metadata": {},
   "source": [
    "Run 10K trials with 100K events, with a cut in the middle so we can explore the output of the program"
   ]
  },
  {
   "cell_type": "code",
   "execution_count": 35,
   "metadata": {
    "collapsed": true
   },
   "outputs": [],
   "source": [
    "simple = abcd_run(ntrials = 20000, x_cut = 0.5, y_cut = 0.5)"
   ]
  },
  {
   "cell_type": "code",
   "execution_count": 36,
   "metadata": {
    "collapsed": false
   },
   "outputs": [
    {
     "data": {
      "text/html": [
       "<div>\n",
       "<table border=\"1\" class=\"dataframe\">\n",
       "  <thead>\n",
       "    <tr style=\"text-align: right;\">\n",
       "      <th></th>\n",
       "      <th>A</th>\n",
       "      <th>B</th>\n",
       "      <th>C</th>\n",
       "      <th>D</th>\n",
       "      <th>CalcA</th>\n",
       "      <th>CalcA StdDev</th>\n",
       "    </tr>\n",
       "  </thead>\n",
       "  <tbody>\n",
       "    <tr>\n",
       "      <th>0</th>\n",
       "      <td>24992</td>\n",
       "      <td>24878</td>\n",
       "      <td>25058</td>\n",
       "      <td>25072</td>\n",
       "      <td>24864.108328</td>\n",
       "      <td>272.359839</td>\n",
       "    </tr>\n",
       "    <tr>\n",
       "      <th>1</th>\n",
       "      <td>25030</td>\n",
       "      <td>24834</td>\n",
       "      <td>24890</td>\n",
       "      <td>25246</td>\n",
       "      <td>24483.809712</td>\n",
       "      <td>268.267471</td>\n",
       "    </tr>\n",
       "    <tr>\n",
       "      <th>2</th>\n",
       "      <td>24967</td>\n",
       "      <td>25171</td>\n",
       "      <td>24925</td>\n",
       "      <td>24937</td>\n",
       "      <td>25158.887396</td>\n",
       "      <td>275.544006</td>\n",
       "    </tr>\n",
       "    <tr>\n",
       "      <th>3</th>\n",
       "      <td>25164</td>\n",
       "      <td>25067</td>\n",
       "      <td>24808</td>\n",
       "      <td>24961</td>\n",
       "      <td>24913.350266</td>\n",
       "      <td>273.213436</td>\n",
       "    </tr>\n",
       "    <tr>\n",
       "      <th>4</th>\n",
       "      <td>25145</td>\n",
       "      <td>24955</td>\n",
       "      <td>24935</td>\n",
       "      <td>24965</td>\n",
       "      <td>24925.012017</td>\n",
       "      <td>273.304183</td>\n",
       "    </tr>\n",
       "    <tr>\n",
       "      <th>5</th>\n",
       "      <td>25002</td>\n",
       "      <td>24804</td>\n",
       "      <td>25132</td>\n",
       "      <td>25062</td>\n",
       "      <td>24873.279387</td>\n",
       "      <td>272.481108</td>\n",
       "    </tr>\n",
       "    <tr>\n",
       "      <th>6</th>\n",
       "      <td>24927</td>\n",
       "      <td>25142</td>\n",
       "      <td>25048</td>\n",
       "      <td>24883</td>\n",
       "      <td>25308.717438</td>\n",
       "      <td>277.110821</td>\n",
       "    </tr>\n",
       "    <tr>\n",
       "      <th>7</th>\n",
       "      <td>25125</td>\n",
       "      <td>24714</td>\n",
       "      <td>25091</td>\n",
       "      <td>25070</td>\n",
       "      <td>24734.701795</td>\n",
       "      <td>271.187706</td>\n",
       "    </tr>\n",
       "    <tr>\n",
       "      <th>8</th>\n",
       "      <td>25179</td>\n",
       "      <td>24735</td>\n",
       "      <td>24818</td>\n",
       "      <td>25268</td>\n",
       "      <td>24294.492243</td>\n",
       "      <td>266.462658</td>\n",
       "    </tr>\n",
       "    <tr>\n",
       "      <th>9</th>\n",
       "      <td>24930</td>\n",
       "      <td>25007</td>\n",
       "      <td>24932</td>\n",
       "      <td>25131</td>\n",
       "      <td>24808.981895</td>\n",
       "      <td>271.643503</td>\n",
       "    </tr>\n",
       "    <tr>\n",
       "      <th>10</th>\n",
       "      <td>25061</td>\n",
       "      <td>24948</td>\n",
       "      <td>25109</td>\n",
       "      <td>24882</td>\n",
       "      <td>25175.602122</td>\n",
       "      <td>275.899131</td>\n",
       "    </tr>\n",
       "    <tr>\n",
       "      <th>11</th>\n",
       "      <td>25265</td>\n",
       "      <td>25128</td>\n",
       "      <td>24661</td>\n",
       "      <td>24946</td>\n",
       "      <td>24840.920709</td>\n",
       "      <td>272.608803</td>\n",
       "    </tr>\n",
       "    <tr>\n",
       "      <th>12</th>\n",
       "      <td>25172</td>\n",
       "      <td>25156</td>\n",
       "      <td>24733</td>\n",
       "      <td>24939</td>\n",
       "      <td>24948.207546</td>\n",
       "      <td>273.614396</td>\n",
       "    </tr>\n",
       "    <tr>\n",
       "      <th>13</th>\n",
       "      <td>25049</td>\n",
       "      <td>24967</td>\n",
       "      <td>24794</td>\n",
       "      <td>25190</td>\n",
       "      <td>24574.505677</td>\n",
       "      <td>269.293866</td>\n",
       "    </tr>\n",
       "    <tr>\n",
       "      <th>14</th>\n",
       "      <td>25068</td>\n",
       "      <td>25100</td>\n",
       "      <td>24825</td>\n",
       "      <td>25007</td>\n",
       "      <td>24917.323150</td>\n",
       "      <td>273.082283</td>\n",
       "    </tr>\n",
       "    <tr>\n",
       "      <th>15</th>\n",
       "      <td>25073</td>\n",
       "      <td>25305</td>\n",
       "      <td>24937</td>\n",
       "      <td>24685</td>\n",
       "      <td>25563.329350</td>\n",
       "      <td>280.183149</td>\n",
       "    </tr>\n",
       "    <tr>\n",
       "      <th>16</th>\n",
       "      <td>25130</td>\n",
       "      <td>25010</td>\n",
       "      <td>24958</td>\n",
       "      <td>24902</td>\n",
       "      <td>25066.242872</td>\n",
       "      <td>274.825647</td>\n",
       "    </tr>\n",
       "    <tr>\n",
       "      <th>17</th>\n",
       "      <td>25208</td>\n",
       "      <td>24815</td>\n",
       "      <td>24937</td>\n",
       "      <td>25040</td>\n",
       "      <td>24712.925519</td>\n",
       "      <td>271.094557</td>\n",
       "    </tr>\n",
       "    <tr>\n",
       "      <th>18</th>\n",
       "      <td>24882</td>\n",
       "      <td>24951</td>\n",
       "      <td>25114</td>\n",
       "      <td>25053</td>\n",
       "      <td>25011.751647</td>\n",
       "      <td>273.775715</td>\n",
       "    </tr>\n",
       "    <tr>\n",
       "      <th>19</th>\n",
       "      <td>24870</td>\n",
       "      <td>24928</td>\n",
       "      <td>25067</td>\n",
       "      <td>25135</td>\n",
       "      <td>24860.560016</td>\n",
       "      <td>272.099686</td>\n",
       "    </tr>\n",
       "    <tr>\n",
       "      <th>20</th>\n",
       "      <td>24920</td>\n",
       "      <td>24941</td>\n",
       "      <td>24976</td>\n",
       "      <td>25163</td>\n",
       "      <td>24755.649803</td>\n",
       "      <td>271.042090</td>\n",
       "    </tr>\n",
       "    <tr>\n",
       "      <th>21</th>\n",
       "      <td>24918</td>\n",
       "      <td>25031</td>\n",
       "      <td>25056</td>\n",
       "      <td>24995</td>\n",
       "      <td>25092.087858</td>\n",
       "      <td>274.720049</td>\n",
       "    </tr>\n",
       "    <tr>\n",
       "      <th>22</th>\n",
       "      <td>24945</td>\n",
       "      <td>24943</td>\n",
       "      <td>25026</td>\n",
       "      <td>25086</td>\n",
       "      <td>24883.342023</td>\n",
       "      <td>272.484211</td>\n",
       "    </tr>\n",
       "    <tr>\n",
       "      <th>23</th>\n",
       "      <td>25176</td>\n",
       "      <td>24985</td>\n",
       "      <td>24842</td>\n",
       "      <td>24997</td>\n",
       "      <td>24830.074409</td>\n",
       "      <td>272.320634</td>\n",
       "    </tr>\n",
       "    <tr>\n",
       "      <th>24</th>\n",
       "      <td>25108</td>\n",
       "      <td>24850</td>\n",
       "      <td>24998</td>\n",
       "      <td>25044</td>\n",
       "      <td>24804.356333</td>\n",
       "      <td>271.915456</td>\n",
       "    </tr>\n",
       "    <tr>\n",
       "      <th>25</th>\n",
       "      <td>25225</td>\n",
       "      <td>24912</td>\n",
       "      <td>25059</td>\n",
       "      <td>24804</td>\n",
       "      <td>25168.110305</td>\n",
       "      <td>276.119747</td>\n",
       "    </tr>\n",
       "    <tr>\n",
       "      <th>26</th>\n",
       "      <td>25034</td>\n",
       "      <td>24921</td>\n",
       "      <td>24974</td>\n",
       "      <td>25071</td>\n",
       "      <td>24824.580352</td>\n",
       "      <td>272.002153</td>\n",
       "    </tr>\n",
       "    <tr>\n",
       "      <th>27</th>\n",
       "      <td>24867</td>\n",
       "      <td>25292</td>\n",
       "      <td>24879</td>\n",
       "      <td>24962</td>\n",
       "      <td>25207.902732</td>\n",
       "      <td>275.901190</td>\n",
       "    </tr>\n",
       "    <tr>\n",
       "      <th>28</th>\n",
       "      <td>24939</td>\n",
       "      <td>24988</td>\n",
       "      <td>25079</td>\n",
       "      <td>24994</td>\n",
       "      <td>25072.979595</td>\n",
       "      <td>274.549481</td>\n",
       "    </tr>\n",
       "    <tr>\n",
       "      <th>29</th>\n",
       "      <td>24858</td>\n",
       "      <td>25119</td>\n",
       "      <td>25053</td>\n",
       "      <td>24970</td>\n",
       "      <td>25202.495274</td>\n",
       "      <td>275.819336</td>\n",
       "    </tr>\n",
       "    <tr>\n",
       "      <th>...</th>\n",
       "      <td>...</td>\n",
       "      <td>...</td>\n",
       "      <td>...</td>\n",
       "      <td>...</td>\n",
       "      <td>...</td>\n",
       "      <td>...</td>\n",
       "    </tr>\n",
       "    <tr>\n",
       "      <th>19970</th>\n",
       "      <td>24880</td>\n",
       "      <td>25034</td>\n",
       "      <td>25108</td>\n",
       "      <td>24978</td>\n",
       "      <td>25164.291456</td>\n",
       "      <td>275.441359</td>\n",
       "    </tr>\n",
       "    <tr>\n",
       "      <th>19971</th>\n",
       "      <td>24799</td>\n",
       "      <td>25167</td>\n",
       "      <td>24967</td>\n",
       "      <td>25067</td>\n",
       "      <td>25066.601069</td>\n",
       "      <td>274.225098</td>\n",
       "    </tr>\n",
       "    <tr>\n",
       "      <th>19972</th>\n",
       "      <td>24754</td>\n",
       "      <td>25246</td>\n",
       "      <td>25034</td>\n",
       "      <td>24966</td>\n",
       "      <td>25314.762637</td>\n",
       "      <td>276.858780</td>\n",
       "    </tr>\n",
       "    <tr>\n",
       "      <th>19973</th>\n",
       "      <td>25080</td>\n",
       "      <td>25013</td>\n",
       "      <td>25101</td>\n",
       "      <td>24806</td>\n",
       "      <td>25310.461703</td>\n",
       "      <td>277.413616</td>\n",
       "    </tr>\n",
       "    <tr>\n",
       "      <th>19974</th>\n",
       "      <td>24987</td>\n",
       "      <td>24966</td>\n",
       "      <td>24917</td>\n",
       "      <td>25130</td>\n",
       "      <td>24754.390052</td>\n",
       "      <td>271.149054</td>\n",
       "    </tr>\n",
       "    <tr>\n",
       "      <th>19975</th>\n",
       "      <td>25065</td>\n",
       "      <td>24978</td>\n",
       "      <td>24873</td>\n",
       "      <td>25084</td>\n",
       "      <td>24767.891644</td>\n",
       "      <td>271.437921</td>\n",
       "    </tr>\n",
       "    <tr>\n",
       "      <th>19976</th>\n",
       "      <td>24891</td>\n",
       "      <td>24907</td>\n",
       "      <td>25197</td>\n",
       "      <td>25005</td>\n",
       "      <td>25098.247510</td>\n",
       "      <td>274.741130</td>\n",
       "    </tr>\n",
       "    <tr>\n",
       "      <th>19977</th>\n",
       "      <td>25200</td>\n",
       "      <td>24856</td>\n",
       "      <td>25065</td>\n",
       "      <td>24879</td>\n",
       "      <td>25041.828048</td>\n",
       "      <td>274.687904</td>\n",
       "    </tr>\n",
       "    <tr>\n",
       "      <th>19978</th>\n",
       "      <td>25072</td>\n",
       "      <td>24942</td>\n",
       "      <td>24997</td>\n",
       "      <td>24989</td>\n",
       "      <td>24949.984953</td>\n",
       "      <td>273.444805</td>\n",
       "    </tr>\n",
       "    <tr>\n",
       "      <th>19979</th>\n",
       "      <td>24907</td>\n",
       "      <td>25101</td>\n",
       "      <td>25072</td>\n",
       "      <td>24920</td>\n",
       "      <td>25254.104013</td>\n",
       "      <td>276.474881</td>\n",
       "    </tr>\n",
       "    <tr>\n",
       "      <th>19980</th>\n",
       "      <td>25075</td>\n",
       "      <td>25163</td>\n",
       "      <td>25008</td>\n",
       "      <td>24754</td>\n",
       "      <td>25421.196736</td>\n",
       "      <td>278.620961</td>\n",
       "    </tr>\n",
       "    <tr>\n",
       "      <th>19981</th>\n",
       "      <td>25011</td>\n",
       "      <td>24953</td>\n",
       "      <td>24972</td>\n",
       "      <td>25064</td>\n",
       "      <td>24861.407437</td>\n",
       "      <td>272.363559</td>\n",
       "    </tr>\n",
       "    <tr>\n",
       "      <th>19982</th>\n",
       "      <td>24895</td>\n",
       "      <td>24938</td>\n",
       "      <td>25240</td>\n",
       "      <td>24927</td>\n",
       "      <td>25251.138123</td>\n",
       "      <td>276.423553</td>\n",
       "    </tr>\n",
       "    <tr>\n",
       "      <th>19983</th>\n",
       "      <td>25207</td>\n",
       "      <td>24925</td>\n",
       "      <td>24989</td>\n",
       "      <td>24879</td>\n",
       "      <td>25035.203384</td>\n",
       "      <td>274.626608</td>\n",
       "    </tr>\n",
       "    <tr>\n",
       "      <th>19984</th>\n",
       "      <td>25018</td>\n",
       "      <td>25093</td>\n",
       "      <td>24987</td>\n",
       "      <td>24902</td>\n",
       "      <td>25178.651956</td>\n",
       "      <td>275.852764</td>\n",
       "    </tr>\n",
       "    <tr>\n",
       "      <th>19985</th>\n",
       "      <td>25253</td>\n",
       "      <td>24913</td>\n",
       "      <td>24944</td>\n",
       "      <td>24890</td>\n",
       "      <td>24967.049900</td>\n",
       "      <td>273.962911</td>\n",
       "    </tr>\n",
       "    <tr>\n",
       "      <th>19986</th>\n",
       "      <td>25020</td>\n",
       "      <td>24897</td>\n",
       "      <td>25053</td>\n",
       "      <td>25030</td>\n",
       "      <td>24919.877787</td>\n",
       "      <td>273.021024</td>\n",
       "    </tr>\n",
       "    <tr>\n",
       "      <th>19987</th>\n",
       "      <td>25051</td>\n",
       "      <td>24957</td>\n",
       "      <td>24910</td>\n",
       "      <td>25082</td>\n",
       "      <td>24785.857188</td>\n",
       "      <td>271.608969</td>\n",
       "    </tr>\n",
       "    <tr>\n",
       "      <th>19988</th>\n",
       "      <td>25032</td>\n",
       "      <td>25018</td>\n",
       "      <td>25164</td>\n",
       "      <td>24786</td>\n",
       "      <td>25399.538126</td>\n",
       "      <td>278.302783</td>\n",
       "    </tr>\n",
       "    <tr>\n",
       "      <th>19989</th>\n",
       "      <td>25080</td>\n",
       "      <td>24940</td>\n",
       "      <td>25048</td>\n",
       "      <td>24932</td>\n",
       "      <td>25056.037221</td>\n",
       "      <td>274.622255</td>\n",
       "    </tr>\n",
       "    <tr>\n",
       "      <th>19990</th>\n",
       "      <td>25137</td>\n",
       "      <td>24845</td>\n",
       "      <td>25074</td>\n",
       "      <td>24944</td>\n",
       "      <td>24974.484044</td>\n",
       "      <td>273.833912</td>\n",
       "    </tr>\n",
       "    <tr>\n",
       "      <th>19991</th>\n",
       "      <td>24814</td>\n",
       "      <td>25073</td>\n",
       "      <td>25055</td>\n",
       "      <td>25058</td>\n",
       "      <td>25069.998204</td>\n",
       "      <td>274.288177</td>\n",
       "    </tr>\n",
       "    <tr>\n",
       "      <th>19992</th>\n",
       "      <td>24918</td>\n",
       "      <td>25195</td>\n",
       "      <td>24881</td>\n",
       "      <td>25006</td>\n",
       "      <td>25069.055227</td>\n",
       "      <td>274.471385</td>\n",
       "    </tr>\n",
       "    <tr>\n",
       "      <th>19993</th>\n",
       "      <td>24846</td>\n",
       "      <td>25070</td>\n",
       "      <td>25097</td>\n",
       "      <td>24987</td>\n",
       "      <td>25180.365390</td>\n",
       "      <td>275.554807</td>\n",
       "    </tr>\n",
       "    <tr>\n",
       "      <th>19994</th>\n",
       "      <td>25139</td>\n",
       "      <td>24872</td>\n",
       "      <td>24993</td>\n",
       "      <td>24996</td>\n",
       "      <td>24869.014882</td>\n",
       "      <td>272.679940</td>\n",
       "    </tr>\n",
       "    <tr>\n",
       "      <th>19995</th>\n",
       "      <td>25257</td>\n",
       "      <td>25032</td>\n",
       "      <td>24812</td>\n",
       "      <td>24899</td>\n",
       "      <td>24944.535283</td>\n",
       "      <td>273.724877</td>\n",
       "    </tr>\n",
       "    <tr>\n",
       "      <th>19996</th>\n",
       "      <td>24967</td>\n",
       "      <td>25050</td>\n",
       "      <td>25138</td>\n",
       "      <td>24845</td>\n",
       "      <td>25345.417589</td>\n",
       "      <td>277.587428</td>\n",
       "    </tr>\n",
       "    <tr>\n",
       "      <th>19997</th>\n",
       "      <td>24880</td>\n",
       "      <td>25139</td>\n",
       "      <td>24896</td>\n",
       "      <td>25085</td>\n",
       "      <td>24949.593143</td>\n",
       "      <td>273.093083</td>\n",
       "    </tr>\n",
       "    <tr>\n",
       "      <th>19998</th>\n",
       "      <td>25013</td>\n",
       "      <td>24836</td>\n",
       "      <td>25036</td>\n",
       "      <td>25115</td>\n",
       "      <td>24757.877603</td>\n",
       "      <td>271.235468</td>\n",
       "    </tr>\n",
       "    <tr>\n",
       "      <th>19999</th>\n",
       "      <td>25153</td>\n",
       "      <td>24990</td>\n",
       "      <td>24818</td>\n",
       "      <td>25039</td>\n",
       "      <td>24769.432485</td>\n",
       "      <td>271.614688</td>\n",
       "    </tr>\n",
       "  </tbody>\n",
       "</table>\n",
       "<p>20000 rows × 6 columns</p>\n",
       "</div>"
      ],
      "text/plain": [
       "           A      B      C      D         CalcA  CalcA StdDev\n",
       "0      24992  24878  25058  25072  24864.108328    272.359839\n",
       "1      25030  24834  24890  25246  24483.809712    268.267471\n",
       "2      24967  25171  24925  24937  25158.887396    275.544006\n",
       "3      25164  25067  24808  24961  24913.350266    273.213436\n",
       "4      25145  24955  24935  24965  24925.012017    273.304183\n",
       "5      25002  24804  25132  25062  24873.279387    272.481108\n",
       "6      24927  25142  25048  24883  25308.717438    277.110821\n",
       "7      25125  24714  25091  25070  24734.701795    271.187706\n",
       "8      25179  24735  24818  25268  24294.492243    266.462658\n",
       "9      24930  25007  24932  25131  24808.981895    271.643503\n",
       "10     25061  24948  25109  24882  25175.602122    275.899131\n",
       "11     25265  25128  24661  24946  24840.920709    272.608803\n",
       "12     25172  25156  24733  24939  24948.207546    273.614396\n",
       "13     25049  24967  24794  25190  24574.505677    269.293866\n",
       "14     25068  25100  24825  25007  24917.323150    273.082283\n",
       "15     25073  25305  24937  24685  25563.329350    280.183149\n",
       "16     25130  25010  24958  24902  25066.242872    274.825647\n",
       "17     25208  24815  24937  25040  24712.925519    271.094557\n",
       "18     24882  24951  25114  25053  25011.751647    273.775715\n",
       "19     24870  24928  25067  25135  24860.560016    272.099686\n",
       "20     24920  24941  24976  25163  24755.649803    271.042090\n",
       "21     24918  25031  25056  24995  25092.087858    274.720049\n",
       "22     24945  24943  25026  25086  24883.342023    272.484211\n",
       "23     25176  24985  24842  24997  24830.074409    272.320634\n",
       "24     25108  24850  24998  25044  24804.356333    271.915456\n",
       "25     25225  24912  25059  24804  25168.110305    276.119747\n",
       "26     25034  24921  24974  25071  24824.580352    272.002153\n",
       "27     24867  25292  24879  24962  25207.902732    275.901190\n",
       "28     24939  24988  25079  24994  25072.979595    274.549481\n",
       "29     24858  25119  25053  24970  25202.495274    275.819336\n",
       "...      ...    ...    ...    ...           ...           ...\n",
       "19970  24880  25034  25108  24978  25164.291456    275.441359\n",
       "19971  24799  25167  24967  25067  25066.601069    274.225098\n",
       "19972  24754  25246  25034  24966  25314.762637    276.858780\n",
       "19973  25080  25013  25101  24806  25310.461703    277.413616\n",
       "19974  24987  24966  24917  25130  24754.390052    271.149054\n",
       "19975  25065  24978  24873  25084  24767.891644    271.437921\n",
       "19976  24891  24907  25197  25005  25098.247510    274.741130\n",
       "19977  25200  24856  25065  24879  25041.828048    274.687904\n",
       "19978  25072  24942  24997  24989  24949.984953    273.444805\n",
       "19979  24907  25101  25072  24920  25254.104013    276.474881\n",
       "19980  25075  25163  25008  24754  25421.196736    278.620961\n",
       "19981  25011  24953  24972  25064  24861.407437    272.363559\n",
       "19982  24895  24938  25240  24927  25251.138123    276.423553\n",
       "19983  25207  24925  24989  24879  25035.203384    274.626608\n",
       "19984  25018  25093  24987  24902  25178.651956    275.852764\n",
       "19985  25253  24913  24944  24890  24967.049900    273.962911\n",
       "19986  25020  24897  25053  25030  24919.877787    273.021024\n",
       "19987  25051  24957  24910  25082  24785.857188    271.608969\n",
       "19988  25032  25018  25164  24786  25399.538126    278.302783\n",
       "19989  25080  24940  25048  24932  25056.037221    274.622255\n",
       "19990  25137  24845  25074  24944  24974.484044    273.833912\n",
       "19991  24814  25073  25055  25058  25069.998204    274.288177\n",
       "19992  24918  25195  24881  25006  25069.055227    274.471385\n",
       "19993  24846  25070  25097  24987  25180.365390    275.554807\n",
       "19994  25139  24872  24993  24996  24869.014882    272.679940\n",
       "19995  25257  25032  24812  24899  24944.535283    273.724877\n",
       "19996  24967  25050  25138  24845  25345.417589    277.587428\n",
       "19997  24880  25139  24896  25085  24949.593143    273.093083\n",
       "19998  25013  24836  25036  25115  24757.877603    271.235468\n",
       "19999  25153  24990  24818  25039  24769.432485    271.614688\n",
       "\n",
       "[20000 rows x 6 columns]"
      ]
     },
     "execution_count": 36,
     "metadata": {},
     "output_type": "execute_result"
    }
   ],
   "source": [
    "simple"
   ]
  },
  {
   "cell_type": "markdown",
   "metadata": {},
   "source": [
    "Since the event placement is done by a flat random number generator, we should expect a gaussian with with sqrt(N) for regions A...D. Lets look just at A."
   ]
  },
  {
   "cell_type": "code",
   "execution_count": 37,
   "metadata": {
    "collapsed": false
   },
   "outputs": [
    {
     "data": {
      "text/plain": [
       "A               25000.688400\n",
       "B               24997.944600\n",
       "C               24999.102250\n",
       "D               25002.264750\n",
       "CalcA           24995.778868\n",
       "CalcA StdDev      273.819843\n",
       "dtype: float64"
      ]
     },
     "execution_count": 37,
     "metadata": {},
     "output_type": "execute_result"
    }
   ],
   "source": [
    "simple.mean()"
   ]
  },
  {
   "cell_type": "markdown",
   "metadata": {},
   "source": [
    "Note that the calculated A is the same as A itself on average. The StdDev column is the simple statistical error propagation of the relation BC/D (assuming all errors are sqrt(N) and guassian)."
   ]
  },
  {
   "cell_type": "code",
   "execution_count": 38,
   "metadata": {
    "collapsed": false
   },
   "outputs": [
    {
     "data": {
      "text/plain": [
       "A               136.127285\n",
       "B               136.959935\n",
       "C               136.821380\n",
       "D               136.855309\n",
       "CalcA           261.872681\n",
       "CalcA StdDev      2.836841\n",
       "dtype: float64"
      ]
     },
     "execution_count": 38,
     "metadata": {},
     "output_type": "execute_result"
    }
   ],
   "source": [
    "simple.std()"
   ]
  },
  {
   "cell_type": "code",
   "execution_count": 39,
   "metadata": {
    "collapsed": false
   },
   "outputs": [
    {
     "data": {
      "text/plain": [
       "158.11605990537456"
      ]
     },
     "execution_count": 39,
     "metadata": {},
     "output_type": "execute_result"
    }
   ],
   "source": [
    "import math\n",
    "math.sqrt(simple.mean()['A'])"
   ]
  },
  {
   "cell_type": "markdown",
   "metadata": {},
   "source": [
    "I do not understand why these are different.\n",
    "\n",
    "Histogram and fit these"
   ]
  },
  {
   "cell_type": "code",
   "execution_count": 47,
   "metadata": {
    "collapsed": false
   },
   "outputs": [
    {
     "data": {
      "image/png": "[encoded data removed]",
      "text/plain": [
       "<matplotlib.figure.Figure at 0x2c7a5044748>"
      ]
     },
     "metadata": {},
     "output_type": "display_data"
    },
    {
     "data": {
      "text/plain": [
       "array([   783.11320741,  25000.17118158,   -137.54684413])"
      ]
     },
     "execution_count": 47,
     "metadata": {},
     "output_type": "execute_result"
    }
   ],
   "source": [
    "fitGaus(simple['A'])"
   ]
  },
  {
   "cell_type": "markdown",
   "metadata": {},
   "source": [
    "Look at the difference between A and the calculated A."
   ]
  },
  {
   "cell_type": "code",
   "execution_count": 41,
   "metadata": {
    "collapsed": false
   },
   "outputs": [
    {
     "data": {
      "image/png": "[encoded data removed]",
      "text/plain": [
       "<matplotlib.figure.Figure at 0x2c7a5001f28>"
      ]
     },
     "metadata": {},
     "output_type": "display_data"
    },
    {
     "data": {
      "text/plain": [
       "array([ 788.9558169 ,   11.22306193, -314.59221529])"
      ]
     },
     "execution_count": 41,
     "metadata": {},
     "output_type": "execute_result"
    }
   ],
   "source": [
    "fitGaus(simple['A']-simple['CalcA'])"
   ]
  },
  {
   "cell_type": "markdown",
   "metadata": {},
   "source": [
    "The 311 width here should be compared to the mean of the calculated standard deveation above (273 when I ran this). Do not know what is at the root of the discrepancy here."
   ]
  },
  {
   "cell_type": "markdown",
   "metadata": {},
   "source": [
    "# Behavior as a function of size of A"
   ]
  },
  {
   "cell_type": "markdown",
   "metadata": {},
   "source": [
    "The above was for a single cut point, at 0.5 and 0.5. Now, lets look at the size of the error and the difference in the side of the error as a function of the cut point.\n",
    "\n",
    "First job is to define a function that will return the basic information for each run: the number in A, the calculated number in A, as a function of the a x,y cut"
   ]
  },
  {
   "cell_type": "code",
   "execution_count": 69,
   "metadata": {
    "collapsed": false
   },
   "outputs": [],
   "source": [
    "def calcErrorForXYCut(x_cut = 0.5, y_cut = 0.5, ntrials = 10000):\n",
    "    v = abcd_run(ntrials = ntrials, x_cut = x_cut, y_cut = y_cut)\n",
    "    fitDataCalcA = fitGaus(v['CalcA'], plot = False)\n",
    "    return (v['A'].mean(), v['CalcA StdDev'].mean(), abs(fitDataCalcA[2]))"
   ]
  },
  {
   "cell_type": "markdown",
   "metadata": {},
   "source": [
    "How many trials should we use in order to get a decent understanding of the error?"
   ]
  },
  {
   "cell_type": "code",
   "execution_count": 72,
   "metadata": {
    "collapsed": true
   },
   "outputs": [],
   "source": [
    "trial_series = range(500, 20001, 500)\n",
    "errors = [calcErrorForXYCut(ntrials = i)[2] for i in trial_series]"
   ]
  },
  {
   "cell_type": "code",
   "execution_count": 73,
   "metadata": {
    "collapsed": false
   },
   "outputs": [
    {
     "data": {
      "text/plain": [
       "[<matplotlib.lines.Line2D at 0x2c7a456dc88>]"
      ]
     },
     "execution_count": 73,
     "metadata": {},
     "output_type": "execute_result"
    },
    {
     "data": {
      "image/png": "[encoded data removed]",
      "text/plain": [
       "<matplotlib.figure.Figure at 0x2c7a44a2278>"
      ]
     },
     "metadata": {},
     "output_type": "display_data"
    }
   ],
   "source": [
    "plt.plot(trial_series,errors)"
   ]
  },
  {
   "cell_type": "markdown",
   "metadata": {},
   "source": [
    "Tells you we should stick around 10,000 trials - and the system has noise of about 20 counts or so. Which is... odd. Lets look at the same thing for the propagated error."
   ]
  },
  {
   "cell_type": "code",
   "execution_count": 74,
   "metadata": {
    "collapsed": false
   },
   "outputs": [
    {
     "data": {
      "text/plain": [
       "[<matplotlib.lines.Line2D at 0x2c7a4d13d30>]"
      ]
     },
     "execution_count": 74,
     "metadata": {},
     "output_type": "execute_result"
    },
    {
     "data": {
      "image/png": "[encoded data removed]",
      "text/plain": [
       "<matplotlib.figure.Figure at 0x2c7a47c3860>"
      ]
     },
     "metadata": {},
     "output_type": "display_data"
    }
   ],
   "source": [
    "errors = [calcErrorForXYCut(ntrials = i)[1] for i in trial_series]\n",
    "plt.plot(trial_series,errors)"
   ]
  },
  {
   "cell_type": "markdown",
   "metadata": {},
   "source": [
    "Here it is very stable by the time we hit about 5000. It would be interesting to know if there was something up with the binning that was causing this noise above.\n",
    "\n",
    "Lets look at the behavior of the errors as a function of the x/y cut when they are run together."
   ]
  },
  {
   "cell_type": "code",
   "execution_count": 77,
   "metadata": {
    "collapsed": false
   },
   "outputs": [],
   "source": [
    "cut_values = range(1, 20)\n",
    "abcd_at_cuts = [calcErrorForXYCut(x_cut = c*0.05, y_cut = c*0.05, ntrials=10000) for c in cut_values]"
   ]
  },
  {
   "cell_type": "code",
   "execution_count": 79,
   "metadata": {
    "collapsed": false
   },
   "outputs": [
    {
     "data": {
      "text/plain": [
       "[<matplotlib.lines.Line2D at 0x2c7a4865d30>]"
      ]
     },
     "execution_count": 79,
     "metadata": {},
     "output_type": "execute_result"
    },
    {
     "data": {
      "image/png": "[encoded data removed]",
      "text/plain": [
       "<matplotlib.figure.Figure at 0x2c7a4fba9e8>"
      ]
     },
     "metadata": {},
     "output_type": "display_data"
    }
   ],
   "source": [
    "plt.plot(cut_values, [v[2] for v in abcd_at_cuts])"
   ]
  },
  {
   "cell_type": "code",
   "execution_count": 80,
   "metadata": {
    "collapsed": false
   },
   "outputs": [
    {
     "data": {
      "text/plain": [
       "[<matplotlib.lines.Line2D at 0x2c7a4ec8b70>]"
      ]
     },
     "execution_count": 80,
     "metadata": {},
     "output_type": "execute_result"
    },
    {
     "data": {
      "image/png": "[encoded data removed]",
      "text/plain": [
       "<matplotlib.figure.Figure at 0x2c7a48ec128>"
      ]
     },
     "metadata": {},
     "output_type": "display_data"
    }
   ],
   "source": [
    "plt.plot(cut_values, [v[1] for v in abcd_at_cuts])"
   ]
  },
  {
   "cell_type": "code",
   "execution_count": 81,
   "metadata": {
    "collapsed": false
   },
   "outputs": [
    {
     "data": {
      "text/plain": [
       "[<matplotlib.lines.Line2D at 0x2c7a4df5dd8>]"
      ]
     },
     "execution_count": 81,
     "metadata": {},
     "output_type": "execute_result"
    },
    {
     "data": {
      "image/png": "[encoded data removed]",
      "text/plain": [
       "<matplotlib.figure.Figure at 0x2c7a4eca908>"
      ]
     },
     "metadata": {},
     "output_type": "display_data"
    }
   ],
   "source": [
    "plt.plot(cut_values, [v[2]-v[1] for v in abcd_at_cuts])"
   ]
  },
  {
   "cell_type": "markdown",
   "metadata": {},
   "source": [
    "There is no real difference as a function fo the ABCD cut value. This is good - so we can use standard error propagation and trust that it gets it right."
   ]
  },
  {
   "cell_type": "code",
   "execution_count": null,
   "metadata": {
    "collapsed": true
   },
   "outputs": [],
   "source": []
  }
 ],
 "metadata": {
  "kernelspec": {
   "display_name": "Python 3",
   "language": "python",
   "name": "python3"
  },
  "language_info": {
   "codemirror_mode": {
    "name": "ipython",
    "version": 3
   },
   "file_extension": ".py",
   "mimetype": "text/x-python",
   "name": "python",
   "nbconvert_exporter": "python",
   "pygments_lexer": "ipython3",
   "version": "3.6.0"
  }
 },
 "nbformat": 4,
 "nbformat_minor": 2
}
